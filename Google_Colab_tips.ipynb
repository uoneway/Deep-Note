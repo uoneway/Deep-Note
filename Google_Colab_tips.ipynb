{
  "nbformat": 4,
  "nbformat_minor": 0,
  "metadata": {
    "colab": {
      "name": "Google Colab_tips.ipynb",
      "provenance": [],
      "toc_visible": true,
      "authorship_tag": "ABX9TyP7zHYSollYrnMjue34OsZD",
      "include_colab_link": true
    },
    "kernelspec": {
      "name": "python3",
      "display_name": "Python 3"
    }
  },
  "cells": [
    {
      "cell_type": "markdown",
      "metadata": {
        "id": "view-in-github",
        "colab_type": "text"
      },
      "source": [
        "<a href=\"https://colab.research.google.com/github/uoneway/python-note/blob/master/Google_Colab_tips.ipynb\" target=\"_parent\"><img src=\"https://colab.research.google.com/assets/colab-badge.svg\" alt=\"Open In Colab\"/></a>"
      ]
    },
    {
      "cell_type": "markdown",
      "metadata": {
        "id": "PnFTSZRYKs3y",
        "colab_type": "text"
      },
      "source": [
        ""
      ]
    },
    {
      "cell_type": "markdown",
      "metadata": {
        "id": "ltEJNX0GxHUg",
        "colab_type": "text"
      },
      "source": [
        "## Google Colaboratory 이란?\n",
        "### 왜 Colab을 사용해야 하는가? \n",
        "- Google Colab = Jupyter Notebook + **GPU**\n",
        "- 링크만으로 접근 / 협업 가능\n",
        "- 자주 사용하는 DL 관련 모듈이 기본 설치되어 있음\n",
        "\n",
        "### 단점\n",
        "- 실행중에 창을 꺼도 계속 실행됨.   \n",
        "단 아무것도 안 하는 idle 상태 돌입 이후 90분에 런타임 자동으로 shutdown\n",
        "- GPU는 *연속*으로 최대 12시간을 지원   \n",
        "그 이후에도 런타임 재시작으로 VM 교체 후 이용 가능하나 변수 및 초기화됨 -> 구글드라이브 연동 필!\n",
        "- 코드 실행 시 딜레이 존재"
      ]
    },
    {
      "cell_type": "code",
      "metadata": {
        "id": "GJKk4bTbKT8V",
        "colab_type": "code",
        "colab": {}
      },
      "source": [
        "# 기본으로 깔려있는 라이브러리 목록 확인하기\n",
        "!pip list"
      ],
      "execution_count": null,
      "outputs": []
    },
    {
      "cell_type": "markdown",
      "metadata": {
        "id": "XsuzHl0owx-B",
        "colab_type": "text"
      },
      "source": [
        "## 이용하기 기본\n",
        "- https://colab.research.google.com 접속"
      ]
    },
    {
      "cell_type": "markdown",
      "metadata": {
        "id": "z_l4k3U6yUZN",
        "colab_type": "text"
      },
      "source": [
        "#### GPU 설정하기\n",
        "- 런타임 -> 런타임 유형 변경 -> 하드웨어 가속기를 GPU로 변경 "
      ]
    },
    {
      "cell_type": "code",
      "metadata": {
        "id": "Uc8zDldRuQPz",
        "colab_type": "code",
        "colab": {
          "base_uri": "https://localhost:8080/",
          "height": 127
        },
        "outputId": "8c4d269a-5a6c-47ad-c8f6-1513e5f1e358"
      },
      "source": [
        "import tensorflow as tf\n",
        "print(tf.__version__)\n",
        "print(tf.config.list_physical_devices('GPU'))\n",
        "print(tf.test.gpu_device_name())\n",
        "!nvidia-smi"
      ],
      "execution_count": null,
      "outputs": [
        {
          "output_type": "stream",
          "text": [
            "2.2.0\n",
            "[]\n",
            "\n",
            "NVIDIA-SMI has failed because it couldn't communicate with the NVIDIA driver. Make sure that the latest NVIDIA driver is installed and running.\n",
            "\n"
          ],
          "name": "stdout"
        }
      ]
    },
    {
      "cell_type": "markdown",
      "metadata": {
        "id": "WI1Hqf5WwfVp",
        "colab_type": "text"
      },
      "source": [
        "#### 구글 드라이브 연동\n",
        "- 자신의 구글 드라이브를 연동하여 중간 결과를 저장하거나 데이터를 불러오는데 이용\n",
        "- 요즘 많은 대학교에서 졸업생에게까지 구글드라이브 무제한 서비스를 제공하고 있으니 찾아보길 바람"
      ]
    },
    {
      "cell_type": "code",
      "metadata": {
        "id": "51MF1KzIuQM3",
        "colab_type": "code",
        "colab": {}
      },
      "source": [
        "from google.colab import drive\n",
        "drive.mount('/content/drive')\n",
        "\n",
        "# data를 저장할 폴더 입니다. 환경에 맞게 수정 하세요.\n",
        "data_dir_path = \"/content/drive/My Drive/Colab/NLP/data\""
      ],
      "execution_count": null,
      "outputs": []
    },
    {
      "cell_type": "markdown",
      "metadata": {
        "id": "PzwWXuYluscJ",
        "colab_type": "text"
      },
      "source": [
        "### 단축키\n",
        "편집모드를 빠져나온 후 실행\n",
        "- 코드 셀 생성 – A(B)\n",
        "- 코드 셀 실행 \n",
        "    – Ctrl+Enter\n",
        "    - Shift+Enter\n",
        "    - 드래그 후 Ctrl + Shift + Enter\n",
        "- 셀 복사 – Ctrl+M C,   (V, X)\n",
        "- 셀 삭제 – Ctrl+M D\n",
        "\n",
        "- 코드(텍스트) 셀로 변환 – Ctrl+M Y(M)\n",
        "\n",
        "- 마지막 셀 작업 실행취소 – Ctrl+Shift+Z\n",
        "- 실행중인 셀 중단 – Ctrl+M I\n",
        "- 런타임 다시 시작 – Ctrl+M ."
      ]
    },
    {
      "cell_type": "markdown",
      "metadata": {
        "id": "vVX1QxzdwctL",
        "colab_type": "text"
      },
      "source": [
        "### 터미널 명령어 실행하기\n",
        "앞에 `!`를 붙이고 터미널 명령어를 넣어주면 됨\n",
        "- 예외로 cd 명령어는 %cd /your/desired/path\n"
      ]
    },
    {
      "cell_type": "code",
      "metadata": {
        "id": "qWVn_esOuQSs",
        "colab_type": "code",
        "colab": {
          "base_uri": "https://localhost:8080/",
          "height": 127
        },
        "outputId": "ac180abd-baa0-42a8-de3c-fec69186b7ea"
      },
      "source": [
        "!pip install sentencepiece"
      ],
      "execution_count": null,
      "outputs": [
        {
          "output_type": "stream",
          "text": [
            "Collecting sentencepiece\n",
            "\u001b[?25l  Downloading https://files.pythonhosted.org/packages/d4/a4/d0a884c4300004a78cca907a6ff9a5e9fe4f090f5d95ab341c53d28cbc58/sentencepiece-0.1.91-cp36-cp36m-manylinux1_x86_64.whl (1.1MB)\n",
            "\r\u001b[K     |▎                               | 10kB 16.5MB/s eta 0:00:01\r\u001b[K     |▋                               | 20kB 1.7MB/s eta 0:00:01\r\u001b[K     |█                               | 30kB 2.2MB/s eta 0:00:01\r\u001b[K     |█▏                              | 40kB 2.5MB/s eta 0:00:01\r\u001b[K     |█▌                              | 51kB 2.0MB/s eta 0:00:01\r\u001b[K     |█▉                              | 61kB 2.3MB/s eta 0:00:01\r\u001b[K     |██▏                             | 71kB 2.5MB/s eta 0:00:01\r\u001b[K     |██▍                             | 81kB 2.7MB/s eta 0:00:01\r\u001b[K     |██▊                             | 92kB 2.9MB/s eta 0:00:01\r\u001b[K     |███                             | 102kB 2.8MB/s eta 0:00:01\r\u001b[K     |███▍                            | 112kB 2.8MB/s eta 0:00:01\r\u001b[K     |███▋                            | 122kB 2.8MB/s eta 0:00:01\r\u001b[K     |████                            | 133kB 2.8MB/s eta 0:00:01\r\u001b[K     |████▎                           | 143kB 2.8MB/s eta 0:00:01\r\u001b[K     |████▋                           | 153kB 2.8MB/s eta 0:00:01\r\u001b[K     |████▉                           | 163kB 2.8MB/s eta 0:00:01\r\u001b[K     |█████▏                          | 174kB 2.8MB/s eta 0:00:01\r\u001b[K     |█████▌                          | 184kB 2.8MB/s eta 0:00:01\r\u001b[K     |█████▉                          | 194kB 2.8MB/s eta 0:00:01\r\u001b[K     |██████                          | 204kB 2.8MB/s eta 0:00:01\r\u001b[K     |██████▍                         | 215kB 2.8MB/s eta 0:00:01\r\u001b[K     |██████▊                         | 225kB 2.8MB/s eta 0:00:01\r\u001b[K     |███████                         | 235kB 2.8MB/s eta 0:00:01\r\u001b[K     |███████▎                        | 245kB 2.8MB/s eta 0:00:01\r\u001b[K     |███████▋                        | 256kB 2.8MB/s eta 0:00:01\r\u001b[K     |████████                        | 266kB 2.8MB/s eta 0:00:01\r\u001b[K     |████████▎                       | 276kB 2.8MB/s eta 0:00:01\r\u001b[K     |████████▌                       | 286kB 2.8MB/s eta 0:00:01\r\u001b[K     |████████▉                       | 296kB 2.8MB/s eta 0:00:01\r\u001b[K     |█████████▏                      | 307kB 2.8MB/s eta 0:00:01\r\u001b[K     |█████████▌                      | 317kB 2.8MB/s eta 0:00:01\r\u001b[K     |█████████▊                      | 327kB 2.8MB/s eta 0:00:01\r\u001b[K     |██████████                      | 337kB 2.8MB/s eta 0:00:01\r\u001b[K     |██████████▍                     | 348kB 2.8MB/s eta 0:00:01\r\u001b[K     |██████████▊                     | 358kB 2.8MB/s eta 0:00:01\r\u001b[K     |███████████                     | 368kB 2.8MB/s eta 0:00:01\r\u001b[K     |███████████▎                    | 378kB 2.8MB/s eta 0:00:01\r\u001b[K     |███████████▋                    | 389kB 2.8MB/s eta 0:00:01\r\u001b[K     |████████████                    | 399kB 2.8MB/s eta 0:00:01\r\u001b[K     |████████████▏                   | 409kB 2.8MB/s eta 0:00:01\r\u001b[K     |████████████▌                   | 419kB 2.8MB/s eta 0:00:01\r\u001b[K     |████████████▉                   | 430kB 2.8MB/s eta 0:00:01\r\u001b[K     |█████████████▏                  | 440kB 2.8MB/s eta 0:00:01\r\u001b[K     |█████████████▍                  | 450kB 2.8MB/s eta 0:00:01\r\u001b[K     |█████████████▊                  | 460kB 2.8MB/s eta 0:00:01\r\u001b[K     |██████████████                  | 471kB 2.8MB/s eta 0:00:01\r\u001b[K     |██████████████▍                 | 481kB 2.8MB/s eta 0:00:01\r\u001b[K     |██████████████▋                 | 491kB 2.8MB/s eta 0:00:01\r\u001b[K     |███████████████                 | 501kB 2.8MB/s eta 0:00:01\r\u001b[K     |███████████████▎                | 512kB 2.8MB/s eta 0:00:01\r\u001b[K     |███████████████▋                | 522kB 2.8MB/s eta 0:00:01\r\u001b[K     |███████████████▉                | 532kB 2.8MB/s eta 0:00:01\r\u001b[K     |████████████████▏               | 542kB 2.8MB/s eta 0:00:01\r\u001b[K     |████████████████▌               | 552kB 2.8MB/s eta 0:00:01\r\u001b[K     |████████████████▉               | 563kB 2.8MB/s eta 0:00:01\r\u001b[K     |█████████████████               | 573kB 2.8MB/s eta 0:00:01\r\u001b[K     |█████████████████▍              | 583kB 2.8MB/s eta 0:00:01\r\u001b[K     |█████████████████▊              | 593kB 2.8MB/s eta 0:00:01\r\u001b[K     |██████████████████              | 604kB 2.8MB/s eta 0:00:01\r\u001b[K     |██████████████████▎             | 614kB 2.8MB/s eta 0:00:01\r\u001b[K     |██████████████████▋             | 624kB 2.8MB/s eta 0:00:01\r\u001b[K     |███████████████████             | 634kB 2.8MB/s eta 0:00:01\r\u001b[K     |███████████████████▎            | 645kB 2.8MB/s eta 0:00:01\r\u001b[K     |███████████████████▌            | 655kB 2.8MB/s eta 0:00:01\r\u001b[K     |███████████████████▉            | 665kB 2.8MB/s eta 0:00:01\r\u001b[K     |████████████████████▏           | 675kB 2.8MB/s eta 0:00:01\r\u001b[K     |████████████████████▌           | 686kB 2.8MB/s eta 0:00:01\r\u001b[K     |████████████████████▊           | 696kB 2.8MB/s eta 0:00:01\r\u001b[K     |█████████████████████           | 706kB 2.8MB/s eta 0:00:01\r\u001b[K     |█████████████████████▍          | 716kB 2.8MB/s eta 0:00:01\r\u001b[K     |█████████████████████▋          | 727kB 2.8MB/s eta 0:00:01\r\u001b[K     |██████████████████████          | 737kB 2.8MB/s eta 0:00:01\r\u001b[K     |██████████████████████▎         | 747kB 2.8MB/s eta 0:00:01\r\u001b[K     |██████████████████████▋         | 757kB 2.8MB/s eta 0:00:01\r\u001b[K     |██████████████████████▉         | 768kB 2.8MB/s eta 0:00:01\r\u001b[K     |███████████████████████▏        | 778kB 2.8MB/s eta 0:00:01\r\u001b[K     |███████████████████████▌        | 788kB 2.8MB/s eta 0:00:01\r\u001b[K     |███████████████████████▉        | 798kB 2.8MB/s eta 0:00:01\r\u001b[K     |████████████████████████        | 808kB 2.8MB/s eta 0:00:01\r\u001b[K     |████████████████████████▍       | 819kB 2.8MB/s eta 0:00:01\r\u001b[K     |████████████████████████▊       | 829kB 2.8MB/s eta 0:00:01\r\u001b[K     |█████████████████████████       | 839kB 2.8MB/s eta 0:00:01\r\u001b[K     |█████████████████████████▎      | 849kB 2.8MB/s eta 0:00:01\r\u001b[K     |█████████████████████████▋      | 860kB 2.8MB/s eta 0:00:01\r\u001b[K     |██████████████████████████      | 870kB 2.8MB/s eta 0:00:01\r\u001b[K     |██████████████████████████▎     | 880kB 2.8MB/s eta 0:00:01\r\u001b[K     |██████████████████████████▌     | 890kB 2.8MB/s eta 0:00:01\r\u001b[K     |██████████████████████████▉     | 901kB 2.8MB/s eta 0:00:01\r\u001b[K     |███████████████████████████▏    | 911kB 2.8MB/s eta 0:00:01\r\u001b[K     |███████████████████████████▌    | 921kB 2.8MB/s eta 0:00:01\r\u001b[K     |███████████████████████████▊    | 931kB 2.8MB/s eta 0:00:01\r\u001b[K     |████████████████████████████    | 942kB 2.8MB/s eta 0:00:01\r\u001b[K     |████████████████████████████▍   | 952kB 2.8MB/s eta 0:00:01\r\u001b[K     |████████████████████████████▊   | 962kB 2.8MB/s eta 0:00:01\r\u001b[K     |█████████████████████████████   | 972kB 2.8MB/s eta 0:00:01\r\u001b[K     |█████████████████████████████▎  | 983kB 2.8MB/s eta 0:00:01\r\u001b[K     |█████████████████████████████▋  | 993kB 2.8MB/s eta 0:00:01\r\u001b[K     |██████████████████████████████  | 1.0MB 2.8MB/s eta 0:00:01\r\u001b[K     |██████████████████████████████▏ | 1.0MB 2.8MB/s eta 0:00:01\r\u001b[K     |██████████████████████████████▌ | 1.0MB 2.8MB/s eta 0:00:01\r\u001b[K     |██████████████████████████████▉ | 1.0MB 2.8MB/s eta 0:00:01\r\u001b[K     |███████████████████████████████▏| 1.0MB 2.8MB/s eta 0:00:01\r\u001b[K     |███████████████████████████████▍| 1.1MB 2.8MB/s eta 0:00:01\r\u001b[K     |███████████████████████████████▊| 1.1MB 2.8MB/s eta 0:00:01\r\u001b[K     |████████████████████████████████| 1.1MB 2.8MB/s \n",
            "\u001b[?25hInstalling collected packages: sentencepiece\n",
            "Successfully installed sentencepiece-0.1.91\n"
          ],
          "name": "stdout"
        }
      ]
    },
    {
      "cell_type": "markdown",
      "metadata": {
        "id": "4QSQ4ezAxeUO",
        "colab_type": "text"
      },
      "source": [
        "### 기타 Tips\n",
        "- 별도로 저장하지 않아도 자동 저장됨   \n",
        "(물론 다른 사람이 공유해준 것을 저장하려면 본인 `드라이브에 사본저장` 해줘야함\n",
        "- *Github에 사본저장*으로 colab 파일을 github에 바로 업로드 할 수 있음\n",
        "\n"
      ]
    },
    {
      "cell_type": "markdown",
      "metadata": {
        "id": "_XXsm4VktOXF",
        "colab_type": "text"
      },
      "source": [
        "https://amitness.com/2020/06/google-colaboratory-tips/?fbclid=IwAR3Gl6zSJpMm-LoH37c_5hbdUvZgifJ5dqYLF4RvbvHABPsFk6RJVa5K6Dc\n",
        "\n",
        "- 2. 셀 실행에 걸린 시간 보기\n",
        "실행 이후, 플레이버튼에 마우스를 올려놓으면 확인 가능\n",
        "- 6. 깃헙의 ipynb 파일을 코랩에서 열기\n",
        "크롬 익스텐션 설치\n",
        "깃헙의 원하는 ipynb 파일에 접근 후, 익스텐션 클릭\n",
        "\n",
        "- 기타 \n",
        "    - 11. 인터렉티브 쉘 실행하기\n",
        "셀에 \"!bash\" 라고 실행하면, 출력화면에서 shell로의 세션이 연결되어, 직접적으로 인터렉션이 가능\n",
        "    - 13. \"Open in Colab\" 뱃지\n",
        "깃헙에서, \"Open in Colab\" 뱃지를 단 저장소를 많이 볼 수 있는데, 이를 만드는 방법\n",
        "특정 URL 주소가 들어간 그림 링크가 필요함\n",
        "    - 15. conda 환경 설정하기\n",
        "아나콘다 가상 환경을 만들고, activate 하기 위한 방법\n",
        "    - 16. 로컬환경에서 Colab 노트북을 CLI로 관리하는 방법\n",
        "colab-cli 라는 라이브러리를 이용해서, 노트북을 gdrive로 업로드, 업로드된 노트북을 즉각적으로 colab으로 열 수 있는 링크 생성 등이 가능\n",
        "\n"
      ]
    },
    {
      "cell_type": "markdown",
      "metadata": {
        "id": "vS_txXsmxorK",
        "colab_type": "text"
      },
      "source": [
        "## 참고: 마크다운(Markdown) 문법\n",
        "###  제목\n",
        "- *기울임*\n",
        "- **볼드체**\n",
        "- `코드표현`\n",
        "    - 목록 depth 주기 tab\n",
        "\n",
        "1. 숫자 목록\n",
        "2. 숫자 목록\n",
        "\n",
        "> 인용표시는 `<` 로 합니다\n",
        "\n",
        "### 줄바꿈하기\n",
        "줄 바꿈하려면 문장 끝 SPACE 3개 이상 넣어줘야 함    \n",
        "그래야 줄바꿈됩니다.\n",
        "\n",
        "이렇게 하면 줄바꿈 안돼요\n",
        "알겠죠?\n",
        "\n"
      ]
    },
    {
      "cell_type": "code",
      "metadata": {
        "id": "DLrVCRi64KG0",
        "colab_type": "code",
        "colab": {}
      },
      "source": [
        ""
      ],
      "execution_count": null,
      "outputs": []
    }
  ]
}