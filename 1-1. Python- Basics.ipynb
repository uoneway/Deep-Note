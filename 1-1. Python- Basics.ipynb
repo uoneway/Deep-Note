{
 "cells": [
  {
   "cell_type": "markdown",
   "metadata": {},
   "source": [
    "- 본 문서는 개인적으로 Python의 기본 내용 중에서도 자주 햇갈리는 부분과, 파이썬이라는 언어 자체에 대해 알아두면 좋은 개념들을 정리하고자 만들게 되었습니다.   \n",
    "- 따라서 Python의 모든 개념을 포괄하고 있지는 않습니다. 따라서 파이썬 자체가 처음이신 분들은 [파이썬 코딩도장](https://dojang.io/course/view.php?id=7) 등의 다른 자료로 먼저 공부하시고 이를 리마인드하고 정리하는 용도로 본 문서를 활용하시면 좋을 것 같습니다.\n",
    "- https://github.com/uoneway/python_note 에 지속적으로 업데이트 할 예정입니다."
   ]
  },
  {
   "cell_type": "markdown",
   "metadata": {},
   "source": [
    "본 문서 작성을 위해 다음의 자료들을 기본으로 다양한 자료들을 참고하였습니다.\n",
    "- [Python for Data Analysis: Data Wrangling with Pandas, NumPy, and IPython 2nd Edition by Wes McKinney](https://github.com/wesm/pydata-book)\n",
    "- [The Python Language Reference](https://docs.python.org/3/reference/index.html)\n",
    "- [The Python Standard Library](https://docs.python.org/3/library/index.html#library-index)"
   ]
  },
  {
   "cell_type": "code",
   "execution_count": 1,
   "metadata": {},
   "outputs": [],
   "source": [
    "# notebook에서 마지막 명령문이 아니더라도 실행된 결과를 출력하도록 해주도록 해주는 명령어입니다.\n",
    "from IPython.core.interactiveshell import InteractiveShell\n",
    "InteractiveShell.ast_node_interactivity = \"all\""
   ]
  },
  {
   "cell_type": "markdown",
   "metadata": {},
   "source": [
    "# Python- Basics"
   ]
  },
  {
   "cell_type": "markdown",
   "metadata": {},
   "source": [
    "- 파이썬(Python)은 귀도 반 로섬(Gudi Van Rossum)이 1990년 개발한 프로그래밍 언어이다.\n",
    "- 인터프리트 방식의 스크립트 언어와 객체 지향 언어, 두 가지 성격을 절묘하게 결합시킨 언어이다.\n",
    "- 최근 데이터분석과 머신러닝의 대중화로 이 분야에서 가장 많이 쓰는 Python은 그야말로 대세가 되어가고 있다.\n",
    "![title](./img/langague_trend.png)"
   ]
  },
  {
   "cell_type": "markdown",
   "metadata": {},
   "source": [
    "## Everything in Python is an object\n",
    "파이썬의 숫자, 문자열, 자료구조, 함수, 클래스, 모듈 등은 모두 객체(object)이다! 이러한 consistency of object model는 파이썬을 flexible한 언어로 만들어준다.\n",
    "\n",
    "예를 들어 다음과 같이 함수도 일종의 변수처럼 다뤄줄 수 있다. 함수도 객체이기 때문이다."
   ]
  },
  {
   "cell_type": "code",
   "execution_count": 2,
   "metadata": {},
   "outputs": [
    {
     "name": "stdout",
     "output_type": "stream",
     "text": [
      "3 -1\n"
     ]
    }
   ],
   "source": [
    "def plus(a, b):\n",
    "    return a + b\n",
    "\n",
    "def minus(a, b):\n",
    "    return a - b\n",
    "\n",
    "l = [plus, minus]\n",
    "a = l[0](1, 2)\n",
    "b = l[1](1, 2)\n",
    "print(a, b)\n",
    "# 3, -1"
   ]
  },
  {
   "cell_type": "markdown",
   "metadata": {},
   "source": [
    "#### object vs instance"
   ]
  },
  {
   "cell_type": "markdown",
   "metadata": {},
   "source": [
    "a = Cookie() 이렇게 만든 a는 객체이다. 그리고 a 객체는 Cookie의 인스턴스이다. \n",
    "즉 인스턴스라는 말은 특정 객체(a)가 어떤 클래스(Cookie)의 객체인지를 관계 위주로 설명할 때 사용한다. \"a는 인스턴스\"보다는 \"a는 객체\"라는 표현이 어울리며 \"a는 Cookie의 객체\"보다는 \"a는 Cookie의 인스턴스\"라는 표현이 훨씬 잘 어울린다."
   ]
  },
  {
   "cell_type": "markdown",
   "metadata": {},
   "source": [
    "### Attributes and methods\n",
    "객체이기에 각 객체들은 당연히 Attributes와 methods를 가지고 있습니다.\n",
    "- `dir(object)`: 인자(오브젝트)의 모든 속성과 메소드를 보여줍니다. \n",
    "- `hasattr(object, attr)`: 해당 object가 특정 attribute를 가지고 있는지 확인할 수 있습니다. "
   ]
  },
  {
   "cell_type": "code",
   "execution_count": 3,
   "metadata": {},
   "outputs": [
    {
     "data": {
      "text/plain": [
       "['__add__', '__class__', '__contains__', '__delattr__', '__dir__']"
      ]
     },
     "execution_count": 3,
     "metadata": {},
     "output_type": "execute_result"
    }
   ],
   "source": [
    "s = 'abc'\n",
    "dir(s)[:5] # 많아서 5개만 출력"
   ]
  },
  {
   "cell_type": "code",
   "execution_count": 4,
   "metadata": {},
   "outputs": [
    {
     "data": {
      "text/plain": [
       "True"
      ]
     },
     "execution_count": 4,
     "metadata": {},
     "output_type": "execute_result"
    },
    {
     "data": {
      "text/plain": [
       "2"
      ]
     },
     "execution_count": 4,
     "metadata": {},
     "output_type": "execute_result"
    },
    {
     "name": "stdout",
     "output_type": "stream",
     "text": [
      "9\n"
     ]
    }
   ],
   "source": [
    "class my_class():\n",
    "    def __init__(self, x):\n",
    "        self.a = x\n",
    "\n",
    "cls = my_class(2)\n",
    "\n",
    "# cls에 b라는 멤버가 있는지 확인\n",
    "hasattr(cls, 'a')\n",
    "\n",
    "# cls에서 a변수의 값 가져오기\n",
    "getattr(cls, 'a')\n",
    "\n",
    "# cls의 a라는 변수에 값 9 설정하기\n",
    "setattr(cls, 'a', 9)\n",
    "print(cls.a)"
   ]
  },
  {
   "cell_type": "markdown",
   "metadata": {},
   "source": [
    "### Variables: Dynamic references\n",
    "Python에서 변수는 특정 객체가 저장되어 있는 메모리 주소(Object reference)값(보다 정확하게는 메모리 주소를 의미하는 고유 ID 값)에 불과합니다."
   ]
  },
  {
   "cell_type": "code",
   "execution_count": 95,
   "metadata": {},
   "outputs": [
    {
     "data": {
      "text/plain": [
       "140735537389968"
      ]
     },
     "execution_count": 95,
     "metadata": {},
     "output_type": "execute_result"
    }
   ],
   "source": [
    "a_int = 1\n",
    "id(a_int)"
   ]
  },
  {
   "cell_type": "markdown",
   "metadata": {},
   "source": [
    "#### 주의! 값 복사하기: `=`, `.copy()`, `deepcopy()`\n",
    "\n",
    "물론 모든 변수가 주소를 가지고 있지만,   \n",
    "그 주소가 가리키는 메모리 부분에 저장되는 방식이 type마다 다르기에,   \n",
    "값을 복사할 때는 주의가 필요합니다.\n",
    "\n",
    "- 그냥 =로 복사해도 괜찮은 타입들: int, float, tuple, string\n",
    "- 복사할 때 주의해야하는 타입들: list, class \n",
    "(하지만 이런것들도, 메모리 지정해서 앞 방식처럼 저장할 수 있다)\n",
    "\n",
    " 메모리는 크게 두 가지로 나눠져 있고\n",
    "- int형 변수가 가리키는 해당 메모리 영역에 직접 값을 저장하고 있으나, \n",
    "- list형 변수가 가리키는 해당 메모리 영역에 또 다른 위치를 가리키는 주소를 또 저장하고 있음\n",
    "\n",
    "함수 호출 시, call-by-value vs call by reference와도 유사함"
   ]
  },
  {
   "cell_type": "code",
   "execution_count": 96,
   "metadata": {},
   "outputs": [
    {
     "data": {
      "text/plain": [
       "True"
      ]
     },
     "execution_count": 96,
     "metadata": {},
     "output_type": "execute_result"
    },
    {
     "data": {
      "text/plain": [
       "1"
      ]
     },
     "execution_count": 96,
     "metadata": {},
     "output_type": "execute_result"
    }
   ],
   "source": [
    "# int형일 경우, 해당 주소가 가리키는 영역에 값을 그대로 저장하므로  = 로 대입해도 값이 그대로 복사됨\n",
    "a_int = 1\n",
    "b_int = a_int\n",
    "b_int is a_int\n",
    "a_int+=1\n",
    "b_int"
   ]
  },
  {
   "cell_type": "code",
   "execution_count": 98,
   "metadata": {},
   "outputs": [
    {
     "data": {
      "text/plain": [
       "True"
      ]
     },
     "execution_count": 98,
     "metadata": {},
     "output_type": "execute_result"
    },
    {
     "data": {
      "text/plain": [
       "[10, 2, 3]"
      ]
     },
     "execution_count": 98,
     "metadata": {},
     "output_type": "execute_result"
    }
   ],
   "source": [
    "#하지만 list 같은  경우, \n",
    "# a를 하면 값을 복사하는게 아니라 a와 b가 같은 객체를 가리키게 됨. copy() 사용\n",
    "a_list = [1,2,3]\n",
    "b_list = a_list\n",
    "b_list is a_list\n",
    "a_list[0] = 10\n",
    "b_list"
   ]
  },
  {
   "cell_type": "code",
   "execution_count": 99,
   "metadata": {},
   "outputs": [
    {
     "data": {
      "text/plain": [
       "False"
      ]
     },
     "execution_count": 99,
     "metadata": {},
     "output_type": "execute_result"
    },
    {
     "data": {
      "text/plain": [
       "[1, 2, 3]"
      ]
     },
     "execution_count": 99,
     "metadata": {},
     "output_type": "execute_result"
    }
   ],
   "source": [
    "a_list = [1,2,3]\n",
    "b_list = a_list.copy()\n",
    "b_list is a_list\n",
    "a_list[0] = 10\n",
    "b_list"
   ]
  },
  {
   "cell_type": "code",
   "execution_count": 92,
   "metadata": {},
   "outputs": [
    {
     "data": {
      "text/plain": [
       "[[10, 2], 3]"
      ]
     },
     "execution_count": 92,
     "metadata": {},
     "output_type": "execute_result"
    }
   ],
   "source": [
    "from copy import deepcopy\n",
    "\n",
    "a_list = [[1,2],3]\n",
    "b_list = a_list.copy()\n",
    "a_list[0][0] = 10\n",
    "b_list"
   ]
  },
  {
   "cell_type": "code",
   "execution_count": 94,
   "metadata": {},
   "outputs": [
    {
     "data": {
      "text/plain": [
       "[[1, 2], 3]"
      ]
     },
     "execution_count": 94,
     "metadata": {},
     "output_type": "execute_result"
    }
   ],
   "source": [
    "from copy import deepcopy\n",
    "\n",
    "a_list = [[1,2],3]\n",
    "b_list = deepcopy(a_list)\n",
    "a_list[0][0] = 10\n",
    "b_list"
   ]
  },
  {
   "cell_type": "markdown",
   "metadata": {},
   "source": [
    "### Python is strongly typed langauge\n",
    "앞에서 언급했듯이 변수는 단순한 주소값을 의미합니다. 따라서 그 자체에 이 변수가 가리키고 있는 값에 대한 타입 정보도 가지고 있지 않습니다.\n",
    "\n",
    "하지만 그렇다고 해서 파이썬이 타입이 없는 언어라고 생각하면 안됩니다.    \n",
    "Object reference인 변수는 타입을 가지고 있지 않지만, 변수가 가리키고 있는 object 자체는 타입을 가지고 있기 때문입니다.\n",
    "- `type()`: 해당 변수 타입을 확인할 수 있음"
   ]
  },
  {
   "cell_type": "code",
   "execution_count": 6,
   "metadata": {},
   "outputs": [
    {
     "data": {
      "text/plain": [
       "str"
      ]
     },
     "execution_count": 6,
     "metadata": {},
     "output_type": "execute_result"
    }
   ],
   "source": [
    "s = 'hello'\n",
    "type(s)"
   ]
  },
  {
   "cell_type": "markdown",
   "metadata": {},
   "source": [
    "참고로 변수의 type을 확인하여 분기처리를 할 경우,   \n",
    "numpy 변수형 등과의 호환성을 고려하여 isinstance(<var>, int)를 쓰는게 좋습니다. "
   ]
  },
  {
   "cell_type": "markdown",
   "metadata": {},
   "source": [
    "### 비교: ==, is"
   ]
  },
  {
   "cell_type": "markdown",
   "metadata": {},
   "source": [
    "- 변수(가 가리키는 객체의) value(값)가 동일한지 보려면 ==, 변수가 실제 동일한 객체를 가리키고 있는지 보려면 is를 사용해야 함"
   ]
  },
  {
   "cell_type": "code",
   "execution_count": 7,
   "metadata": {},
   "outputs": [
    {
     "name": "stdout",
     "output_type": "stream",
     "text": [
      "True\n",
      "True\n",
      "True\n",
      "True\n",
      "1422142899784 1422142899784 1422143490312\n"
     ]
    }
   ],
   "source": [
    "a = [1, 2, 3]\n",
    "b = a\n",
    "c = list(a)\n",
    "print(a == b)\n",
    "print(a == c)\n",
    "print(a is b)\n",
    "print(a is not c)\n",
    "print(id(a), id(b), id(c))"
   ]
  },
  {
   "cell_type": "markdown",
   "metadata": {},
   "source": [
    "#### is None, == True 로 하자"
   ]
  },
  {
   "cell_type": "markdown",
   "metadata": {},
   "source": [
    "None, True, False는 파이썬 내부상수(singleton object)이다. \n",
    "- 즉 only ever exists one으로 어떤 연산을 통해 특정 변수가 이 값들을 같게 됐다면 모두 메모리 동일영역을 가리키는 동일 id값을 가진 변수가 되는것\n",
    "- 따라서 이들에 대해 is와 == 는 동일하게 작동함. \n",
    "- 그러나 관례상 is None으로, 추후 numpy와의 호환성을 위해 == True로 사용하는게 좋음   \n",
    "(추후 numpy를 쓰다보면 numpy의 bool은 기본 파이썬과 별도의 타입(numpy.bool_)을 가지고 있어서 'is True'가 의도치않게 False로 리턴될 수 있음)"
   ]
  },
  {
   "cell_type": "code",
   "execution_count": 8,
   "metadata": {},
   "outputs": [
    {
     "name": "stdout",
     "output_type": "stream",
     "text": [
      "140735536867664 140735536867664\n",
      "True True\n"
     ]
    }
   ],
   "source": [
    "a = 1 == 1  # True\n",
    "b = 2 == 2  # True\n",
    "print(id(a), id(b))\n",
    "print(a == True, a is True)"
   ]
  },
  {
   "cell_type": "markdown",
   "metadata": {},
   "source": [
    "## type 다루기"
   ]
  },
  {
   "cell_type": "markdown",
   "metadata": {},
   "source": [
    "### 주의!: 변수타입 비교 시, `isinstance(<var>, int)`\n",
    "변수 타입 비교할 때, 여러 방법들을 생각할 수 있음.\n",
    "하지만 변수 타입이 순수 python 뿐만 아니라, 추후 numpy의 자료형도 있는데 거의 유사하게 쓰임에도 불구하고 어떤 방식으로 비교하냐에 따라 결과가 달라지기에 `isinstance()`를 이용하도록 한다.   \n",
    "참고: https://stackoverflow.com/questions/3501382/checking-whether-a-variable-is-an-integer-or-not"
   ]
  },
  {
   "cell_type": "markdown",
   "metadata": {},
   "source": [
    "`isinstance()`는 python int형을 상속받은 타입인지 아닌지를 보여주는 함수"
   ]
  },
  {
   "cell_type": "code",
   "execution_count": 11,
   "metadata": {},
   "outputs": [
    {
     "data": {
      "text/plain": [
       "True"
      ]
     },
     "execution_count": 11,
     "metadata": {},
     "output_type": "execute_result"
    },
    {
     "data": {
      "text/plain": [
       "True"
      ]
     },
     "execution_count": 11,
     "metadata": {},
     "output_type": "execute_result"
    },
    {
     "data": {
      "text/plain": [
       "False"
      ]
     },
     "execution_count": 11,
     "metadata": {},
     "output_type": "execute_result"
    },
    {
     "data": {
      "text/plain": [
       "False"
      ]
     },
     "execution_count": 11,
     "metadata": {},
     "output_type": "execute_result"
    }
   ],
   "source": [
    "s = 'hello'\n",
    "# 아래 같이는 사용하지 않도록\n",
    "type(s) == str\n",
    "type(s) is str\n",
    "type(s) == 'str'\n",
    "type(s) == 'str'"
   ]
  },
  {
   "cell_type": "code",
   "execution_count": 12,
   "metadata": {
    "scrolled": true
   },
   "outputs": [
    {
     "data": {
      "text/plain": [
       "True"
      ]
     },
     "execution_count": 12,
     "metadata": {},
     "output_type": "execute_result"
    },
    {
     "data": {
      "text/plain": [
       "True"
      ]
     },
     "execution_count": 12,
     "metadata": {},
     "output_type": "execute_result"
    }
   ],
   "source": [
    "isinstance(s, str)\n",
    "isinstance(s, (str, float)) # tuple로 둘중 하나에 속하는지 체크할 수 있음."
   ]
  },
  {
   "cell_type": "markdown",
   "metadata": {},
   "source": [
    "#### Type casting"
   ]
  },
  {
   "cell_type": "code",
   "execution_count": 13,
   "metadata": {},
   "outputs": [
    {
     "data": {
      "text/plain": [
       "str"
      ]
     },
     "execution_count": 13,
     "metadata": {},
     "output_type": "execute_result"
    },
    {
     "data": {
      "text/plain": [
       "3"
      ]
     },
     "execution_count": 13,
     "metadata": {},
     "output_type": "execute_result"
    },
    {
     "data": {
      "text/plain": [
       "3.0"
      ]
     },
     "execution_count": 13,
     "metadata": {},
     "output_type": "execute_result"
    },
    {
     "data": {
      "text/plain": [
       "True"
      ]
     },
     "execution_count": 13,
     "metadata": {},
     "output_type": "execute_result"
    },
    {
     "data": {
      "text/plain": [
       "'3'"
      ]
     },
     "execution_count": 13,
     "metadata": {},
     "output_type": "execute_result"
    },
    {
     "data": {
      "text/plain": [
       "str"
      ]
     },
     "execution_count": 13,
     "metadata": {},
     "output_type": "execute_result"
    },
    {
     "data": {
      "text/plain": [
       "['3']"
      ]
     },
     "execution_count": 13,
     "metadata": {},
     "output_type": "execute_result"
    },
    {
     "data": {
      "text/plain": [
       "('3',)"
      ]
     },
     "execution_count": 13,
     "metadata": {},
     "output_type": "execute_result"
    },
    {
     "data": {
      "text/plain": [
       "{'3'}"
      ]
     },
     "execution_count": 13,
     "metadata": {},
     "output_type": "execute_result"
    },
    {
     "data": {
      "text/plain": [
       "{'a': '3'}"
      ]
     },
     "execution_count": 13,
     "metadata": {},
     "output_type": "execute_result"
    }
   ],
   "source": [
    "fval = '3'\n",
    "type(fval)\n",
    "\n",
    "int(fval)\n",
    "float(fval)\n",
    "bool(fval)\n",
    "str(fval)\n",
    "\n",
    "type(fval)\n",
    "list(fval)\n",
    "tuple(fval)\n",
    "set(fval)\n",
    "dict(a = fval)  # a를 'a'로 하면 안됨"
   ]
  },
  {
   "cell_type": "markdown",
   "metadata": {},
   "source": [
    "아래 같은 경우 다른 언어는 오류 안띄우기도 하는데 python은 에러 띄움\n",
    "a / b 와 같은 명확한 상황이 아닌 한, 명시적으로 형변환 해야함"
   ]
  },
  {
   "cell_type": "code",
   "execution_count": 14,
   "metadata": {},
   "outputs": [
    {
     "ename": "TypeError",
     "evalue": "can only concatenate str (not \"int\") to str",
     "output_type": "error",
     "traceback": [
      "\u001b[1;31m---------------------------------------------------------------------------\u001b[0m",
      "\u001b[1;31mTypeError\u001b[0m                                 Traceback (most recent call last)",
      "\u001b[1;32m<ipython-input-14-4dd8efb5fac1>\u001b[0m in \u001b[0;36m<module>\u001b[1;34m\u001b[0m\n\u001b[1;32m----> 1\u001b[1;33m \u001b[1;34m'5'\u001b[0m \u001b[1;33m+\u001b[0m \u001b[1;36m5\u001b[0m\u001b[1;33m\u001b[0m\u001b[1;33m\u001b[0m\u001b[0m\n\u001b[0m",
      "\u001b[1;31mTypeError\u001b[0m: can only concatenate str (not \"int\") to str"
     ]
    }
   ],
   "source": [
    "'5' + 5"
   ]
  },
  {
   "cell_type": "code",
   "execution_count": 15,
   "metadata": {},
   "outputs": [
    {
     "name": "stdout",
     "output_type": "stream",
     "text": [
      "a is <class 'float'>, b is <class 'int'>\n"
     ]
    },
    {
     "data": {
      "text/plain": [
       "2.25"
      ]
     },
     "execution_count": 15,
     "metadata": {},
     "output_type": "execute_result"
    }
   ],
   "source": [
    "a = 4.5\n",
    "b = 2\n",
    "# String formatting, to be visited later\n",
    "print('a is {0}, b is {1}'.format(type(a), type(b)))\n",
    "a / b"
   ]
  },
  {
   "cell_type": "markdown",
   "metadata": {},
   "source": [
    "#### Duck typing\n",
    "- 실제로 쓸 때는 어떤 형인지 보다 특정 behavior이 가능한 형태인지가가 더 중요할 때가 많음   \n",
    "(오리처럼 걸어가면 오리다)\n",
    "- mutable한지 안한지, sequence인지(iterable) 아닌지 등?"
   ]
  },
  {
   "cell_type": "markdown",
   "metadata": {},
   "source": [
    "다양한 타입의 인풋을 받을 함수 작성할 수 있다.\n",
    "흔하게 쓰는 예가 sequence타입인 (list, tuple, ndarray),iterator 등을 인자로 받아서\n",
    "리스트가 아니면 리스트로 변환해 주는거"
   ]
  },
  {
   "cell_type": "code",
   "execution_count": 16,
   "metadata": {},
   "outputs": [],
   "source": [
    "def isiterable(obj):\n",
    "    try:\n",
    "        iter(obj)\n",
    "        return True\n",
    "    except TypeError: # not iterable\n",
    "        return False"
   ]
  },
  {
   "cell_type": "code",
   "execution_count": 17,
   "metadata": {},
   "outputs": [
    {
     "name": "stdout",
     "output_type": "stream",
     "text": [
      "True\n",
      "True\n",
      "False\n"
     ]
    }
   ],
   "source": [
    "print(isiterable('a string'))\n",
    "print(isiterable([1, 2, 3]))\n",
    "print(isiterable(5))"
   ]
  },
  {
   "cell_type": "code",
   "execution_count": 18,
   "metadata": {},
   "outputs": [],
   "source": [
    "#리스트가 아닌 경우는 리스트로 변환해주기. 이후에 리스트 관련한 함수 쓸테니..\n",
    "x=\"aaa\"\n",
    "if not isinstance(x, list) and isiterable(x):\n",
    "    x = list(x)"
   ]
  },
  {
   "cell_type": "markdown",
   "metadata": {},
   "source": [
    "참고로 list와 str는 유사하게 작동하는 data type이다. 서로 변환도 다음과 같이 가능하다.\n",
    "- `list = str.split()` : 문자열 => 리스트, 공백시 스페이스 기준\n",
    "- `” “.join( list )` : 리스트에서 문자열으로"
   ]
  },
  {
   "cell_type": "code",
   "execution_count": 19,
   "metadata": {},
   "outputs": [
    {
     "name": "stdout",
     "output_type": "stream",
     "text": [
      "['10', '34', '17']\n"
     ]
    }
   ],
   "source": [
    "time_str = \"10:34:17\"\n",
    "time_list = time_str.split(':')\n",
    "print(time_list)"
   ]
  },
  {
   "cell_type": "code",
   "execution_count": 20,
   "metadata": {},
   "outputs": [
    {
     "data": {
      "text/plain": [
       "'10:34:17'"
      ]
     },
     "execution_count": 20,
     "metadata": {},
     "output_type": "execute_result"
    }
   ],
   "source": [
    "':'.join(time_list)  # 쉽게 list가 인자로 들어감에 주의하기!!"
   ]
  },
  {
   "cell_type": "markdown",
   "metadata": {},
   "source": [
    "### True, False, None 등.   \n",
    "대문자로 시작하고 나머지는 소문자라고 생각하기"
   ]
  },
  {
   "cell_type": "code",
   "execution_count": 22,
   "metadata": {
    "scrolled": true
   },
   "outputs": [
    {
     "data": {
      "text/plain": [
       "(True, False, None)"
      ]
     },
     "execution_count": 22,
     "metadata": {},
     "output_type": "execute_result"
    }
   ],
   "source": [
    "True, False, None "
   ]
  },
  {
   "cell_type": "markdown",
   "metadata": {},
   "source": [
    "## 기타 Python 관련 사소한 것들"
   ]
  },
  {
   "cell_type": "markdown",
   "metadata": {},
   "source": [
    "### slicing: [start:stop]"
   ]
  },
  {
   "cell_type": "code",
   "execution_count": 21,
   "metadata": {},
   "outputs": [
    {
     "data": {
      "text/plain": [
       "'ab'"
      ]
     },
     "execution_count": 21,
     "metadata": {},
     "output_type": "execute_result"
    }
   ],
   "source": [
    "#아래는 ab가 아니라 a임. 두번쨰 항목에서 멈춘다 로 이해!\n",
    "a=\"abc\"\n",
    "a[0:2]"
   ]
  },
  {
   "cell_type": "markdown",
   "metadata": {},
   "source": [
    "### print() 함수"
   ]
  },
  {
   "cell_type": "markdown",
   "metadata": {},
   "source": [
    "우선 시작하기 전에 결과를 살펴보기 위해 사용하는 print() 함수의 사용법을 살펴보자"
   ]
  },
  {
   "cell_type": "code",
   "execution_count": 23,
   "metadata": {},
   "outputs": [
    {
     "name": "stdout",
     "output_type": "stream",
     "text": [
      "1 2 hello\n",
      "12hello\n",
      "1,2,hello\n",
      "\n",
      "1\n",
      "2\n",
      "1\n",
      "2\n"
     ]
    }
   ],
   "source": [
    "print(1, 2, \"hello\") # 여러개 출력(기본 공백으로 띄움)\n",
    "print(1, 2, \"hello\", sep='') # 공백 없이 출력\n",
    "print(1, 2, \"hello\", sep=',')\n",
    "print()\n",
    "print(1, 2, sep='\\n') #여러줄 출력.역슬래시임!\n",
    "print('1\\n2') # 위와 동일"
   ]
  },
  {
   "cell_type": "markdown",
   "metadata": {},
   "source": [
    "사실 print는 출력 맨 마지막에 자동으로 /n을 붙여줌. "
   ]
  },
  {
   "cell_type": "code",
   "execution_count": 24,
   "metadata": {},
   "outputs": [
    {
     "name": "stdout",
     "output_type": "stream",
     "text": [
      "hello\n",
      "hello\n"
     ]
    }
   ],
   "source": [
    "# 아래 두 명령어는 완전히 동일함\n",
    "print('hello')\n",
    "print('hello', end='\\n')"
   ]
  },
  {
   "cell_type": "code",
   "execution_count": 25,
   "metadata": {},
   "outputs": [
    {
     "name": "stdout",
     "output_type": "stream",
     "text": [
      "123\n"
     ]
    }
   ],
   "source": [
    "# 이를 바꿔주려면 end argument를 지정해주면 됨 빈 문자열 지정으로 한 줄에 출력되도록 함\n",
    "print(1, end='')\n",
    "print(2, end='')\n",
    "print(3)"
   ]
  },
  {
   "cell_type": "code",
   "execution_count": 26,
   "metadata": {},
   "outputs": [],
   "source": [
    "# user_input = input(\"값을 입력해주세요: \")"
   ]
  },
  {
   "cell_type": "markdown",
   "metadata": {},
   "source": [
    "### 파일 입출력"
   ]
  },
  {
   "cell_type": "code",
   "execution_count": 12,
   "metadata": {},
   "outputs": [],
   "source": [
    "# 파일에 쓰기\n",
    "file = open('file.txt', 'a') # 파일에 기존 텍스트 유지하고 추가모드(a)로 열기, 없다면 새로 생성함. \n",
    "                            # 쓰기모드(w)로 열면 계속 덮어쓰기함\n",
    "file.write('First File \\n') # 문자열 저장\n",
    "file.write('Second Line \\n') # 문자열 저장\n",
    "file.close() # 파일객체를 반드시 닫아줘야지, 다른 프로그램에서 해당 파일을 사용할 수 있음!!"
   ]
  },
  {
   "cell_type": "code",
   "execution_count": 13,
   "metadata": {},
   "outputs": [
    {
     "name": "stdout",
     "output_type": "stream",
     "text": [
      "my first fileFirst File \n",
      "Second LineFirst File \n",
      "Second Line\n"
     ]
    }
   ],
   "source": [
    "# 파일 읽기\n",
    "file = open('file.txt', 'r') # 파일을 읽기모드(r)\n",
    "text = file.read() # 파일에서 내용 읽기\n",
    "print(text)\n",
    "file.close() # 파일객체닫기\n"
   ]
  },
  {
   "cell_type": "markdown",
   "metadata": {},
   "source": [
    "####  with 사용\n",
    "파일객체를 한 번 open해서 이용 후에는 반드시 닫아줘야지, 다른 프로그램에서 해당 파일을 사용할 수 있음   \n",
    "이게 너무 중요하기에 with를 이용"
   ]
  },
  {
   "cell_type": "code",
   "execution_count": 15,
   "metadata": {},
   "outputs": [
    {
     "name": "stdout",
     "output_type": "stream",
     "text": [
      "my first fileFirst File \n",
      "Second LineFirst File \n",
      "Second Line\n"
     ]
    }
   ],
   "source": [
    "with open('file.txt', 'r') as file:\n",
    "     text = file.read()\n",
    "     print(text)"
   ]
  },
  {
   "cell_type": "markdown",
   "metadata": {},
   "source": [
    "#### 모드\n",
    "- w,r,a\n",
    "    - r(기본): 읽기모드로 열기. 커서는 파일 맨 처음으로\n",
    "    - w: 쓰기모드로 열기. 해당 이름을 가진 파일이 존재하는 경우, 기 내용 삭제하고 열림(없으면 새로 만듦. 모두 동일)\n",
    "    - x: 쓰기모드로 열기. 해당 이름을 가진 파일이 존재하는 경우, 오류 발생\n",
    "    - a: 쓰기모드로 열기. 해당 이름을 가진 파일이 존재하는 경우, 기 내용 보존하고 맨 뒤에 커서 위치\n",
    "- t, b\n",
    "    - t(기본): 텍스트 파일 모드로 열기\n",
    "    - b: 바이너리 파일 모드로 열기\n",
    "- w+, r+, a+: 쓰기모드에 대해서 동시에 읽을수 있게 하거나, 반대로 읽기모드에 대해 추가로 쓸 수 있도록 파일 열기"
   ]
  },
  {
   "cell_type": "code",
   "execution_count": null,
   "metadata": {},
   "outputs": [],
   "source": [
    "with open('file.txt', 'wb') as f: # binary 쓰기 모드로 열기. 음성, 영상 등등\n",
    "    pass\n",
    "\n",
    "with open('file.txt', 'wt') as f: # text 쓰기 모드로 열기(w와 동일). \n",
    "    pass"
   ]
  },
  {
   "cell_type": "code",
   "execution_count": null,
   "metadata": {},
   "outputs": [],
   "source": [
    "# 쓰기와 읽기 동시에 하기 `+`\n",
    "# 하지만 w+와 r+가 기존 파일 내용을 삭제하냐 안하냐의 차이가 있음\n",
    "# 쓰기 모드로 열기(읽기도 가능). 기존 파일 내요을 삭제 후 열기. 열어서 쓰던거를 읽을 수 있다\n",
    "\n",
    "\n",
    "with open('file.txt', 'w+') as f: # 쓰기 모드로 열기(읽기도 가능). 기존 파일 내요을 삭제 후 열기. 열어서 쓰던거를 읽을 수 있다\n",
    "    pass\n",
    "\n",
    "with open('file.txt', 'r+') as f: # Opens a file for reading and writing, placing the pointer at the beginning of the file.\n",
    "    pass"
   ]
  },
  {
   "cell_type": "code",
   "execution_count": 33,
   "metadata": {},
   "outputs": [],
   "source": [
    "with open('file.txt', 'w') as file:\n",
    "    file.write(\"first line \\n\")\n",
    "    file.write(\"second line \\n\")"
   ]
  },
  {
   "cell_type": "markdown",
   "metadata": {},
   "source": [
    "#### 한 줄 단위로 받아오기: `readline()`, `readlines()`"
   ]
  },
  {
   "cell_type": "code",
   "execution_count": 34,
   "metadata": {},
   "outputs": [
    {
     "name": "stdout",
     "output_type": "stream",
     "text": [
      "first line \n",
      "\n",
      "second line \n",
      "\n"
     ]
    }
   ],
   "source": [
    "# 한 줄씩 받아오기\n",
    "with open('file.txt', 'r') as f:\n",
    "    while True:\n",
    "        line = f.readline()\n",
    "        if not line: break\n",
    "        print(line)"
   ]
  },
  {
   "cell_type": "code",
   "execution_count": 37,
   "metadata": {},
   "outputs": [
    {
     "name": "stdout",
     "output_type": "stream",
     "text": [
      "['first line \\n', 'second line \\n']\n",
      "first line \n",
      "\n",
      "second line \n",
      "\n"
     ]
    }
   ],
   "source": [
    "# 모두 리스트로 받아오기\n",
    "with open('file.txt', 'r') as f:\n",
    "    lines = f.readlines()\n",
    "# print(lines)\n",
    "for line in lines:\n",
    "    print(line)\n"
   ]
  },
  {
   "cell_type": "markdown",
   "metadata": {},
   "source": [
    "### 외장 함수 이용하기와 from/import문"
   ]
  },
  {
   "cell_type": "markdown",
   "metadata": {},
   "source": [
    "#### Python 계층구조: package > module > class > attribute, method"
   ]
  },
  {
   "cell_type": "markdown",
   "metadata": {},
   "source": [
    "- module이란 .py 확장자를 가진 파일 하나를 의미합니다.    \n",
    "영단어 의미상 module을 method로 착각할 수 있는데 그러지 않도록 주의합니다.\n",
    "- package는 이 파일들(module)을 가지고 있는 폴더를 의미합니다. 기본적으로 `__init.py`라는 이름의 파일을 가지고 있습니다.\n",
    "\n",
    "이를 가져와서 이용하기 위해 `from <package(폴더)명>.<module(파일)명> import <함수 또는 class 명>`을 사용합니다.\n"
   ]
  },
  {
   "cell_type": "markdown",
   "metadata": {},
   "source": [
    "#### from imports 문"
   ]
  },
  {
   "cell_type": "code",
   "execution_count": 9,
   "metadata": {},
   "outputs": [],
   "source": [
    "# some_module.py\n",
    "PI = 3.14159 \n",
    "def f(x):\n",
    "    returnx+2"
   ]
  },
  {
   "cell_type": "code",
   "execution_count": null,
   "metadata": {},
   "outputs": [],
   "source": [
    "import some_module  # module 전체 가져오기 \n",
    "from some_module import *  # 위와 동일\n",
    "\n",
    "import some_package.some_module  # 특정 패키지(폴더) 내 module 전체 가져오기. 이렇게 하위 폴더는 점으로 접근가능\n",
    "\n",
    "from some_module import f, PI  # module 내 일부 가져오기\n",
    "result = some_module.f(5)\n",
    "pi = some_module.PI\n",
    "\n",
    "from some_module import f as ff, PI as pi  # module 내 일부를 가져와 약어 지정해주기\n",
    "r1 = ff(6)\n",
    "r2 = sm.f(pi)"
   ]
  },
  {
   "cell_type": "markdown",
   "metadata": {},
   "source": [
    "#### 내장 함수(builtin-function). 모듈의 method\n",
    "만약 import문 없이 직접 작성하지 않은 함수를 쓰고 있다면, 그 함수는 python 최상위 기본 내장함수(Built-in Functions)임을 의미합니다."
   ]
  },
  {
   "cell_type": "code",
   "execution_count": null,
   "metadata": {},
   "outputs": [],
   "source": [
    "a=\"abc\"\n",
    "len(a) #builtin-function\n",
    "a.strip() #strip도 내장함수임. string의 메소드기에 이런 형식으로 부르는 것으로 <module명>.<class명>으로 햇갈리지 않도록"
   ]
  },
  {
   "cell_type": "markdown",
   "metadata": {},
   "source": [
    "#### 다른 경로에 있는 파일을 import 하는 방법"
   ]
  },
  {
   "cell_type": "markdown",
   "metadata": {},
   "source": [
    "만약 다른 경로에 있는 .py 파일을 import하고 싶다면 다음을 참조\n",
    "https://codechacha.com/ko/how-to-import-python-files/"
   ]
  },
  {
   "cell_type": "code",
   "execution_count": null,
   "metadata": {},
   "outputs": [],
   "source": [
    "# 실행파일과 동일 경로에 있는 파일 import\n",
    "from . import my_module  # 이 때 from . 은 생략가능\n",
    "# 하위 폴더 내 파일. 실행파일과 폴더가 동일한 경로에 위치할 때\n",
    "from my_dir import my_module"
   ]
  },
  {
   "cell_type": "markdown",
   "metadata": {},
   "source": [
    "##### 다른 경로 파일\n",
    "해당 파일이 위치한 경로 또는 하위 경로가 아닌 경우에는 from/import문으로 접근할 수 없습니다.   \n",
    "이 때는 os.path에 원하는 폴더 path를 추가해줘야 합니다. 이는 `sys.path.append('경로')`구문을 통해 가능합니다.\n",
    "\n",
    "가장 자주 쓰일 실행 파일의 상위 폴더를 참조해야 할 때는 \n",
    "실행파일 경로의 상위 경로를 구하는 코드는 `os.path.dirname(os.path.abspath(os.path.dirname(__file__)))`를 인자값으로 전달하면 됩니다."
   ]
  },
  {
   "cell_type": "code",
   "execution_count": null,
   "metadata": {},
   "outputs": [],
   "source": [
    "import sys\n",
    "sys.path.append('../upper_dir/my_module')  # 특정 경로 폴더를 os.path로 추가하기\n",
    "sys.path.append(os.path.dirname(os.path.abspath(os.path.dirname(__file__)))) # 상위 폴더를 os.path로 추가하기\n",
    "\n",
    "import my_module"
   ]
  },
  {
   "cell_type": "markdown",
   "metadata": {},
   "source": [
    "## Control Flow"
   ]
  },
  {
   "cell_type": "markdown",
   "metadata": {},
   "source": [
    "### if, elif, and else"
   ]
  },
  {
   "cell_type": "code",
   "execution_count": 36,
   "metadata": {},
   "outputs": [
    {
     "name": "stdout",
     "output_type": "stream",
     "text": [
      "Positive\n"
     ]
    }
   ],
   "source": [
    "x=1\n",
    "if x < 0:\n",
    "    print('negative')\n",
    "elif x == 0:\n",
    "    pass ; #아무것도 안적으면 오류남. python이 괄호를 쓰지 않기에, 코드 작성하기 전에 pass 넣어두면 테스트 가능\n",
    "else:\n",
    "    print('Positive')"
   ]
  },
  {
   "cell_type": "markdown",
   "metadata": {},
   "source": [
    "chain comparisons:"
   ]
  },
  {
   "cell_type": "code",
   "execution_count": 37,
   "metadata": {},
   "outputs": [
    {
     "data": {
      "text/plain": [
       "True"
      ]
     },
     "execution_count": 37,
     "metadata": {},
     "output_type": "execute_result"
    }
   ],
   "source": [
    "4 > 3 > 2 > 1"
   ]
  },
  {
   "cell_type": "markdown",
   "metadata": {},
   "source": [
    "#### Ternary expressions\n",
    "[on_true] if [expression] else [on_false]"
   ]
  },
  {
   "cell_type": "code",
   "execution_count": 38,
   "metadata": {},
   "outputs": [
    {
     "data": {
      "text/plain": [
       "'Non-negative'"
      ]
     },
     "execution_count": 38,
     "metadata": {},
     "output_type": "execute_result"
    }
   ],
   "source": [
    "x = 5\n",
    "'Non-negative' if x >= 0 else 'Negative'"
   ]
  },
  {
   "cell_type": "markdown",
   "metadata": {},
   "source": [
    "아래와 같이 많이 변수에 값 할당할 때 씀. 볼 때 min = (a if a < b else b ) 처럼 봐야함"
   ]
  },
  {
   "cell_type": "code",
   "execution_count": 39,
   "metadata": {},
   "outputs": [
    {
     "data": {
      "text/plain": [
       "10"
      ]
     },
     "execution_count": 39,
     "metadata": {},
     "output_type": "execute_result"
    }
   ],
   "source": [
    "a, b = 10, 20\n",
    "min = a if a < b else b \n",
    "min"
   ]
  },
  {
   "cell_type": "markdown",
   "metadata": {},
   "source": [
    "Ternary expressions와 복합 대입 연산자(Assignment Operators) 함께 쓰지 않도록 주의"
   ]
  },
  {
   "cell_type": "code",
   "execution_count": 40,
   "metadata": {},
   "outputs": [
    {
     "name": "stdout",
     "output_type": "stream",
     "text": [
      "0 100\n"
     ]
    }
   ],
   "source": [
    "# 의도와 다른 결과가 나올 수 있음\n",
    "hp1 = 100\n",
    "hp2 = 100\n",
    "damage = 150\n",
    "\n",
    "hp1 = hp1 - damage if hp1 >= damage else 0 #옳은 문장\n",
    "hp2 -= damage if hp2 >= damage else 0 # 틀린문장\n",
    "print(hp1, hp2)"
   ]
  },
  {
   "cell_type": "markdown",
   "metadata": {},
   "source": [
    "tuples, Dictionary and lambda 등을 이용해서 동일한 효과를 줄 수 있다?"
   ]
  },
  {
   "cell_type": "code",
   "execution_count": 41,
   "metadata": {},
   "outputs": [
    {
     "name": "stdout",
     "output_type": "stream",
     "text": [
      "10\n",
      "10\n",
      "10\n"
     ]
    }
   ],
   "source": [
    "a, b = 10, 20\n",
    "  \n",
    "# Use tuple for selecting an item . False일떄 값을 앞에 쓴다?\n",
    "print( (b, a) [a < b] ) \n",
    "  \n",
    "# Use Dictionary for selecting an item \n",
    "print({True: a, False: b} [a < b]) \n",
    "  \n",
    "# lamda is more efficient than above two methods \n",
    "# because in lambda  we are assure that \n",
    "# only one expression will be evaluated unlike in \n",
    "# tuple and Dictionary \n",
    "print((lambda: b, lambda: a)[a < b]()) "
   ]
  },
  {
   "cell_type": "markdown",
   "metadata": {},
   "source": [
    "### do-while loops in python?\n",
    "python에는 do while문이 없다. 다음과 같이 대체 방식을 이용하자   \n",
    "https://woogyun.tistory.com/519"
   ]
  },
  {
   "cell_type": "markdown",
   "metadata": {},
   "source": [
    "## 예외처리: try / except"
   ]
  },
  {
   "cell_type": "markdown",
   "metadata": {},
   "source": [
    "### 에러 예시: IndexError, ValueError"
   ]
  },
  {
   "cell_type": "code",
   "execution_count": 2,
   "metadata": {},
   "outputs": [
    {
     "ename": "IndexError",
     "evalue": "list index out of range",
     "output_type": "error",
     "traceback": [
      "\u001b[0;31m---------------------------------------------------------------------------\u001b[0m",
      "\u001b[0;31mIndexError\u001b[0m                                Traceback (most recent call last)",
      "\u001b[0;32m<ipython-input-2-5781d1f06c6d>\u001b[0m in \u001b[0;36m<module>\u001b[0;34m\u001b[0m\n\u001b[1;32m      1\u001b[0m \u001b[0;31m# IndexError\u001b[0m\u001b[0;34m\u001b[0m\u001b[0;34m\u001b[0m\u001b[0;34m\u001b[0m\u001b[0m\n\u001b[1;32m      2\u001b[0m \u001b[0ml\u001b[0m \u001b[0;34m=\u001b[0m \u001b[0;34m[\u001b[0m\u001b[0;34m]\u001b[0m\u001b[0;34m\u001b[0m\u001b[0;34m\u001b[0m\u001b[0m\n\u001b[0;32m----> 3\u001b[0;31m \u001b[0ml\u001b[0m\u001b[0;34m[\u001b[0m\u001b[0;36m0\u001b[0m\u001b[0;34m]\u001b[0m\u001b[0;34m\u001b[0m\u001b[0;34m\u001b[0m\u001b[0m\n\u001b[0m",
      "\u001b[0;31mIndexError\u001b[0m: list index out of range"
     ]
    }
   ],
   "source": [
    "# IndexError\n",
    "l = []\n",
    "l[0]"
   ]
  },
  {
   "cell_type": "code",
   "execution_count": 3,
   "metadata": {},
   "outputs": [
    {
     "ename": "ValueError",
     "evalue": "invalid literal for int() with base 10: 'abc'",
     "output_type": "error",
     "traceback": [
      "\u001b[0;31m---------------------------------------------------------------------------\u001b[0m",
      "\u001b[0;31mValueError\u001b[0m                                Traceback (most recent call last)",
      "\u001b[0;32m<ipython-input-3-1a5dc553560e>\u001b[0m in \u001b[0;36m<module>\u001b[0;34m\u001b[0m\n\u001b[1;32m      1\u001b[0m \u001b[0;31m# ValueError\u001b[0m\u001b[0;34m\u001b[0m\u001b[0;34m\u001b[0m\u001b[0;34m\u001b[0m\u001b[0m\n\u001b[1;32m      2\u001b[0m \u001b[0mtext\u001b[0m \u001b[0;34m=\u001b[0m \u001b[0;34m'abc'\u001b[0m\u001b[0;34m\u001b[0m\u001b[0;34m\u001b[0m\u001b[0m\n\u001b[0;32m----> 3\u001b[0;31m \u001b[0mnumber\u001b[0m \u001b[0;34m=\u001b[0m \u001b[0mint\u001b[0m\u001b[0;34m(\u001b[0m\u001b[0mtext\u001b[0m\u001b[0;34m)\u001b[0m\u001b[0;34m\u001b[0m\u001b[0;34m\u001b[0m\u001b[0m\n\u001b[0m",
      "\u001b[0;31mValueError\u001b[0m: invalid literal for int() with base 10: 'abc'"
     ]
    }
   ],
   "source": [
    "# ValueError\n",
    "text = 'abc'\n",
    "number = int(text)"
   ]
  },
  {
   "cell_type": "code",
   "execution_count": 4,
   "metadata": {},
   "outputs": [
    {
     "ename": "ModuleNotFoundError",
     "evalue": "No module named 'your_module'",
     "output_type": "error",
     "traceback": [
      "\u001b[0;31m---------------------------------------------------------------------------\u001b[0m",
      "\u001b[0;31mModuleNotFoundError\u001b[0m                       Traceback (most recent call last)",
      "\u001b[0;32m<ipython-input-4-b6ca45736f9c>\u001b[0m in \u001b[0;36m<module>\u001b[0;34m\u001b[0m\n\u001b[1;32m      1\u001b[0m \u001b[0;31m# ImportError\u001b[0m\u001b[0;34m\u001b[0m\u001b[0;34m\u001b[0m\u001b[0;34m\u001b[0m\u001b[0m\n\u001b[0;32m----> 2\u001b[0;31m \u001b[0;32mimport\u001b[0m \u001b[0myour_module\u001b[0m\u001b[0;34m\u001b[0m\u001b[0;34m\u001b[0m\u001b[0m\n\u001b[0m",
      "\u001b[0;31mModuleNotFoundError\u001b[0m: No module named 'your_module'"
     ]
    }
   ],
   "source": [
    "# ModuleNotFoundError\n",
    "import your_module"
   ]
  },
  {
   "cell_type": "markdown",
   "metadata": {},
   "source": [
    "### try / except문 사용 예시"
   ]
  },
  {
   "cell_type": "markdown",
   "metadata": {},
   "source": [
    "에러가 발생할 것 같은 코드를 try안에 넣고 except 뒤에 발생할 수 있는 에러의 이름을 적어두면, 에러 발생시 프로그램이 멈추지 않고 별도 처리가 가능하다.  \n",
    "https://wayhome25.github.io/python/2017/02/26/py-12-exception/"
   ]
  },
  {
   "cell_type": "code",
   "execution_count": null,
   "metadata": {},
   "outputs": [],
   "source": [
    "text = '100%'\n",
    "\n",
    "try :\n",
    "    number = int(text) # 에러가 발생할 가능성이 있는 코드\n",
    "except ValueError :  # 에러 종류\n",
    "    print('{}는 숫자가 아닙니다.'.format(text))  #에러가 발생 했을 경우 처리할 코드\n",
    "finally:\n",
    "    print('try/except문 종료')  # 에러가 발생하든 발생하지 않든 실행됨"
   ]
  },
  {
   "cell_type": "markdown",
   "metadata": {},
   "source": [
    "보통은 if문을 사용하는 것이 좋으나 try 문으로만 해결이 가능한 문제도 있다."
   ]
  },
  {
   "cell_type": "code",
   "execution_count": 6,
   "metadata": {},
   "outputs": [
    {
     "name": "stdout",
     "output_type": "stream",
     "text": [
      "5 index의 값을 가져올 수 없습니다.\n",
      "모듈이 없습니다.\n"
     ]
    }
   ],
   "source": [
    "# if 문\n",
    "def safe_pop_print(list, index):\n",
    "    if index < len(list):\n",
    "        print(list.pop(index))\n",
    "    else:\n",
    "        print('{} index의 값을 가져올 수 없습니다.'.format(index))\n",
    "\n",
    "safe_pop_print([1,2,3], 5) # 5 index의 값을 가져올 수 없습니다.\n",
    "\n",
    "try:\n",
    "    import your_module\n",
    "except ImportError:\n",
    "    print('모듈이 없습니다.')"
   ]
  },
  {
   "cell_type": "markdown",
   "metadata": {},
   "source": [
    "이름을 모르면 이름을 적지않아도 되나, 가능하면 적어주는게 좋다."
   ]
  },
  {
   "cell_type": "code",
   "execution_count": null,
   "metadata": {},
   "outputs": [],
   "source": [
    "# 모든 에러 처리\n",
    "try:\n",
    "    list = []\n",
    "    print(list[0])  # 에러가 발생할 가능성이 있는 코드\n",
    "\n",
    "    text = 'abc'\n",
    "    number = int(text)\n",
    "except:\n",
    "    print('에러발생')\n",
    "\n",
    "# 에러 이름 확인\n",
    "try:\n",
    "    list = []\n",
    "    print(list[0])  # 에러가 발생할 가능성이 있는 코드\n",
    "\n",
    "except Exception as ex: # 에러 종류\n",
    "    print('에러가 발생 했습니다', ex) # ex는 발생한 에러의 이름을 받아오는 변수\n",
    "    # 에러가 발생 했습니다 list index out of range"
   ]
  },
  {
   "cell_type": "markdown",
   "metadata": {},
   "source": [
    "### 에러를 직접 일으키기 - raise\n",
    "올바른 값을 넣지 않으면 에러를 발생시키고 적당한 문구를 표시합니다. 주로 사용자에게 가이드를 주기 위한 용도로 사용합니다."
   ]
  },
  {
   "cell_type": "code",
   "execution_count": null,
   "metadata": {},
   "outputs": [],
   "source": [
    "\n",
    "def rsp(mine, yours):\n",
    "    allowed = ['가위','바위', '보']\n",
    "    if mine not in allowed:\n",
    "        raise ValueError  # 이건 예약어?\n",
    "    if yours not in allowed:\n",
    "        raise ValueError\n",
    "\n",
    "try:\n",
    "    rsp('가위', '바')\n",
    "except ValueError:\n",
    "    print('잘못된 값을 넣었습니다!')"
   ]
  },
  {
   "cell_type": "markdown",
   "metadata": {},
   "source": [
    "### 에러를 위한 클래스 직접 만들기"
   ]
  },
  {
   "cell_type": "code",
   "execution_count": 3,
   "metadata": {},
   "outputs": [],
   "source": [
    "class MyError(Exception):\n",
    "    def __init__(self, msg):\n",
    "        super().__init__(msg)"
   ]
  },
  {
   "cell_type": "code",
   "execution_count": 4,
   "metadata": {
    "scrolled": true
   },
   "outputs": [
    {
     "ename": "MyError",
     "evalue": "My error is occured",
     "output_type": "error",
     "traceback": [
      "\u001b[1;31m---------------------------------------------------------------------------\u001b[0m",
      "\u001b[1;31mMyError\u001b[0m                                   Traceback (most recent call last)",
      "\u001b[1;32m<ipython-input-4-c10bbf2218f6>\u001b[0m in \u001b[0;36m<module>\u001b[1;34m\u001b[0m\n\u001b[1;32m----> 1\u001b[1;33m \u001b[1;32mraise\u001b[0m \u001b[0mMyError\u001b[0m\u001b[1;33m(\u001b[0m\u001b[1;34m\"My error is occured\"\u001b[0m\u001b[1;33m)\u001b[0m\u001b[1;33m\u001b[0m\u001b[1;33m\u001b[0m\u001b[0m\n\u001b[0m",
      "\u001b[1;31mMyError\u001b[0m: My error is occured"
     ]
    }
   ],
   "source": [
    "raise MyError(\"My error is occured\")"
   ]
  },
  {
   "cell_type": "code",
   "execution_count": 23,
   "metadata": {},
   "outputs": [],
   "source": [
    "condition = False\n",
    "\n",
    "while True: \n",
    "    # do somethings \n",
    "    if condition: continue \n",
    "    break"
   ]
  },
  {
   "cell_type": "markdown",
   "metadata": {},
   "source": [
    "# Scalar Types = single value"
   ]
  },
  {
   "cell_type": "markdown",
   "metadata": {},
   "source": [
    "* None : The Python “null” value (only one instance of theNoneobject exists)\n",
    "* str : String type; holds Unicode (UTF-8 encoded) strings\n",
    "* bytes : Raw ASCII bytes (or Unicode encoded as bytes)\n",
    "* float : Double-precision (64-bit) floating-point number (note there is no separatedoubletype) \n",
    "* bool : A True or False value\n",
    "* int : Arbitrary precision signed integer"
   ]
  },
  {
   "cell_type": "markdown",
   "metadata": {},
   "source": [
    "## Booleans: True/False\n",
    "True/False는 대문자, and/or/not은 소문자"
   ]
  },
  {
   "cell_type": "code",
   "execution_count": 42,
   "metadata": {},
   "outputs": [
    {
     "data": {
      "text/plain": [
       "False"
      ]
     },
     "execution_count": 42,
     "metadata": {},
     "output_type": "execute_result"
    },
    {
     "data": {
      "text/plain": [
       "True"
      ]
     },
     "execution_count": 42,
     "metadata": {},
     "output_type": "execute_result"
    },
    {
     "data": {
      "text/plain": [
       "True"
      ]
     },
     "execution_count": 42,
     "metadata": {},
     "output_type": "execute_result"
    }
   ],
   "source": [
    "True and False \n",
    "True or False\n",
    "not False"
   ]
  },
  {
   "cell_type": "markdown",
   "metadata": {},
   "source": [
    "숫자 자료형은 0이면 False,   \n",
    "나머지는 True"
   ]
  },
  {
   "cell_type": "code",
   "execution_count": 43,
   "metadata": {},
   "outputs": [
    {
     "data": {
      "text/plain": [
       "False"
      ]
     },
     "execution_count": 43,
     "metadata": {},
     "output_type": "execute_result"
    },
    {
     "data": {
      "text/plain": [
       "True"
      ]
     },
     "execution_count": 43,
     "metadata": {},
     "output_type": "execute_result"
    }
   ],
   "source": [
    "a = 0\n",
    "bool(a)\n",
    "\n",
    "b = -10\n",
    "bool(b)"
   ]
  },
  {
   "cell_type": "markdown",
   "metadata": {},
   "source": [
    "str, list, tuple, set, dict 등 collection은   \n",
    "요소가 있으면 True, 요소가 없으면 False     \n",
    "그래서 str이 '' 빈값인지, list 등이 비어있는지 등을 확인할 때 `if my_list: ` 등의 방식을 이용"
   ]
  },
  {
   "cell_type": "code",
   "execution_count": 44,
   "metadata": {},
   "outputs": [
    {
     "data": {
      "text/plain": [
       "False"
      ]
     },
     "execution_count": 44,
     "metadata": {},
     "output_type": "execute_result"
    },
    {
     "data": {
      "text/plain": [
       "True"
      ]
     },
     "execution_count": 44,
     "metadata": {},
     "output_type": "execute_result"
    },
    {
     "data": {
      "text/plain": [
       "False"
      ]
     },
     "execution_count": 44,
     "metadata": {},
     "output_type": "execute_result"
    },
    {
     "data": {
      "text/plain": [
       "True"
      ]
     },
     "execution_count": 44,
     "metadata": {},
     "output_type": "execute_result"
    }
   ],
   "source": [
    "a = ''   # str\n",
    "bool(a)\n",
    "\n",
    "a = 'hello python' # str\n",
    "bool(a)\n",
    "\n",
    "bool([]) # list\n",
    "bool([1,2,3]) # list"
   ]
  },
  {
   "cell_type": "markdown",
   "metadata": {},
   "source": [
    "### Binary operators and comparisons"
   ]
  },
  {
   "cell_type": "markdown",
   "metadata": {},
   "source": [
    "#### (and, or, not) VS (|, &, ~)\n",
    "- 파이썬에서는 논리연산자로 and, or, not을 사용함. |, &, ~는 bitwise연산자이고 \n",
    "- ||,&& 라는 표현은 없음"
   ]
  },
  {
   "cell_type": "code",
   "execution_count": 45,
   "metadata": {},
   "outputs": [
    {
     "name": "stdout",
     "output_type": "stream",
     "text": [
      "2\n",
      "0\n",
      "False\n"
     ]
    },
    {
     "data": {
      "text/plain": [
       "False"
      ]
     },
     "execution_count": 45,
     "metadata": {},
     "output_type": "execute_result"
    }
   ],
   "source": [
    "print(4 and 2)\n",
    "print(4 & 2)\n",
    "\n",
    "# 인자가 integer가 아니고 True나 False인 경우는 and나 &나 동일하게 작동\n",
    "# True가 1, False가 0이니까... 하지만 햇갈리니... \n",
    "print(True & False)\n",
    "\n",
    "# 결론적으로 다음과 같이 기억\n",
    "True and False # True/False 일때는 and/or"
   ]
  },
  {
   "cell_type": "markdown",
   "metadata": {},
   "source": [
    "단 set 연산(intersection, union)할때는 &/|를 사용해야 함! 이 때 and 쓰면 결과가 이상하게 나옴"
   ]
  },
  {
   "cell_type": "code",
   "execution_count": 46,
   "metadata": {},
   "outputs": [
    {
     "data": {
      "text/plain": [
       "{'b', 'c'}"
      ]
     },
     "execution_count": 46,
     "metadata": {},
     "output_type": "execute_result"
    }
   ],
   "source": [
    "set1 = {'a','b','c'} ; set2 = {'b','c','d'}\n",
    "set1 & set2 "
   ]
  },
  {
   "cell_type": "markdown",
   "metadata": {},
   "source": [
    "비교연산자 연속해서 쓸수도 있음"
   ]
  },
  {
   "cell_type": "code",
   "execution_count": 100,
   "metadata": {},
   "outputs": [
    {
     "name": "stdout",
     "output_type": "stream",
     "text": [
      "2는 한 자리 숫자입니다.\n"
     ]
    }
   ],
   "source": [
    "a = 2\n",
    "if 0<a<10:\n",
    "    print(f\"{a}는 한 자리 숫자입니다.\")"
   ]
  },
  {
   "cell_type": "markdown",
   "metadata": {},
   "source": [
    "## Numeric types\n",
    "- 버림 나눗셈(floor division)\n",
    "a // b : a에서 b를 나누며 소수점 이하는 버림\n",
    "\n",
    "- 나머지\n",
    "a % b : a에서 b를 나누었을 때 나머지를 구함\n",
    "\n",
    "- 거듭제곱\n",
    "a ** b : a를 b번 곱함\n",
    "\n",
    "- 행렬 곱셈\n",
    "a @ b : 행렬 a와 b를 곱함"
   ]
  },
  {
   "cell_type": "code",
   "execution_count": 47,
   "metadata": {},
   "outputs": [
    {
     "name": "stdout",
     "output_type": "stream",
     "text": [
      "27\n",
      "0\n"
     ]
    }
   ],
   "source": [
    "print(3 ** 3)\n",
    "print(3^3)"
   ]
  },
  {
   "cell_type": "code",
   "execution_count": 48,
   "metadata": {},
   "outputs": [
    {
     "name": "stdout",
     "output_type": "stream",
     "text": [
      "2.5\n",
      "2\n",
      "1\n"
     ]
    }
   ],
   "source": [
    "print( 5 / 2)\n",
    "print( 5 //2) #몫 (나머지 버림))\n",
    "print( 5 % 2) #나머지"
   ]
  },
  {
   "cell_type": "code",
   "execution_count": 49,
   "metadata": {},
   "outputs": [
    {
     "data": {
      "text/plain": [
       "6e-05"
      ]
     },
     "execution_count": 49,
     "metadata": {},
     "output_type": "execute_result"
    }
   ],
   "source": [
    "6e-5"
   ]
  },
  {
   "cell_type": "markdown",
   "metadata": {},
   "source": [
    "## Strings"
   ]
  },
  {
   "cell_type": "markdown",
   "metadata": {},
   "source": [
    "### 선언"
   ]
  },
  {
   "cell_type": "markdown",
   "metadata": {},
   "source": [
    "' ', \" \", ''' ''', \"\"\" \"\"\" 다 가능"
   ]
  },
  {
   "cell_type": "code",
   "execution_count": 50,
   "metadata": {},
   "outputs": [],
   "source": [
    "c = \"\"\"\n",
    "This is a longer string that\n",
    "spans multiple lines\n",
    "\"\"\""
   ]
  },
  {
   "cell_type": "code",
   "execution_count": 51,
   "metadata": {},
   "outputs": [
    {
     "data": {
      "text/plain": [
       "3"
      ]
     },
     "execution_count": 51,
     "metadata": {},
     "output_type": "execute_result"
    }
   ],
   "source": [
    "c.count('\\n')"
   ]
  },
  {
   "cell_type": "markdown",
   "metadata": {},
   "source": [
    "\\는 escape 문자. \\n 나 유니코드 문자 같은 특수 문자 나타내기 위해 사용.\n",
    "근데 일일히 붙여주기 어려우면 아래같이 r을 붙여주면 그대로 나옴(raw)"
   ]
  },
  {
   "cell_type": "code",
   "execution_count": 52,
   "metadata": {},
   "outputs": [
    {
     "name": "stdout",
     "output_type": "stream",
     "text": [
      "12\\34\n"
     ]
    }
   ],
   "source": [
    "s = '12\\\\34'\n",
    "print(s)"
   ]
  },
  {
   "cell_type": "code",
   "execution_count": 53,
   "metadata": {},
   "outputs": [
    {
     "data": {
      "text/plain": [
       "'this\\\\has\\\\no\\\\special\\\\characters'"
      ]
     },
     "execution_count": 53,
     "metadata": {},
     "output_type": "execute_result"
    }
   ],
   "source": [
    "s = r'this\\has\\no\\special\\characters'\n",
    "s"
   ]
  },
  {
   "cell_type": "markdown",
   "metadata": {},
   "source": [
    "### string은 immutable\n",
    "따라서 다음 문자열 다루기에서 문자열을 수정한다는 건,    \n",
    "사실 해당 문자열이 수정된다기 보다는 수정된 문자열을 리턴해주는것."
   ]
  },
  {
   "cell_type": "code",
   "execution_count": 54,
   "metadata": {},
   "outputs": [
    {
     "ename": "TypeError",
     "evalue": "'str' object does not support item assignment",
     "output_type": "error",
     "traceback": [
      "\u001b[1;31m---------------------------------------------------------------------------\u001b[0m",
      "\u001b[1;31mTypeError\u001b[0m                                 Traceback (most recent call last)",
      "\u001b[1;32m<ipython-input-54-cfa170a67205>\u001b[0m in \u001b[0;36m<module>\u001b[1;34m\u001b[0m\n\u001b[0;32m      1\u001b[0m \u001b[0ma\u001b[0m \u001b[1;33m=\u001b[0m \u001b[1;34m'this is a string'\u001b[0m\u001b[1;33m\u001b[0m\u001b[1;33m\u001b[0m\u001b[0m\n\u001b[1;32m----> 2\u001b[1;33m \u001b[0ma\u001b[0m\u001b[1;33m[\u001b[0m\u001b[1;36m10\u001b[0m\u001b[1;33m]\u001b[0m \u001b[1;33m=\u001b[0m \u001b[1;34m'f'\u001b[0m\u001b[1;33m\u001b[0m\u001b[1;33m\u001b[0m\u001b[0m\n\u001b[0m",
      "\u001b[1;31mTypeError\u001b[0m: 'str' object does not support item assignment"
     ]
    }
   ],
   "source": [
    "a = 'this is a string'\n",
    "a[10] = 'f'"
   ]
  },
  {
   "cell_type": "code",
   "execution_count": 55,
   "metadata": {},
   "outputs": [
    {
     "name": "stdout",
     "output_type": "stream",
     "text": [
      "this is a longer string\n",
      "this is a string\n"
     ]
    }
   ],
   "source": [
    "b = a.replace('string', 'longer string')\n",
    "print(b)\n",
    "print(a) #a는 안바뀜"
   ]
  },
  {
   "cell_type": "markdown",
   "metadata": {},
   "source": [
    "### 문자열 다루기\n",
    "https://www.kdnuggets.com/2020/01/python-string-processing-primer.html\n",
    "정리하기"
   ]
  },
  {
   "cell_type": "markdown",
   "metadata": {},
   "source": [
    "#### 문자열 indexing, slicing"
   ]
  },
  {
   "cell_type": "code",
   "execution_count": 56,
   "metadata": {},
   "outputs": [
    {
     "data": {
      "text/plain": [
       "'pyt'"
      ]
     },
     "execution_count": 56,
     "metadata": {},
     "output_type": "execute_result"
    }
   ],
   "source": [
    "s = 'python'\n",
    "s[:3]"
   ]
  },
  {
   "cell_type": "code",
   "execution_count": 57,
   "metadata": {},
   "outputs": [
    {
     "data": {
      "text/plain": [
       "3"
      ]
     },
     "execution_count": 57,
     "metadata": {},
     "output_type": "execute_result"
    }
   ],
   "source": [
    "len('aaa')"
   ]
  },
  {
   "cell_type": "markdown",
   "metadata": {},
   "source": [
    "#### 문자열 연산"
   ]
  },
  {
   "cell_type": "code",
   "execution_count": 58,
   "metadata": {},
   "outputs": [
    {
     "data": {
      "text/plain": [
       "'i am'"
      ]
     },
     "execution_count": 58,
     "metadata": {},
     "output_type": "execute_result"
    }
   ],
   "source": [
    "'i'+' am'"
   ]
  },
  {
   "cell_type": "code",
   "execution_count": 59,
   "metadata": {},
   "outputs": [
    {
     "name": "stdout",
     "output_type": "stream",
     "text": [
      "==================================================\n"
     ]
    }
   ],
   "source": [
    "print(\"=\" * 50)"
   ]
  },
  {
   "cell_type": "markdown",
   "metadata": {},
   "source": [
    "#### 문자 찾기: `.count()`, `.find()`, `.index()`"
   ]
  },
  {
   "cell_type": "code",
   "execution_count": 60,
   "metadata": {},
   "outputs": [
    {
     "data": {
      "text/plain": [
       "2"
      ]
     },
     "execution_count": 60,
     "metadata": {},
     "output_type": "execute_result"
    },
    {
     "data": {
      "text/plain": [
       "3"
      ]
     },
     "execution_count": 60,
     "metadata": {},
     "output_type": "execute_result"
    },
    {
     "data": {
      "text/plain": [
       "4"
      ]
     },
     "execution_count": 60,
     "metadata": {},
     "output_type": "execute_result"
    },
    {
     "data": {
      "text/plain": [
       "3"
      ]
     },
     "execution_count": 60,
     "metadata": {},
     "output_type": "execute_result"
    },
    {
     "data": {
      "text/plain": [
       "4"
      ]
     },
     "execution_count": 60,
     "metadata": {},
     "output_type": "execute_result"
    }
   ],
   "source": [
    "a = \"aaabb\"\n",
    "a.count('b') # 'b'개수\n",
    "\n",
    "a.find('b') #없을 시 -1\n",
    "a.rfind('b') #오른쪽에서부터 문자열 위치 찾기\n",
    "a.index('b') #없을 시 error띄움\n",
    "a.rindex('b') #없을 시 error띄움"
   ]
  },
  {
   "cell_type": "markdown",
   "metadata": {},
   "source": [
    "#### 문자열 수정하기: `.strip()`, `.replace()`"
   ]
  },
  {
   "cell_type": "code",
   "execution_count": 61,
   "metadata": {},
   "outputs": [
    {
     "data": {
      "text/plain": [
       "'AAAbb  '"
      ]
     },
     "execution_count": 61,
     "metadata": {},
     "output_type": "execute_result"
    },
    {
     "data": {
      "text/plain": [
       "'  AAAbb'"
      ]
     },
     "execution_count": 61,
     "metadata": {},
     "output_type": "execute_result"
    },
    {
     "data": {
      "text/plain": [
       "'AAAbb'"
      ]
     },
     "execution_count": 61,
     "metadata": {},
     "output_type": "execute_result"
    },
    {
     "data": {
      "text/plain": [
       "' python'"
      ]
     },
     "execution_count": 61,
     "metadata": {},
     "output_type": "execute_result"
    },
    {
     "data": {
      "text/plain": [
       "'!\"#$%&\\'()*+,-./:;<=>?@[\\\\]^_`{|}~'"
      ]
     },
     "execution_count": 61,
     "metadata": {},
     "output_type": "execute_result"
    }
   ],
   "source": [
    "import string\n",
    "a = \"  AAAbb  \"\n",
    "\n",
    "#str 양옆 특정문자 삭제하기. 아무것도 안넣으면 공백 삭제\n",
    "a.lstrip()\n",
    "a.rstrip()\n",
    "a.strip()\n",
    "', python.'.strip(string.punctuation) #string 모듈의 punctuation에는 모든 구두점이 들어있음(공백은 빠져있음)\n",
    "string.punctuation"
   ]
  },
  {
   "cell_type": "code",
   "execution_count": 62,
   "metadata": {},
   "outputs": [
    {
     "data": {
      "text/plain": [
       "'  ccbb  '"
      ]
     },
     "execution_count": 62,
     "metadata": {},
     "output_type": "execute_result"
    },
    {
     "data": {
      "text/plain": [
       "'11155'"
      ]
     },
     "execution_count": 62,
     "metadata": {},
     "output_type": "execute_result"
    }
   ],
   "source": [
    "a.replace(\"AAA\", \"cc\") #문자열 바꾸기\n",
    "\n",
    "#문자 변환 테이블 이용해서 문자별 바꾸기 \n",
    "table = str.maketrans('Ab', '15')\n",
    "\"AAAbb\".translate(table)"
   ]
  },
  {
   "cell_type": "markdown",
   "metadata": {},
   "source": [
    "#### 대소문자 변환: `upper()`, `lower()`"
   ]
  },
  {
   "cell_type": "code",
   "execution_count": 63,
   "metadata": {},
   "outputs": [
    {
     "data": {
      "text/plain": [
       "'  AAABB  '"
      ]
     },
     "execution_count": 63,
     "metadata": {},
     "output_type": "execute_result"
    },
    {
     "data": {
      "text/plain": [
       "'  aaabb  '"
      ]
     },
     "execution_count": 63,
     "metadata": {},
     "output_type": "execute_result"
    }
   ],
   "source": [
    "a = \"  AAAbb  \"\n",
    "a.upper()\n",
    "a.lower()"
   ]
  },
  {
   "cell_type": "markdown",
   "metadata": {},
   "source": [
    "#### 문자열 분리/연결하기"
   ]
  },
  {
   "cell_type": "code",
   "execution_count": 64,
   "metadata": {},
   "outputs": [
    {
     "data": {
      "text/plain": [
       "['apple', 'pear', 'grape', 'pineapple', 'orange']"
      ]
     },
     "execution_count": 64,
     "metadata": {},
     "output_type": "execute_result"
    }
   ],
   "source": [
    "'apple, pear, grape, pineapple, orange'.split(', ') #비워두면 공백으로 분리"
   ]
  },
  {
   "cell_type": "code",
   "execution_count": 65,
   "metadata": {},
   "outputs": [
    {
     "data": {
      "text/plain": [
       "'A,A,A,b,b'"
      ]
     },
     "execution_count": 65,
     "metadata": {},
     "output_type": "execute_result"
    },
    {
     "data": {
      "text/plain": [
       "'a,b,c,d'"
      ]
     },
     "execution_count": 65,
     "metadata": {},
     "output_type": "execute_result"
    }
   ],
   "source": [
    "','.join(\"AAAbb\") #콤마를 a문자열 사이사에에 넣어준다. 순서주의\n",
    "\n",
    "l = ['a','b','c','d']\n",
    "','.join(l)   #보통은 이렇게 str을 가진 list를 하나로 합쳐줄 때 이용함!"
   ]
  },
  {
   "cell_type": "markdown",
   "metadata": {},
   "source": [
    "### String formatting"
   ]
  },
  {
   "cell_type": "raw",
   "metadata": {},
   "source": [
    "String을 표현하는 방식에는 \n",
    "기존 python 2에서 지원하던 %-formatting 방식과 Format string syntax 인 str.format() 메서드 방식이 있지만\n",
    "그냥 python3.6부터 지원되는 f-string이 짱임\n",
    "https://bluese05.tistory.com/70"
   ]
  },
  {
   "cell_type": "code",
   "execution_count": 66,
   "metadata": {},
   "outputs": [
    {
     "name": "stdout",
     "output_type": "stream",
     "text": [
      "Hi, I am 홍길동, 30.\n",
      "나는 31살이다.\n",
      "나는 홍길동이고 30살이다.\n",
      "{ and }\n"
     ]
    }
   ],
   "source": [
    "name = '홍길동' \n",
    "age = 30 \n",
    "d = {'name':'홍길동', 'age':30}\n",
    "\n",
    "s1 = f'Hi, I am {name}, {age}.' #  'f' 라는 접두사를 붙여 f-string쓴다는걸 명시\n",
    "s2 = f'나는 {age+1}살이다.' # 표현식(문자열 안에서 변수와 +, -와 같은 수식을 함께 사용하는 것) 지원\n",
    "s3 = f'나는 {d[\"name\"]}이고 {d[\"age\"]}살이다.' #dictionary 사용\n",
    "s4 = f'{{ and }}' #f 문자열에서 { } 표시하기(두 번 써주기)\n",
    "print(s1,s2,s3,s4, sep='\\n')"
   ]
  },
  {
   "cell_type": "code",
   "execution_count": 67,
   "metadata": {},
   "outputs": [
    {
     "name": "stdout",
     "output_type": "stream",
     "text": [
      "hi        \n",
      "        hi\n",
      "    hi    \n",
      "====hi====\n",
      "hi!!!!!!!!\n"
     ]
    }
   ],
   "source": [
    "s1 = f'{\"hi\":<10}'  # 너비10에서 왼쪽 정렬\n",
    "s2 = f'{\"hi\":>10}'  # 오른쪽 정렬\n",
    "s3 = f'{\"hi\":^10}'  # 가운데 정렬\n",
    "s4 = f'{\"hi\":=^10}'  # 가운데 정렬하고 '=' 문자로 공백 채우기\n",
    "s5 = f'{\"hi\":!<10}'  # 왼쪽 정렬하고 '!' 문자로 공백 채우기\n",
    "print(s1,s2,s3,s4,s5,sep='\\n')"
   ]
  },
  {
   "cell_type": "code",
   "execution_count": 68,
   "metadata": {},
   "outputs": [
    {
     "name": "stdout",
     "output_type": "stream",
     "text": [
      "3.4213\n",
      "    3.4213\n"
     ]
    }
   ],
   "source": [
    "y = 3.42134234\n",
    "s1 = f'{y:0.4f}'  # 소수점 4자리까지만 표현\n",
    "s2 = f'{y:10.4f}'  # 소수점 4자리까지 표현하고 총 자리수를 10으로 맞춤(오른쪽정렬)\n",
    "print(s1,s2,sep='\\n')\n",
    "\n",
    "#기존 %방식에서 먹혔던 f 말고s,c,d,o,x,%%, -(왼쪽정렬) 다 안먹힘"
   ]
  },
  {
   "cell_type": "markdown",
   "metadata": {},
   "source": [
    "\n",
    "- %s\t문자열(String)\n",
    "- %c\t문자 1개(character)\n",
    "- %d\t정수(Integer)\n",
    "- %f\t부동소수(floating-point)\n",
    "- %o\t8진수\n",
    "- %x\t16진수\n",
    "- %%\tLiteral % (문자 % 자체)"
   ]
  },
  {
   "cell_type": "raw",
   "metadata": {},
   "source": [
    "기본 방법과 format 함수를 이용한 방법 두 가지가 존재\n",
    "이 방식들은 그냥 읽을 수 있게만...\n",
    "https://wikidocs.net/13#_15"
   ]
  },
  {
   "cell_type": "markdown",
   "metadata": {},
   "source": [
    "문자열 안에도, 밖에도 % 적어줌"
   ]
  },
  {
   "cell_type": "code",
   "execution_count": 69,
   "metadata": {},
   "outputs": [
    {
     "name": "stdout",
     "output_type": "stream",
     "text": [
      "    3.1235\n",
      "3.1235    \n",
      "      0003\n",
      "3\n",
      "3.12345\n",
      "3 오늘\n"
     ]
    }
   ],
   "source": [
    "#전체 길이가 10개인 문자열 공간에서 대입되는 값을 오른쪽으로 정렬, 소수점 4째자리까지\n",
    "print(\"%10.4f\" % 3.12345)\n",
    "print(\"%-10.4f\" % 3.12345) #왼쪽정렬\n",
    "print(\"%10.4d\" % 3.12345) # 이렇게 하면 안되겠지\n",
    "print(\"%d\" % 3.12345)\n",
    "\n",
    "# 정수 부분을 나타내려면 %d를 사용하고, 3.234를 삽입하려면 %f를 사용해야 한다. \n",
    "# 하지만 %s를 사용하면 편함. 자동으로 % 뒤에 있는 값을 문자열로 바꾸기 때문이다.\n",
    "print(\"%s\" % 3.12345)\n",
    "\n",
    "#두개 넣기\n",
    "print(\"%d %s\" % (3.12345, '오늘')) "
   ]
  },
  {
   "cell_type": "code",
   "execution_count": 70,
   "metadata": {},
   "outputs": [
    {
     "data": {
      "text/plain": [
       "'4.56 Argentine Pesos are worth US$1'"
      ]
     },
     "execution_count": 70,
     "metadata": {},
     "output_type": "execute_result"
    }
   ],
   "source": [
    "template = '{0:.2f} {1:s} are worth US${2:d}'\n",
    "template.format(4.5560, 'Argentine Pesos', 1)"
   ]
  },
  {
   "cell_type": "markdown",
   "metadata": {},
   "source": [
    "### Encoding\n",
    "- Unicode는 전세계 문자열을 숫자와 대응시킨 문자코드\n",
    "- 이 숫자를 어떠한 이진법(bytes)으로 바꾸어서 컴퓨터가 알아들을 수 있게 하는 것이 encoding.\n",
    "- 이 이진법 변환 방식이 UTF-8, UTF-16 등이 있는것.\n",
    "https://norux.me/31"
   ]
  },
  {
   "cell_type": "markdown",
   "metadata": {},
   "source": [
    "https://redscreen.tistory.com/163\n"
   ]
  },
  {
   "cell_type": "code",
   "execution_count": 71,
   "metadata": {},
   "outputs": [
    {
     "name": "stdout",
     "output_type": "stream",
     "text": [
      "<class 'str'>\n",
      "b'espan\\xcc\\x83ol'\n",
      "<class 'bytes'>\n",
      "español\n"
     ]
    }
   ],
   "source": [
    "val = 'español'\n",
    "print(type(val))\n",
    "\n",
    "val_utf8 = val.encode('utf-8')\n",
    "print(val_utf8)\n",
    "print(type(val_utf8))\n",
    "\n",
    "decoded = val_utf8.decode('utf8')\n",
    "print(decoded)"
   ]
  },
  {
   "cell_type": "markdown",
   "metadata": {},
   "source": [
    "## Handling Missing Data\n",
    "- Python에는 missing data(NA:not available)로 `None`과 `NaN`(np.nan)이 있다."
   ]
  },
  {
   "cell_type": "code",
   "execution_count": 72,
   "metadata": {},
   "outputs": [],
   "source": [
    "import numpy as np\n",
    "import pandas as pd"
   ]
  },
  {
   "cell_type": "code",
   "execution_count": 73,
   "metadata": {},
   "outputs": [],
   "source": [
    "ar_nan = np.array([10, 20, np.nan, 40])\n",
    "ar_none = np.array([10, 20, None, 40])\n",
    "df_nan = pd.DataFrame(ar_nan, columns=['df_nan'])\n",
    "df_none = pd.DataFrame(ar_none, columns=['df_none'])"
   ]
  },
  {
   "cell_type": "markdown",
   "metadata": {},
   "source": [
    "#### np.nan과 none 차이\n",
    "- ndarray일 때, nan이 들어있으면, 연산결과로 nan 리턴. none이 들어가있으면 연산 자체 오류발생\n",
    "- df일때, nan과 none 모두를 제외한 나머지를 알아서 계산"
   ]
  },
  {
   "cell_type": "code",
   "execution_count": 74,
   "metadata": {},
   "outputs": [
    {
     "name": "stdout",
     "output_type": "stream",
     "text": [
      "4 4\n",
      "nan\n",
      "df_nan    23.333333\n",
      "dtype: float64 \n",
      " df_none    23.333333\n",
      "dtype: float64\n"
     ]
    }
   ],
   "source": [
    "print(len(ar_nan), len(ar_none)) #둘다 갯수에는 포함됨\n",
    "\n",
    "print(ar_nan.mean()) # ar_none.sum()는 오류남\n",
    "print(df_nan.mean(), '\\n', df_none.mean())"
   ]
  },
  {
   "cell_type": "markdown",
   "metadata": {},
   "source": [
    "#### missing data 찾기"
   ]
  },
  {
   "cell_type": "markdown",
   "metadata": {},
   "source": [
    "- scalar일때는 `is None`\n",
    "- To detect NaN values numpy uses `np.isnan().`\n",
    "    - 근데 string열에서 비어있는 값은 np.isnan()쓰면 type error남(float에만 적용가능)\n",
    "    - `string is np.nan` 으로 해주기\n",
    "- To detect NaN values pandas uses either .isna() or .isnull().\n",
    "- https://datascience.stackexchange.com/questions/37878/difference-between-isna-and-isnull-in-pandas"
   ]
  },
  {
   "cell_type": "code",
   "execution_count": 75,
   "metadata": {},
   "outputs": [
    {
     "data": {
      "text/plain": [
       "array([False, False,  True, False])"
      ]
     },
     "execution_count": 75,
     "metadata": {},
     "output_type": "execute_result"
    },
    {
     "data": {
      "text/html": [
       "<div>\n",
       "<style scoped>\n",
       "    .dataframe tbody tr th:only-of-type {\n",
       "        vertical-align: middle;\n",
       "    }\n",
       "\n",
       "    .dataframe tbody tr th {\n",
       "        vertical-align: top;\n",
       "    }\n",
       "\n",
       "    .dataframe thead th {\n",
       "        text-align: right;\n",
       "    }\n",
       "</style>\n",
       "<table border=\"1\" class=\"dataframe\">\n",
       "  <thead>\n",
       "    <tr style=\"text-align: right;\">\n",
       "      <th></th>\n",
       "      <th>df_nan</th>\n",
       "    </tr>\n",
       "  </thead>\n",
       "  <tbody>\n",
       "    <tr>\n",
       "      <th>0</th>\n",
       "      <td>False</td>\n",
       "    </tr>\n",
       "    <tr>\n",
       "      <th>1</th>\n",
       "      <td>False</td>\n",
       "    </tr>\n",
       "    <tr>\n",
       "      <th>2</th>\n",
       "      <td>True</td>\n",
       "    </tr>\n",
       "    <tr>\n",
       "      <th>3</th>\n",
       "      <td>False</td>\n",
       "    </tr>\n",
       "  </tbody>\n",
       "</table>\n",
       "</div>"
      ],
      "text/plain": [
       "   df_nan\n",
       "0   False\n",
       "1   False\n",
       "2    True\n",
       "3   False"
      ]
     },
     "execution_count": 75,
     "metadata": {},
     "output_type": "execute_result"
    },
    {
     "data": {
      "text/html": [
       "<div>\n",
       "<style scoped>\n",
       "    .dataframe tbody tr th:only-of-type {\n",
       "        vertical-align: middle;\n",
       "    }\n",
       "\n",
       "    .dataframe tbody tr th {\n",
       "        vertical-align: top;\n",
       "    }\n",
       "\n",
       "    .dataframe thead th {\n",
       "        text-align: right;\n",
       "    }\n",
       "</style>\n",
       "<table border=\"1\" class=\"dataframe\">\n",
       "  <thead>\n",
       "    <tr style=\"text-align: right;\">\n",
       "      <th></th>\n",
       "      <th>df_none</th>\n",
       "    </tr>\n",
       "  </thead>\n",
       "  <tbody>\n",
       "    <tr>\n",
       "      <th>0</th>\n",
       "      <td>False</td>\n",
       "    </tr>\n",
       "    <tr>\n",
       "      <th>1</th>\n",
       "      <td>False</td>\n",
       "    </tr>\n",
       "    <tr>\n",
       "      <th>2</th>\n",
       "      <td>True</td>\n",
       "    </tr>\n",
       "    <tr>\n",
       "      <th>3</th>\n",
       "      <td>False</td>\n",
       "    </tr>\n",
       "  </tbody>\n",
       "</table>\n",
       "</div>"
      ],
      "text/plain": [
       "   df_none\n",
       "0    False\n",
       "1    False\n",
       "2     True\n",
       "3    False"
      ]
     },
     "execution_count": 75,
     "metadata": {},
     "output_type": "execute_result"
    },
    {
     "data": {
      "text/plain": [
       "True"
      ]
     },
     "execution_count": 75,
     "metadata": {},
     "output_type": "execute_result"
    }
   ],
   "source": [
    "# None은 연산의 대상이 되지 않는다(에러)\n",
    "\n",
    "np.isnan(ar_nan) # np.isnan(ar_none)  # (예외)\n",
    "df_nan.isnull()\n",
    "df_none.isnull()\n",
    "np.isnan(df_nan.loc[2,'df_nan']) \n",
    "# df_nan.loc[2,'df_nan'] is np.nan 는 오류나네.."
   ]
  },
  {
   "cell_type": "code",
   "execution_count": 76,
   "metadata": {},
   "outputs": [
    {
     "data": {
      "text/plain": [
       "True"
      ]
     },
     "execution_count": 76,
     "metadata": {},
     "output_type": "execute_result"
    },
    {
     "data": {
      "text/plain": [
       "True"
      ]
     },
     "execution_count": 76,
     "metadata": {},
     "output_type": "execute_result"
    }
   ],
   "source": [
    "a = None\n",
    "a is None\n",
    "b = 5\n",
    "b is not None"
   ]
  },
  {
   "cell_type": "code",
   "execution_count": 77,
   "metadata": {},
   "outputs": [],
   "source": [
    "def add_and_maybe_multiply(a, b, c=None):\n",
    "    result = a + b\n",
    "\n",
    "    if c is not None:\n",
    "        result = result * c\n",
    "\n",
    "    return result"
   ]
  },
  {
   "cell_type": "markdown",
   "metadata": {},
   "source": [
    "## Dates and times"
   ]
  },
  {
   "cell_type": "code",
   "execution_count": 78,
   "metadata": {},
   "outputs": [
    {
     "data": {
      "text/plain": [
       "29"
      ]
     },
     "execution_count": 78,
     "metadata": {},
     "output_type": "execute_result"
    },
    {
     "data": {
      "text/plain": [
       "30"
      ]
     },
     "execution_count": 78,
     "metadata": {},
     "output_type": "execute_result"
    }
   ],
   "source": [
    "from datetime import datetime, date, time\n",
    "dt = datetime(2011, 10, 29, 20, 30, 21)\n",
    "dt.day\n",
    "dt.minute"
   ]
  },
  {
   "cell_type": "code",
   "execution_count": 79,
   "metadata": {},
   "outputs": [
    {
     "data": {
      "text/plain": [
       "datetime.date(2011, 10, 29)"
      ]
     },
     "execution_count": 79,
     "metadata": {},
     "output_type": "execute_result"
    },
    {
     "data": {
      "text/plain": [
       "datetime.time(20, 30, 21)"
      ]
     },
     "execution_count": 79,
     "metadata": {},
     "output_type": "execute_result"
    }
   ],
   "source": [
    "dt.date()\n",
    "dt.time()"
   ]
  },
  {
   "cell_type": "code",
   "execution_count": 80,
   "metadata": {},
   "outputs": [
    {
     "data": {
      "text/plain": [
       "'10/29/2011 20:30'"
      ]
     },
     "execution_count": 80,
     "metadata": {},
     "output_type": "execute_result"
    }
   ],
   "source": [
    "dt.strftime('%m/%d/%Y %H:%M')"
   ]
  },
  {
   "cell_type": "code",
   "execution_count": 81,
   "metadata": {},
   "outputs": [
    {
     "data": {
      "text/plain": [
       "datetime.datetime(2009, 10, 31, 0, 0)"
      ]
     },
     "execution_count": 81,
     "metadata": {},
     "output_type": "execute_result"
    }
   ],
   "source": [
    "datetime.strptime('20091031', '%Y%m%d')"
   ]
  },
  {
   "cell_type": "code",
   "execution_count": 82,
   "metadata": {},
   "outputs": [
    {
     "data": {
      "text/plain": [
       "datetime.datetime(2011, 10, 29, 20, 0)"
      ]
     },
     "execution_count": 82,
     "metadata": {},
     "output_type": "execute_result"
    }
   ],
   "source": [
    "dt.replace(minute=0, second=0)"
   ]
  },
  {
   "cell_type": "code",
   "execution_count": 83,
   "metadata": {},
   "outputs": [
    {
     "data": {
      "text/plain": [
       "datetime.timedelta(days=17, seconds=7179)"
      ]
     },
     "execution_count": 83,
     "metadata": {},
     "output_type": "execute_result"
    },
    {
     "data": {
      "text/plain": [
       "datetime.timedelta"
      ]
     },
     "execution_count": 83,
     "metadata": {},
     "output_type": "execute_result"
    }
   ],
   "source": [
    "dt2 = datetime(2011, 11, 15, 22, 30)\n",
    "delta = dt2 - dt\n",
    "delta\n",
    "type(delta)"
   ]
  },
  {
   "cell_type": "code",
   "execution_count": 84,
   "metadata": {},
   "outputs": [
    {
     "data": {
      "text/plain": [
       "datetime.datetime(2011, 10, 29, 20, 30, 21)"
      ]
     },
     "execution_count": 84,
     "metadata": {},
     "output_type": "execute_result"
    },
    {
     "data": {
      "text/plain": [
       "datetime.datetime(2011, 11, 15, 22, 30)"
      ]
     },
     "execution_count": 84,
     "metadata": {},
     "output_type": "execute_result"
    }
   ],
   "source": [
    "dt\n",
    "dt + delta"
   ]
  },
  {
   "cell_type": "markdown",
   "metadata": {},
   "source": [
    "### "
   ]
  },
  {
   "cell_type": "code",
   "execution_count": null,
   "metadata": {},
   "outputs": [],
   "source": []
  },
  {
   "cell_type": "code",
   "execution_count": null,
   "metadata": {},
   "outputs": [],
   "source": []
  }
 ],
 "metadata": {
  "kernelspec": {
   "display_name": "Python 3",
   "language": "python",
   "name": "python3"
  },
  "toc": {
   "base_numbering": 1,
   "nav_menu": {},
   "number_sections": true,
   "sideBar": true,
   "skip_h1_title": false,
   "title_cell": "Table of Contents",
   "title_sidebar": "Contents",
   "toc_cell": false,
   "toc_position": {
    "height": "calc(100% - 180px)",
    "left": "10px",
    "top": "150px",
    "width": "256px"
   },
   "toc_section_display": true,
   "toc_window_display": true
  },
  "toc-autonumbering": true
 },
 "nbformat": 4,
 "nbformat_minor": 4
}
