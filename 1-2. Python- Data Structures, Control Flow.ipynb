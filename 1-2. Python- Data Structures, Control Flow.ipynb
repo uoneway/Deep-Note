{
 "cells": [
  {
   "cell_type": "markdown",
   "metadata": {},
   "source": [
    "# Built-in Data Structures and Control Flow"
   ]
  },
  {
   "cell_type": "code",
   "execution_count": 27,
   "metadata": {},
   "outputs": [],
   "source": [
    "from IPython.core.interactiveshell import InteractiveShell\n",
    "InteractiveShell.ast_node_interactivity = \"all\""
   ]
  },
  {
   "cell_type": "markdown",
   "metadata": {},
   "source": [
    "## Python built-in Data Structures 이해"
   ]
  },
  {
   "cell_type": "markdown",
   "metadata": {},
   "source": [
    "Python의 Built-in Types으로는\n",
    "- Scalar\n",
    "    - Boolean Types: True, False\n",
    "    - Numeric Types — int, float, complex\n",
    "- Collection 객체\n",
    "    - Sequence Types — list, tuple, range\n",
    "    - Text Sequence Type — str\n",
    "    - Set Types — set, frozenset\n",
    "    - Mapping Types — dict\n",
    "\n",
    "이 외에도 None, Module, classes, instances, exceptions 등이 있음. \n",
    "https://docs.python.org/3/library/stdtypes.html#the-null-object"
   ]
  },
  {
   "cell_type": "markdown",
   "metadata": {},
   "source": [
    "![title](images/aa.png)"
   ]
  },
  {
   "cell_type": "markdown",
   "metadata": {},
   "source": [
    "https://docs.python.org/ko/3/library/collections.abc.html?highlight=collections#collections.abc.Collection\n",
    "\n",
    "class 상속관계는\n",
    "collections.abc > Container, Sized, Iterable,  > Collection \n",
    "\n",
    "Collection 객체는 모두 이 Collection class를 상속받음에 따라 \n",
    "- 객체 모음이기에 길이가 있고(len()) 특정 element가 속해있는지 물을 수 있고(in)\n",
    "- iterable해서 for문 등에 쓰일 수 있다.    \n",
    "즉 sequence가 아닌 Collection들도 iterable 함!\n",
    "- iterable하다는 것은 해당 형이 내부에 `__iter()__`함수를 가지고 있는 경우"
   ]
  },
  {
   "cell_type": "markdown",
   "metadata": {},
   "source": [
    "이 Collection class를 다시 상속받아\n",
    "- Reversible, Collection > Sequence > MutableSequence\n",
    "- Collection > Set > MutableSet\n",
    "- Collection > Mapping > MutableMapping\n",
    "\n",
    "크게 두 가지 기준으로 나눠볼 수 있다.\n",
    "- Sequence인지 아닌지, 즉 element간 순서가 있어 index로 접근 가능하고, 값이 같은 value가 들어가는게 유의미한지(count), \n",
    "    - sequence : list, tuple, range, str, \n",
    "    - non ~(이걸 collection이라고도 하는듯) : set, frozenset, dict\n",
    "- mutable한지 안한지, 즉 값을 넣다 뱼다, 삭제 등 수정 가능한지\n",
    "    - mutable: list, set, dict\n",
    "    - immutable: tuple, range, str, frozenset"
   ]
  },
  {
   "cell_type": "code",
   "execution_count": 77,
   "metadata": {},
   "outputs": [
    {
     "data": {
      "text/plain": [
       "True"
      ]
     },
     "execution_count": 77,
     "metadata": {},
     "output_type": "execute_result"
    },
    {
     "data": {
      "text/plain": [
       "True"
      ]
     },
     "execution_count": 77,
     "metadata": {},
     "output_type": "execute_result"
    }
   ],
   "source": [
    "from collections.abc import Container, Sequence, Collection\n",
    "issubclass(Sequence, Collection)\n",
    "issubclass(list, Sequence)"
   ]
  },
  {
   "cell_type": "markdown",
   "metadata": {},
   "source": [
    "Python collection 함수 정리\n",
    "https://docs.google.com/spreadsheets/d/1_doeEqNYTFLH7IihbWzyvy76YZPiVqOh91IMGoJS-qI/edit#gid=0"
   ]
  },
  {
   "cell_type": "markdown",
   "metadata": {},
   "source": []
  },
  {
   "cell_type": "markdown",
   "metadata": {},
   "source": [
    "### 선언"
   ]
  },
  {
   "cell_type": "code",
   "execution_count": 2,
   "metadata": {},
   "outputs": [
    {
     "name": "stdout",
     "output_type": "stream",
     "text": [
      "(1, 2, 3) [1, 2, 3] {1, 2, 3}\n",
      "<class 'tuple'> <class 'list'> <class 'dict'> <class 'set'>\n"
     ]
    }
   ],
   "source": [
    "t = (1, 2, 3)\n",
    "l = [1, 2, 3]\n",
    "s = {2, 2, 2, 1, 3, 3}\n",
    "print(t,l,s)"
   ]
  },
  {
   "cell_type": "markdown",
   "metadata": {},
   "source": [
    "빈 collection 선언하기"
   ]
  },
  {
   "cell_type": "code",
   "execution_count": null,
   "metadata": {},
   "outputs": [],
   "source": [
    "t = (); l = []; d = {} ; s=set()  #{}가 set이 아닌 dict인것에 주의! \n",
    "print(type(t),type(l),type(d),type(s))"
   ]
  },
  {
   "cell_type": "markdown",
   "metadata": {},
   "source": [
    "element 1개 선언할 때, tuple 주의해야함"
   ]
  },
  {
   "cell_type": "code",
   "execution_count": 8,
   "metadata": {},
   "outputs": [
    {
     "name": "stdout",
     "output_type": "stream",
     "text": [
      "(1, 2, 3) <class 'tuple'> () <class 'tuple'>\n",
      "1 <class 'int'> (1,) <class 'tuple'>\n",
      "[1] <class 'list'>\n"
     ]
    }
   ],
   "source": [
    "t1 = 1, 2, 3 # 괄호 없이하면(기본) tuple로 인식\n",
    "t2 = ()      # 빈 괄호 또한 tuple로 인식하지만\n",
    "print(t1,type(t1), t2, type(t2))\n",
    "\n",
    "t3 = (1)     # 이렇게 하면 값이 1개인 tuple 되는게 아니라 그냥 int 또는 string이 됨\n",
    "t4 = (1,)   # 이렇게 해줘야함. 출력될때도 (1,)로 표시된다는것 알아두기\n",
    "print(t3, type(t3), t4, type(t4))\n",
    "\n",
    "# 반면 list는 그냥 해도 됨\n",
    "l = [1]\n",
    "print(l,type(l))"
   ]
  },
  {
   "cell_type": "markdown",
   "metadata": {},
   "source": [
    "### 서로 형변환(Casting) 가능"
   ]
  },
  {
   "cell_type": "code",
   "execution_count": 8,
   "metadata": {},
   "outputs": [
    {
     "name": "stdout",
     "output_type": "stream",
     "text": [
      "(1, 2, 3)\n",
      "[1, 2, 3]\n",
      "['H', 'e', 'l', 'l', 'o']\n",
      "[0, 1, 2, 3, 4]\n",
      "{1, 2, 3}\n"
     ]
    }
   ],
   "source": [
    "ltot = tuple( [1, 2, 3] )\n",
    "ttol = list( (1, 2, 3) )\n",
    "ltos = set([1, 2, 3])\n",
    "strtol = list( 'Hello' ) # 문자열을 list/tuple로 변환하면 문자 하나하나를 요소로 가진 문자 리스트, 문자 튜플이 생성\n",
    "rtol = list( range(5) ) #많이 쓰이는 표현\n",
    "\n",
    "print(ltot,ttol,strtol,rtol,ltos, sep='\\n' )"
   ]
  },
  {
   "cell_type": "markdown",
   "metadata": {},
   "source": [
    "### range(start, stop, step) "
   ]
  },
  {
   "cell_type": "code",
   "execution_count": 13,
   "metadata": {},
   "outputs": [
    {
     "name": "stdout",
     "output_type": "stream",
     "text": [
      "range(0, 10) <class 'range'>\n",
      "[0, 1, 2, 3, 4, 5, 6, 7, 8, 9]\n",
      "0\n",
      "1\n",
      "2\n"
     ]
    }
   ],
   "source": [
    "# 그냥 range하면 range 객체로 생성됨\n",
    "# 보통 리스트로 전환하여 사용하지만, for문 쓸때는 그냥 쓰면됨\n",
    "# 참고로 np.arange()는 바로 ndarray로 생성되어 변환 안해줘도 됨\n",
    "\n",
    "r = range(10) \n",
    "l = list(r)\n",
    "print(r, type(r))\n",
    "print(l)\n",
    "\n",
    "for x in range(3):\n",
    "    print(x)"
   ]
  },
  {
   "cell_type": "code",
   "execution_count": 169,
   "metadata": {},
   "outputs": [
    {
     "name": "stdout",
     "output_type": "stream",
     "text": [
      "[0, 1, 2, 3, 4]\n",
      "[2, 3, 4]\n",
      "[-2, 0, 2, 4, 6, 8]\n",
      "[10, 9, 8, 7, 6, 5, 4, 3, 2, 1]\n"
     ]
    }
   ],
   "source": [
    "a = list(range(5))\n",
    "b = list(range(2, 5))\n",
    "c = list(range(-2, 10, 2))\n",
    "d = list(range(10, 0, -1))\n",
    "print(a, b, c, d, sep='\\n')"
   ]
  },
  {
   "cell_type": "markdown",
   "metadata": {},
   "source": [
    "## Collection 객체 공통"
   ]
  },
  {
   "cell_type": "markdown",
   "metadata": {},
   "source": [
    "전체적으로 모두 유사하나 dict는 value가 아닌 key 기준으로 된다는 것을 인지해야함!"
   ]
  },
  {
   "cell_type": "markdown",
   "metadata": {},
   "source": [
    "### 다루기"
   ]
  },
  {
   "cell_type": "code",
   "execution_count": 8,
   "metadata": {},
   "outputs": [],
   "source": [
    "t = (1, 2, 3)\n",
    "l = [1, 2, 3]\n",
    "s = {1, 2, 3}\n",
    "d = {'a':1, 'b':2, 'c':3} # ('a'=1, 같이 = 쓰는게 아님"
   ]
  },
  {
   "cell_type": "markdown",
   "metadata": {},
   "source": [
    "#### len()"
   ]
  },
  {
   "cell_type": "code",
   "execution_count": 9,
   "metadata": {},
   "outputs": [
    {
     "name": "stdout",
     "output_type": "stream",
     "text": [
      "3 3\n"
     ]
    }
   ],
   "source": [
    "print(len(t), len(d) )"
   ]
  },
  {
   "cell_type": "markdown",
   "metadata": {},
   "source": [
    "#### 빈 collection인지 확인하기"
   ]
  },
  {
   "cell_type": "code",
   "execution_count": 12,
   "metadata": {},
   "outputs": [
    {
     "name": "stdout",
     "output_type": "stream",
     "text": [
      "empty\n",
      "[]\n"
     ]
    }
   ],
   "source": [
    "collect = []\n",
    "if collect:        # \"if len(seq)==0:\" 보다 if not mylist 방식을 권장\n",
    "    print(collect[-1])\n",
    "else:\n",
    "    print(\"empty\")\n",
    "    \n",
    "print(collect) #empty colection이면 False?"
   ]
  },
  {
   "cell_type": "markdown",
   "metadata": {},
   "source": [
    "#### 특정 값 포함하고 있는지 확인하기: in"
   ]
  },
  {
   "cell_type": "code",
   "execution_count": 16,
   "metadata": {},
   "outputs": [
    {
     "data": {
      "text/plain": [
       "True"
      ]
     },
     "execution_count": 16,
     "metadata": {},
     "output_type": "execute_result"
    },
    {
     "data": {
      "text/plain": [
       "True"
      ]
     },
     "execution_count": 16,
     "metadata": {},
     "output_type": "execute_result"
    },
    {
     "data": {
      "text/plain": [
       "False"
      ]
     },
     "execution_count": 16,
     "metadata": {},
     "output_type": "execute_result"
    }
   ],
   "source": [
    "1 in t\n",
    "'a' in d # dictionary 는 key 기준\n",
    "1 in d"
   ]
  },
  {
   "cell_type": "code",
   "execution_count": 1,
   "metadata": {},
   "outputs": [
    {
     "name": "stdout",
     "output_type": "stream",
     "text": [
      "0\n",
      "1\n"
     ]
    }
   ],
   "source": [
    "for i in range(2):  # 응용\n",
    "    print(i)"
   ]
  },
  {
   "cell_type": "markdown",
   "metadata": {},
   "source": [
    "#### map(func, iterable) 활용 : 모든 요소에 각각 함수 적용하기"
   ]
  },
  {
   "cell_type": "code",
   "execution_count": 168,
   "metadata": {},
   "outputs": [
    {
     "data": {
      "text/plain": [
       "['1', '2', '3']"
      ]
     },
     "execution_count": 168,
     "metadata": {},
     "output_type": "execute_result"
    }
   ],
   "source": [
    "list(map(str, s)) # for i in range(len(a)): a[i] = str(a[i]) 대신"
   ]
  },
  {
   "cell_type": "markdown",
   "metadata": {},
   "source": [
    "#### min(), max(), sum()"
   ]
  },
  {
   "cell_type": "code",
   "execution_count": null,
   "metadata": {},
   "outputs": [],
   "source": [
    "s = [1, 2, 3]\n",
    "print(min(s), max(s))\n",
    "sum(s)"
   ]
  },
  {
   "cell_type": "markdown",
   "metadata": {},
   "source": [
    "#### 삭제하기"
   ]
  },
  {
   "cell_type": "code",
   "execution_count": 142,
   "metadata": {},
   "outputs": [
    {
     "name": "stdout",
     "output_type": "stream",
     "text": [
      "set()\n",
      "[]\n",
      "[1]\n"
     ]
    }
   ],
   "source": [
    "t = (1, 2, 3)\n",
    "l = [1, 2, 3]\n",
    "s = {1, 2, 3}\n",
    "\n",
    "# collection 자체를 메모리에서 삭제하기\n",
    "del t\n",
    "\n",
    "# 요소 전체 삭제하여 빈 collection으로 만들기\n",
    "s.clear() ; print(s)\n",
    "\n",
    "#del collect는 다 되지만, del a[] 형태로의 element 삭제는 list만 가능(muatable&[]접근가능)\n",
    "del l[:] ; print(l)\n",
    "l = [1, 2, 3]\n",
    "del l[1:3] ; print(l)"
   ]
  },
  {
   "cell_type": "markdown",
   "metadata": {},
   "source": [
    "## Sequence types : tuple, list, string, range"
   ]
  },
  {
   "cell_type": "markdown",
   "metadata": {},
   "source": [
    "말 그대로 순서가 있는 collection\n",
    "\n",
    "공통점\n",
    "- 문자열, 정수, 실수, 불 등 모든 자료형을 섞어서 저장할 수 있음\n",
    "- bytes, bytearray도 여기에 포함됨\n",
    "\n",
    "차이점\n",
    "* list는 can be modified. 나머지는 모두 immutable, fixed-length. 연산하는것도 실제로 새로 변수를 생성하여 할당하는 것임\n",
    "* 리스트에서 특정 값을 가지고 있는지 여부를 체크하면 linear scan하기때문에 dicts이나 sets에 비해(hash tables에 기반하여 constant time 안에 찾는) 많이 느림\n",
    "\n",
    "별다른 언급 없다면 아래 내용은 Sequence types 모두 공통 적용되는 것들"
   ]
  },
  {
   "cell_type": "markdown",
   "metadata": {},
   "source": [
    "range객체는 파이썬3버전에 새로 생긴것. 2버전에서 range(2)하면 [0,1] 리스트가 생겼으나, 메모리 문제로 range 객체가 생성하는 방식으로 3버전에서 바뀜 "
   ]
  },
  {
   "cell_type": "markdown",
   "metadata": {},
   "source": [
    "### Indexing, Slicing\n",
    "sequence니 indexing으로 접근 가능하다(subscriptable)"
   ]
  },
  {
   "cell_type": "code",
   "execution_count": 214,
   "metadata": {
    "collapsed": true,
    "jupyter": {
     "outputs_hidden": true
    }
   },
   "outputs": [
    {
     "name": "stdout",
     "output_type": "stream",
     "text": [
      "a 2\n"
     ]
    }
   ],
   "source": [
    "seq = ('a','b','c')\n",
    "a = seq[0]\n",
    "b = seq.index('c') #특정 요소의 index값 구하기\n",
    "print(a,b)"
   ]
  },
  {
   "cell_type": "markdown",
   "metadata": {},
   "source": [
    "dict도 non-sequncial이지만 d[key] 형태로 접근함.    \n",
    "하지만 이는 index가 아닌 key로 접근하는 것!"
   ]
  },
  {
   "cell_type": "code",
   "execution_count": 14,
   "metadata": {},
   "outputs": [
    {
     "data": {
      "text/plain": [
       "1"
      ]
     },
     "execution_count": 14,
     "metadata": {},
     "output_type": "execute_result"
    }
   ],
   "source": [
    "d = {'a':1, 'b':2, 'c':3} \n",
    "d['a']"
   ]
  },
  {
   "cell_type": "markdown",
   "metadata": {},
   "source": [
    "set은 []접근 불가(not subscriptable)"
   ]
  },
  {
   "cell_type": "markdown",
   "metadata": {},
   "source": [
    "[start:stop]"
   ]
  },
  {
   "cell_type": "code",
   "execution_count": 16,
   "metadata": {},
   "outputs": [
    {
     "name": "stdout",
     "output_type": "stream",
     "text": [
      "[2, 3] [2, 3]\n"
     ]
    }
   ],
   "source": [
    "seq = [1, 2, 3, 4, 5]\n",
    "a = seq[1:3]\n",
    "b = seq[-4:-2]\n",
    "print(a,b)"
   ]
  },
  {
   "cell_type": "code",
   "execution_count": 17,
   "metadata": {},
   "outputs": [
    {
     "name": "stdout",
     "output_type": "stream",
     "text": [
      "[2, 3, 4] [2, 3, 4, 5] [2, 3, 4, 5]\n"
     ]
    }
   ],
   "source": [
    "a = seq[1:-1] # 아래랑 같다고 생각하면 안됨\n",
    "b = seq[1:]\n",
    "c = seq[1:len(seq)] # len+1로 해줘야 위와 동일하다고 착각할 수 있음에 주의\n",
    "print(a,b,c)"
   ]
  },
  {
   "cell_type": "code",
   "execution_count": 18,
   "metadata": {},
   "outputs": [
    {
     "name": "stdout",
     "output_type": "stream",
     "text": [
      "[1, 2, 3, 4, 5] [1, 2, 3, 4, 5]\n",
      "4462939024 4454161056 4462939024\n"
     ]
    }
   ],
   "source": [
    "a = seq[:] # 이건 값 복사 하여 새로운 변수 생성\n",
    "b = seq # 이건 동일 변수로. 즉 결과 다름\n",
    "print(a,b)\n",
    "print(id(seq),id(a),id(b))"
   ]
  },
  {
   "cell_type": "code",
   "execution_count": 157,
   "metadata": {},
   "outputs": [
    {
     "name": "stdout",
     "output_type": "stream",
     "text": [
      "[1, 3, 5] [5, 3, 1] [5, 4, 3, 2, 1]\n"
     ]
    }
   ],
   "source": [
    "#  Extended Slices: step \n",
    "a = seq[::2]\n",
    "b = seq[::-2]\n",
    "c = seq[::-1] # reversing으로 활용!!\n",
    "print(a,b,c)"
   ]
  },
  {
   "cell_type": "code",
   "execution_count": 20,
   "metadata": {},
   "outputs": [
    {
     "data": {
      "text/plain": [
       "[1, 500, 600, 2, 3]"
      ]
     },
     "execution_count": 20,
     "metadata": {},
     "output_type": "execute_result"
    }
   ],
   "source": [
    "# 이런식으로 값 추가에도 사용가능함\n",
    "l=[1,2,3]\n",
    "l[1:1] = [500, 600]\n",
    "l"
   ]
  },
  {
   "cell_type": "markdown",
   "metadata": {
    "toc-hr-collapsed": false
   },
   "source": [
    "### 정렬: sorted(seq), reversed(seq)\n",
    "- list만 가지고 있는 l.sort() 등의 method에 반해 immutable sequence도 이용가능한 함수들\n",
    "- 인자로 immutable sequence를 받아 연산하지만, 결과는 list로 리턴함"
   ]
  },
  {
   "cell_type": "code",
   "execution_count": 38,
   "metadata": {},
   "outputs": [
    {
     "data": {
      "text/plain": [
       "[1, 2, 6, 7]"
      ]
     },
     "execution_count": 38,
     "metadata": {},
     "output_type": "execute_result"
    },
    {
     "data": {
      "text/plain": [
       "[' ', 'a', 'c', 'e', 'e', 'h', 'o', 'r', 'r', 's']"
      ]
     },
     "execution_count": 38,
     "metadata": {},
     "output_type": "execute_result"
    },
    {
     "data": {
      "text/plain": [
       "[6, 2, 1, 7]"
      ]
     },
     "execution_count": 38,
     "metadata": {},
     "output_type": "execute_result"
    },
    {
     "name": "stdout",
     "output_type": "stream",
     "text": [
      "['b', 'c']\n"
     ]
    }
   ],
   "source": [
    "sorted((7, 1, 2, 6))\n",
    "sorted('horse race') # 정렬된 새 리스트를 리턴. 공백도 포함해서 정렬함\n",
    "\n",
    "list(reversed((7, 1, 2, 6))) # ‘reversed’ 객체를 반환하므로 형전환 해줘 이용\n",
    "\n",
    "print( sorted({'c':1, 'b':2})) #dict도 되긴 하는데 큰 의미가..."
   ]
  },
  {
   "cell_type": "code",
   "execution_count": 187,
   "metadata": {},
   "outputs": [
    {
     "name": "stdout",
     "output_type": "stream",
     "text": [
      "[['maria', 'A', 25], ['andrew', 'B', 7], ['john', 'C', 19]]\n",
      "[['andrew', 'B', 7], ['john', 'C', 19], ['maria', 'A', 25]]\n"
     ]
    }
   ],
   "source": [
    "#2차원 정렬: 거의 사용 안할듯\n",
    "students = [\n",
    "    ['john', 'C', 19],\n",
    "    ['maria', 'A', 25],\n",
    "    ['andrew', 'B', 7]\n",
    "]\n",
    " \n",
    "print(sorted(students, key=lambda student: student[1]))  # 안쪽 리스트의 인덱스 1을 기준('A', 'B', 'C' 순)으로 정렬\n",
    "print(sorted(students, key=lambda student: student[2]))  # 안쪽 리스트의 인덱스 2를 기준(7, 19, 25 순)으로 정렬"
   ]
  },
  {
   "cell_type": "markdown",
   "metadata": {},
   "source": [
    "### 통계"
   ]
  },
  {
   "cell_type": "markdown",
   "metadata": {},
   "source": [
    "#### seq.count(elem): 특정 요소값 갯수 세기"
   ]
  },
  {
   "cell_type": "code",
   "execution_count": 43,
   "metadata": {},
   "outputs": [
    {
     "name": "stdout",
     "output_type": "stream",
     "text": [
      "4 2\n"
     ]
    }
   ],
   "source": [
    "t = (1, 2, 2, 2, 3, 4, 2)\n",
    "s = \"aabcd\"\n",
    "\n",
    "print(t.count(2), s.count('a')) # a tuple 속 2개수"
   ]
  },
  {
   "cell_type": "markdown",
   "metadata": {},
   "source": [
    "#### min(iterable), max(), sum()"
   ]
  },
  {
   "cell_type": "code",
   "execution_count": 44,
   "metadata": {},
   "outputs": [
    {
     "data": {
      "text/plain": [
       "1"
      ]
     },
     "execution_count": 44,
     "metadata": {},
     "output_type": "execute_result"
    },
    {
     "data": {
      "text/plain": [
       "4"
      ]
     },
     "execution_count": 44,
     "metadata": {},
     "output_type": "execute_result"
    },
    {
     "data": {
      "text/plain": [
       "16"
      ]
     },
     "execution_count": 44,
     "metadata": {},
     "output_type": "execute_result"
    }
   ],
   "source": [
    "min(t)\n",
    "max(t)\n",
    "sum(t)"
   ]
  },
  {
   "cell_type": "markdown",
   "metadata": {},
   "source": [
    "### 변형"
   ]
  },
  {
   "cell_type": "markdown",
   "metadata": {},
   "source": [
    "#### +: concatenate\n",
    "(단 range는 안됨! 오류남)"
   ]
  },
  {
   "cell_type": "markdown",
   "metadata": {},
   "source": [
    "point wise 연산이라 생각하면 안됨. string 연결되는거 생각해야함"
   ]
  },
  {
   "cell_type": "code",
   "execution_count": 129,
   "metadata": {},
   "outputs": [
    {
     "data": {
      "text/plain": [
       "(1, 2, 3, 1, 2, 3)"
      ]
     },
     "execution_count": 129,
     "metadata": {},
     "output_type": "execute_result"
    }
   ],
   "source": [
    "(1,2,3) + (1,2,3) # (2,4,6) 나오는게 아님"
   ]
  },
  {
   "cell_type": "code",
   "execution_count": 133,
   "metadata": {},
   "outputs": [
    {
     "data": {
      "text/plain": [
       "'Hello, 10'"
      ]
     },
     "execution_count": 133,
     "metadata": {},
     "output_type": "execute_result"
    }
   ],
   "source": [
    "'Hello, ' + str(10)"
   ]
  },
  {
   "cell_type": "raw",
   "metadata": {},
   "source": [
    "# 같은 자료형끼리 해야함. 아래 다 오류\n",
    "(1,2,3) + [1,2,3]\n",
    "(1,2,3) + 4"
   ]
  },
  {
   "cell_type": "code",
   "execution_count": 141,
   "metadata": {},
   "outputs": [
    {
     "data": {
      "text/plain": [
       "(1, 2, 3, 1, 2, 3, 1, 2, 3)"
      ]
     },
     "execution_count": 141,
     "metadata": {},
     "output_type": "execute_result"
    }
   ],
   "source": [
    "# +가 되니 *도 됨. Multiplying\n",
    "(1,2,3) * 3"
   ]
  },
  {
   "cell_type": "markdown",
   "metadata": {},
   "source": [
    "'+'는 새로 list 생성하고 copy하는 작업이 포함되어 있기에   \n",
    "mutable한 list의 경우에는 extend 쓰는게 빠름"
   ]
  },
  {
   "cell_type": "code",
   "execution_count": 2,
   "metadata": {},
   "outputs": [
    {
     "data": {
      "text/plain": [
       "[1, 2, 3, 4, 5]"
      ]
     },
     "execution_count": 2,
     "metadata": {},
     "output_type": "execute_result"
    }
   ],
   "source": [
    "x = [1,2,3]\n",
    "x.extend([4])  # element로 collection 넣어줘야 함. x.extend(4)는 오류\n",
    "x.append(5)  # .append()할때는 인자로 element를 넣어줌. extend와 햇갈리지 않도록 \n",
    "x"
   ]
  },
  {
   "cell_type": "markdown",
   "metadata": {},
   "source": [
    "#### Unpacking(리스트와 튜플로 변수 만들기)\n",
    "- 각각 변수에 들어감\n",
    "- 변수의 개수와 리스트(튜플)의 요소 개수는 같아야 함"
   ]
  },
  {
   "cell_type": "code",
   "execution_count": 14,
   "metadata": {},
   "outputs": [
    {
     "data": {
      "text/plain": [
       "5"
      ]
     },
     "execution_count": 14,
     "metadata": {},
     "output_type": "execute_result"
    }
   ],
   "source": [
    "tup = (4, 5, 6)\n",
    "a, b, c = tup #a, b = tup 하면 오류남 \"too many values to unpack\"\n",
    "b"
   ]
  },
  {
   "cell_type": "code",
   "execution_count": 15,
   "metadata": {},
   "outputs": [
    {
     "data": {
      "text/plain": [
       "7"
      ]
     },
     "execution_count": 15,
     "metadata": {},
     "output_type": "execute_result"
    }
   ],
   "source": [
    "tup = 4, 5, (6, 7)\n",
    "a, b, (c, d) = tup\n",
    "d"
   ]
  },
  {
   "cell_type": "markdown",
   "metadata": {},
   "source": [
    "unpacking을 활용 예시"
   ]
  },
  {
   "cell_type": "code",
   "execution_count": 25,
   "metadata": {},
   "outputs": [
    {
     "data": {
      "text/plain": [
       "(2, 1)"
      ]
     },
     "execution_count": 25,
     "metadata": {},
     "output_type": "execute_result"
    }
   ],
   "source": [
    "# swap\n",
    "a, b = 1, 2 # 이게 사실 tuple이었던 것!\n",
    "b, a = a, b\n",
    "a, b"
   ]
  },
  {
   "cell_type": "code",
   "execution_count": 20,
   "metadata": {},
   "outputs": [
    {
     "name": "stdout",
     "output_type": "stream",
     "text": [
      "a=1, b=2, c=3\n",
      "a=4, b=5, c=6\n",
      "a=7, b=8, c=9\n"
     ]
    }
   ],
   "source": [
    "#  iterating over sequences of tuples or lists\n",
    "seq = [(1, 2, 3), (4, 5, 6), (7, 8, 9)]\n",
    "for a, b, c in seq:\n",
    "    print(f'a={a}, b={b}, c={c}')"
   ]
  },
  {
   "cell_type": "code",
   "execution_count": 123,
   "metadata": {},
   "outputs": [
    {
     "name": "stdin",
     "output_type": "stream",
     "text": [
      " 1 2\n"
     ]
    }
   ],
   "source": [
    "a, b = input().split()"
   ]
  },
  {
   "cell_type": "code",
   "execution_count": 28,
   "metadata": {},
   "outputs": [
    {
     "data": {
      "text/plain": [
       "[3, 4, 5]"
      ]
     },
     "execution_count": 28,
     "metadata": {},
     "output_type": "execute_result"
    }
   ],
   "source": [
    "# 함수에서 인자 받을 때, 그 길이를 모르는 경우 *rest 표현을 통해 나머지 전부를 받을 수 있음.보통 *_ 으로 사용\n",
    "values = 1, 2, 3, 4, 5\n",
    "a, b, *_ = values\n",
    "a, b\n",
    "_"
   ]
  },
  {
   "cell_type": "markdown",
   "metadata": {},
   "source": [
    "#### zip\n",
    "- 같은 순서에 있는 요소끼리 묶어주기(vector를 matrix로 바꿔주는?)"
   ]
  },
  {
   "cell_type": "code",
   "execution_count": 81,
   "metadata": {},
   "outputs": [
    {
     "data": {
      "text/plain": [
       "[('a1', 'b1'), ('a2', 'b2'), ('a3', 'b3')]"
      ]
     },
     "execution_count": 81,
     "metadata": {},
     "output_type": "execute_result"
    }
   ],
   "source": [
    "seq1 = ['a1', 'a2', 'a3']\n",
    "seq2 = ['b1', 'b2', 'b3']\n",
    "zipped = zip(seq1, seq2)\n",
    "list( zipped )"
   ]
  },
  {
   "cell_type": "code",
   "execution_count": 83,
   "metadata": {},
   "outputs": [
    {
     "data": {
      "text/plain": [
       "[('a1', 'b1', False), ('a2', 'b2', True)]"
      ]
     },
     "execution_count": 83,
     "metadata": {},
     "output_type": "execute_result"
    }
   ],
   "source": [
    "# 만약 합치는 sequece의 elements 개수가 다르다면 가장 작은걸 기준으로 만들어짐\n",
    "seq3 = [False, True]\n",
    "list(zip(seq1, seq2, seq3))"
   ]
  },
  {
   "cell_type": "markdown",
   "metadata": {},
   "source": [
    "실제 사용할 때는 아래와 같이 seq를 zip(*seq)형태로 전달해서 사용할듯.   \n",
    "이렇게 넣어주면 list를 unpacking해서 함수에 전달해줌   \n",
    "https://mingrammer.com/understanding-the-asterisk-of-python/"
   ]
  },
  {
   "cell_type": "code",
   "execution_count": 39,
   "metadata": {},
   "outputs": [
    {
     "data": {
      "text/plain": [
       "('Nolan', 'Roger', 'Schilling')"
      ]
     },
     "execution_count": 39,
     "metadata": {},
     "output_type": "execute_result"
    },
    {
     "data": {
      "text/plain": [
       "('Ryan', 'Clemens', 'Curt')"
      ]
     },
     "execution_count": 39,
     "metadata": {},
     "output_type": "execute_result"
    }
   ],
   "source": [
    "pitchers = [('Nolan', 'Ryan'), ('Roger', 'Clemens'),\n",
    "            ('Schilling', 'Curt')]\n",
    "first_names, last_names = zip(*pitchers) # list unpacking하여 넣기. zip(('Nolan', 'Ryan'), ('Roger', 'Clemens'), ('Schilling', 'Curt'))와 동일\n",
    "first_names\n",
    "last_names"
   ]
  },
  {
   "cell_type": "markdown",
   "metadata": {},
   "source": [
    "실제 활용"
   ]
  },
  {
   "cell_type": "code",
   "execution_count": 85,
   "metadata": {},
   "outputs": [
    {
     "name": "stdout",
     "output_type": "stream",
     "text": [
      "0: a1, b1\n",
      "1: a2, b2\n",
      "2: a3, b3\n"
     ]
    }
   ],
   "source": [
    "for i, (a, b) in enumerate(zip(seq1, seq2)):\n",
    "    print('{0}: {1}, {2}'.format(i, a, b))"
   ]
  },
  {
   "cell_type": "code",
   "execution_count": 41,
   "metadata": {},
   "outputs": [
    {
     "data": {
      "text/plain": [
       "{'health': 10, 'mana': 20}"
      ]
     },
     "execution_count": 41,
     "metadata": {},
     "output_type": "execute_result"
    }
   ],
   "source": [
    "# dict 생성\n",
    "d3 = dict(zip(['health', 'mana'], [10, 20]))  \n",
    "d3"
   ]
  },
  {
   "cell_type": "markdown",
   "metadata": {
    "toc-hr-collapsed": false
   },
   "source": [
    "### List: mutable sequence(assign, Adding,removing,sorting elements)"
   ]
  },
  {
   "cell_type": "markdown",
   "metadata": {},
   "source": [
    "* 변하게 하는거니 당연히 list에만 해당(파이썬에서 mutable한 \n",
    "* 모두 l.function() 하면 l 자체가 변하게 되는 함수 (앞 sorted, revered와 비교)\n",
    "* pop 말고는 따로 리턴 안함"
   ]
  },
  {
   "cell_type": "markdown",
   "metadata": {},
   "source": [
    "#### Assign(할당)"
   ]
  },
  {
   "cell_type": "markdown",
   "metadata": {},
   "source": [
    "##### 내부 element에 할당( 당연히 list만 가능!)"
   ]
  },
  {
   "cell_type": "code",
   "execution_count": 184,
   "metadata": {},
   "outputs": [
    {
     "data": {
      "text/plain": [
       "[1, 2, 4]"
      ]
     },
     "execution_count": 184,
     "metadata": {},
     "output_type": "execute_result"
    }
   ],
   "source": [
    "l = [1,2,3]\n",
    "l[2] = 4\n",
    "l"
   ]
  },
  {
   "cell_type": "markdown",
   "metadata": {},
   "source": [
    "##### 슬라이싱으로 요소 할당하기(당연히 list만 됨)"
   ]
  },
  {
   "cell_type": "code",
   "execution_count": 176,
   "metadata": {},
   "outputs": [
    {
     "name": "stdout",
     "output_type": "stream",
     "text": [
      "[1, 2, 3, 'a', 'b']\n",
      "[1, 'a', 'b', 3, 4, 5]\n"
     ]
    }
   ],
   "source": [
    "seq1 = [1, 2, 3, 4, 5]\n",
    "seq2 = [1, 2, 3, 4, 5]\n",
    "seq1[3:5] = ['a', 'b'] # 각각 한 번에 바꾸기. len그대로\n",
    "print(seq1)\n",
    "seq2[1:1] = ['a', 'b'] # 갯수 안맞게 넣으면 끼워넣기처럼 작동\n",
    "print(seq2)"
   ]
  },
  {
   "cell_type": "code",
   "execution_count": 183,
   "metadata": {},
   "outputs": [
    {
     "name": "stdout",
     "output_type": "stream",
     "text": [
      "[1, 'a', 3, 'b', 5]\n"
     ]
    }
   ],
   "source": [
    "seq1 = [1, 2, 3, 4, 5]\n",
    "seq1[1:5:2] = ['a', 'b'] \n",
    "print(seq1)\n",
    "\n",
    "# 이건 딱 갯수 맞아야 함. seq1[1:5:4] = ['a', 'b']는 오류"
   ]
  },
  {
   "cell_type": "markdown",
   "metadata": {},
   "source": [
    "If an object inside a tuple is mutable, such as a list, you can modify it in-place:"
   ]
  },
  {
   "cell_type": "code",
   "execution_count": 21,
   "metadata": {},
   "outputs": [
    {
     "data": {
      "text/plain": [
       "('foo', [1, 2, 3], True)"
      ]
     },
     "execution_count": 21,
     "metadata": {},
     "output_type": "execute_result"
    }
   ],
   "source": [
    "t = ('foo', [1, 2], True)\n",
    "t[1].append(3)\n",
    "t"
   ]
  },
  {
   "cell_type": "markdown",
   "metadata": {},
   "source": [
    "#### 요소 추가/삽입하기: append/insert, extend, +알파(deque, bisect)"
   ]
  },
  {
   "cell_type": "code",
   "execution_count": 109,
   "metadata": {},
   "outputs": [
    {
     "name": "stdout",
     "output_type": "stream",
     "text": [
      "['a', 'b', 'c', 'd']\n",
      "['a', 'e', 'b', 'c', 'd']\n",
      "['a', 500, 600, 'e', 'b', 'c', 'd', 4, 5, 500, 600]\n"
     ]
    }
   ],
   "source": [
    "l1 = ['a', 'b', 'c']\n",
    "\n",
    "l1.append('d') #끝에 추가 = l1.insert(len(l1), 'd')\n",
    "print(l1)\n",
    "l1.insert(1, 'e') #특정 위치에 삽입\n",
    "print(l1)\n",
    "l1.extend([4,5]) #리스트 확장. 리스트만 인자로 가질 수 있음. append와 구분하기\n",
    "l1[1:1] = [500, 600] #slice 활용! 중간에 여러개 넣고 싶을때.\n",
    "l1[len(l1):] = [500, 600] # l1[len(l1)]는 index out of range\n",
    "print(l1)\n",
    "# insert는 append보다 computationally expensive함. insert로 추가한 값 위치 이후의 원소들 전체가 자리를 하나씩 옮겨야 하기 때문이다. "
   ]
  },
  {
   "cell_type": "code",
   "execution_count": 102,
   "metadata": {},
   "outputs": [
    {
     "name": "stdout",
     "output_type": "stream",
     "text": [
      "deque([10, 20, 30])\n",
      "deque([10, 20, 30, 500])\n",
      "deque([20, 30, 500])\n"
     ]
    }
   ],
   "source": [
    "# 순차 자료형의 시작과 끝지점에 원소를 추가/삭제하고 싶다면 양방향 큐인 collections.deque를 사용하자\n",
    "from collections import deque    # collections 모듈에서 deque를 가져옴\n",
    "a = deque([10, 20, 30]) ; print(a)\n",
    "a.append(500) ; print(a)    # 덱의 오른쪽에 500 추가\n",
    "a.popleft() ; print(a)     # 덱의 왼쪽 요소 하나 삭제"
   ]
  },
  {
   "cell_type": "markdown",
   "metadata": {},
   "source": [
    "(sorted list라고 가정하고) 특정 숫자가 어느자리로 들어가야하는지 Binary search방식으로 찾아주는 함수\n",
    "* `bisect`는 자리 찾아주고, `insort`는 실제로 삽입"
   ]
  },
  {
   "cell_type": "code",
   "execution_count": 49,
   "metadata": {},
   "outputs": [
    {
     "name": "stdout",
     "output_type": "stream",
     "text": [
      "3\n",
      "[1, 2, 2, 3, 4, 6]\n",
      "[1, 2, 2, 3, 2, 2]\n"
     ]
    }
   ],
   "source": [
    "import bisect\n",
    "sl = [1, 2, 2, 3, 4]\n",
    "ul = [1, 2, 2, 3, 2]\n",
    "\n",
    "i = bisect.bisect(sl, 2) #같은것 있으면 맨 뒷자리 반환\n",
    "bisect.insort(sl, 6)\n",
    "bisect.insort(ul, 2) #정렬 안되어있으면 error 안나도  binary search 알고리즘에 따라 이상한 결과 리턴할수 있으니 주의\n",
    "\n",
    "print(i,sl,ul, sep='\\n')"
   ]
  },
  {
   "cell_type": "markdown",
   "metadata": {},
   "source": [
    "#### 요소 삭제하기: pop, remove, del+slicing"
   ]
  },
  {
   "cell_type": "markdown",
   "metadata": {},
   "source": [
    "- 모두 특정 원소 삭제 후, list index를 재조정해줌. 반면 slicing은 원본은 그대로 두고 새로운 list를 리턴해주는것\n",
    "- l.pop()과 del l[]은 index로, l.remove()는 value로\n",
    "- pop만 삭제한 요소 리턴해줌\n",
    "- del은 list indexing으로 표현하니, 다양하게 삭제 범위 지정 가능\n",
    "- 만약 해당 값이 없다면 모두 오류 발생시킴\n",
    "- 속도는 del > pop(), remove()> slicing 순임"
   ]
  },
  {
   "cell_type": "code",
   "execution_count": 101,
   "metadata": {},
   "outputs": [
    {
     "name": "stdout",
     "output_type": "stream",
     "text": [
      "['a', 'b', 'a', 'c', 'd']\n",
      "['a', 'a', 'c', 'd']\n",
      "['a', 'c', 'd']\n",
      "['c', 'd']\n",
      "b\n"
     ]
    }
   ],
   "source": [
    "l = ['a', 'b','a', 'c', 'd', 'a']\n",
    "\n",
    "a = l.pop(); print(l) # 기본적으로 마지막 요소 삭제\n",
    "a = l.pop(1); print(l) # removes and returns by index\n",
    "del l[1]; print(l)\n",
    "l.remove('a'); print(l) # removes by value (no return)\n",
    "\n",
    "print(a)\n",
    "\n",
    "#remove는 0부터 탐색해서 제거함(pop은 index로 처리하니 앞에서 부터라는 개념이 없지만...)"
   ]
  },
  {
   "cell_type": "code",
   "execution_count": 243,
   "metadata": {},
   "outputs": [
    {
     "name": "stdout",
     "output_type": "stream",
     "text": [
      "[4, 5, 6, 7, 8, 9, 10]\n",
      "[1, 2, 4, 6, 8, 9, 10]\n"
     ]
    }
   ],
   "source": [
    "l = [1, 2, 3, 4, 5, 6, 7, 8, 9, 10]\n",
    "del l[0:3]; print(l)\n",
    "\n",
    "l = [1, 2, 3, 4, 5, 6, 7, 8, 9, 10]\n",
    "del l[2:8:2]; print(l) "
   ]
  },
  {
   "cell_type": "markdown",
   "metadata": {},
   "source": [
    "#### 요소 정렬하기,뒤집기: sort, reverse\n",
    "* 정렬 기준값이 같으면 처음 순서에 따라"
   ]
  },
  {
   "cell_type": "code",
   "execution_count": 225,
   "metadata": {},
   "outputs": [
    {
     "name": "stdout",
     "output_type": "stream",
     "text": [
      "[1, 2, 3, 5, 7] ['a', 'bbb', 'cc']\n",
      "['a', 'cc', 'bbb']\n",
      "['bbb', 'cc', 'a']\n"
     ]
    }
   ],
   "source": [
    "l1 = [7, 2, 5, 1, 3]\n",
    "l2 = ['a', 'cc', 'bbb']\n",
    "l1.sort(); l2.sort() \n",
    "print( l1,l2 )\n",
    "\n",
    "l2.sort(key=len) #길이로 정렬\n",
    "print( l2 )\n",
    "\n",
    "l2.reverse()\n",
    "print( l2 )"
   ]
  },
  {
   "cell_type": "markdown",
   "metadata": {},
   "source": [
    "l.sort()/l.reverse()와 sorted(), reversed() 비교\n",
    "- 전자는 list만 가능. 후자는 seq 모두 가능\n",
    "- 전자는 지정된 list를 바꿔놓음. 후자는 인자로 넣은 seq를 새로운 리스트로 만들어 리턴해줌"
   ]
  },
  {
   "cell_type": "markdown",
   "metadata": {},
   "source": [
    "## Dictionary: MutableMapping"
   ]
  },
  {
   "cell_type": "markdown",
   "metadata": {},
   "source": [
    "- flexibly sized collection of key-value pairs. hash map or associative array라고도 볼 수 있음\n",
    "- key를 통해 접근한다는 특성 때문에, key가 없을 때/있을 때를 위한 .get(), .setdefault()와 같은 함수를 이용"
   ]
  },
  {
   "cell_type": "markdown",
   "metadata": {},
   "source": [
    "### 선언하기 :  {키1: 값1, 키2: 값2}"
   ]
  },
  {
   "cell_type": "code",
   "execution_count": 53,
   "metadata": {},
   "outputs": [
    {
     "name": "stdout",
     "output_type": "stream",
     "text": [
      "{'health': 10, 'mana': 20}\n",
      "{'health': 10, 'mana': 20}\n",
      "{'health': 10, 'mana': 20}\n"
     ]
    }
   ],
   "source": [
    "d1 = {'health': 10, 'mana': 20}  # {'key':value}\n",
    "d2 = dict(health=10, mana=20)    # dict(key=value) \n",
    "d3 = dict([('health', 10), ('mana', 20)])\n",
    "print(d1, d2, d3, sep='\\n')"
   ]
  },
  {
   "cell_type": "code",
   "execution_count": 90,
   "metadata": {},
   "outputs": [],
   "source": [
    "# 빈 dict 선언하기\n",
    "d4 = { }\n",
    "d5 = dict() # 위와 동일"
   ]
  },
  {
   "cell_type": "code",
   "execution_count": 3,
   "metadata": {},
   "outputs": [
    {
     "name": "stdout",
     "output_type": "stream",
     "text": [
      "{'a': 4, 'b': 2, 'c': 3}\n"
     ]
    }
   ],
   "source": [
    "# 키가 중복되면 가장 뒤에 있는 값만 저장됨\n",
    "d = {'a': 1, 'b': 2, 'c': 3, 'a': 4}\n",
    "print(d)"
   ]
  },
  {
   "cell_type": "markdown",
   "metadata": {},
   "source": [
    "#### Creating dicts from sequences"
   ]
  },
  {
   "cell_type": "code",
   "execution_count": 63,
   "metadata": {},
   "outputs": [
    {
     "data": {
      "text/plain": [
       "{'health': 10, 'mana': 20}"
      ]
     },
     "execution_count": 63,
     "metadata": {},
     "output_type": "execute_result"
    },
    {
     "data": {
      "text/plain": [
       "{'health': 100, 'mana': 100}"
      ]
     },
     "execution_count": 63,
     "metadata": {},
     "output_type": "execute_result"
    }
   ],
   "source": [
    "dict(zip(['health', 'mana'], [10, 20]))    # zip 함수로 키 리스트와 값 리스트를 묶음\n",
    "dict.fromkeys(['health', 'mana'], 100) # 모두 동일한 value로 dict 생성"
   ]
  },
  {
   "cell_type": "markdown",
   "metadata": {},
   "source": [
    "#### key로 immutable type인 str, int, float, bool과 tuple까지 사용가능함\n",
    "mutable인  list, set, dict 등은 사용불가"
   ]
  },
  {
   "cell_type": "code",
   "execution_count": 188,
   "metadata": {},
   "outputs": [],
   "source": [
    "d = {100: 'hundred', False: 0, (1,2): [3.5, 3.5]}"
   ]
  },
  {
   "cell_type": "markdown",
   "metadata": {},
   "source": [
    "### dict 키/값 반환하기"
   ]
  },
  {
   "cell_type": "markdown",
   "metadata": {},
   "source": [
    "[파이썬 3.0 이후 버전의 keys 함수, 어떻게 달라졌나?]\n",
    "\n",
    "파이썬 2.7 버전까지는 a.keys() 함수를 호출할 때 반환 값으로 dict_keys가 아닌 리스트를 돌려준다. 리스트를 돌려주기 위해서는 메모리 낭비가 발생하기에 파이썬 3.0 이후 버전부터는 dict_keys 객체를 돌려준다. 다음에 소개할 dict_values, dict_items 역시 파이썬 3.0 이후 버전에서 추가된 것들이다. 만약 3.0 이후 버전에서 반환 값으로 리스트가 필요한 경우에는 list(a.keys())를 사용하면 된다. dict_keys, dict_values, dict_items 등은 리스트로 변환하지 않더라도 기본적인 반복(iterate) 구문(예: for문)을 실행할 수 있다."
   ]
  },
  {
   "cell_type": "code",
   "execution_count": 69,
   "metadata": {},
   "outputs": [
    {
     "data": {
      "text/plain": [
       "['health', 'mana', 'armor']"
      ]
     },
     "execution_count": 69,
     "metadata": {},
     "output_type": "execute_result"
    },
    {
     "data": {
      "text/plain": [
       "[10, 20, 30]"
      ]
     },
     "execution_count": 69,
     "metadata": {},
     "output_type": "execute_result"
    }
   ],
   "source": [
    "d1 = {'health': 10, 'mana': 20, 'armor':30}\n",
    "\n",
    "list(d1.keys())  # dict_keys 객체 반환\n",
    "list(d1.values())  # dict_values 객체 반환"
   ]
  },
  {
   "cell_type": "code",
   "execution_count": 68,
   "metadata": {},
   "outputs": [
    {
     "name": "stdout",
     "output_type": "stream",
     "text": [
      "health 10\n",
      "mana 20\n",
      "armor 30\n"
     ]
    }
   ],
   "source": [
    "for key, value in d1.items(): #dict_items 형으로 키-값 쌍 반환.\n",
    "    print(key, value)"
   ]
  },
  {
   "cell_type": "markdown",
   "metadata": {},
   "source": [
    "### 요소 접근/할당/추가하기"
   ]
  },
  {
   "cell_type": "markdown",
   "metadata": {},
   "source": [
    "#### 기본적으로 d[key] 방식"
   ]
  },
  {
   "cell_type": "code",
   "execution_count": 54,
   "metadata": {},
   "outputs": [
    {
     "data": {
      "text/plain": [
       "{'health': 11, 'mana': 20, 'armor': 30, 7: 'seven'}"
      ]
     },
     "execution_count": 54,
     "metadata": {},
     "output_type": "execute_result"
    }
   ],
   "source": [
    "d1 = {'health': 10, 'mana': 20}\n",
    "d1['health']=11 # 기존에 있는 key면 값 변경\n",
    "d1['armor']=30  # 기존에 없는 key면 추가\n",
    "d1[7] = 'seven' # 이걸 7번째 자리에 값을 넣는다고 착각하지 않도록 주의\n",
    "d1\n",
    "\n",
    "#이 외에 setdefault 등의 method를 쓸수 있는데 크게 필요없을듯...\n",
    "# https://dojang.io/mod/page/view.php?id=2307"
   ]
  },
  {
   "cell_type": "markdown",
   "metadata": {},
   "source": [
    "#### 여러개 한 번에 추가하기: .update()"
   ]
  },
  {
   "cell_type": "code",
   "execution_count": 56,
   "metadata": {},
   "outputs": [
    {
     "data": {
      "text/plain": [
       "{'health': 11, 'mana': 20, 'armor': 30, 7: 'seven', 'b': 'foo', 'c': 12}"
      ]
     },
     "execution_count": 56,
     "metadata": {},
     "output_type": "execute_result"
    }
   ],
   "source": [
    "d1.update({'b': 'foo', 'c': 12}) # d1+{'b': 'foo', 'c': 12} 는 오류남\n",
    "d1"
   ]
  },
  {
   "cell_type": "markdown",
   "metadata": {},
   "source": [
    "#### dict을 이용할 때, 존재하지 않는 키(nokey)로 인한 문제를 고려해야 함"
   ]
  },
  {
   "cell_type": "markdown",
   "metadata": {},
   "source": [
    "##### 가져오기: get(key, default_value) 사용\n",
    "이 key가 있다면 value 리턴해주고, 만약 key가 없으면 오류 말고 이 값을 리턴해줘"
   ]
  },
  {
   "cell_type": "code",
   "execution_count": null,
   "metadata": {},
   "outputs": [],
   "source": [
    "# d.get(key, default_value) 의미\n",
    "if key in d:\n",
    "    value = d[key]\n",
    "else:\n",
    "    value = default_value"
   ]
  },
  {
   "cell_type": "code",
   "execution_count": 61,
   "metadata": {},
   "outputs": [
    {
     "name": "stdout",
     "output_type": "stream",
     "text": [
      "None {'name': 'pey', 'phone': '0119993323', 'birth': '1118'}\n",
      "0 {'name': 'pey', 'phone': '0119993323', 'birth': '1118'}\n"
     ]
    }
   ],
   "source": [
    "d = {'name':'pey', 'phone':'0119993323', 'birth': '1118'}\n",
    "value1 = d.get('key')     # key가 없으므로 None 리턴 \n",
    "print(value1, d)\n",
    "value2 = d.get('key', 0)  # key가 없으면, 0을 리턴해 \n",
    "print(value2, d)"
   ]
  },
  {
   "cell_type": "markdown",
   "metadata": {},
   "source": [
    "##### 추가하기: d.setdefault(key, default_value) 사용\n",
    "해당 key가 이미 존재한다면 아무것도 하지말고, 없다면 이 key- default_value 넣어줘"
   ]
  },
  {
   "cell_type": "code",
   "execution_count": 19,
   "metadata": {},
   "outputs": [],
   "source": [
    "# d.setdefault(key, value) 의 의미\n",
    "if key not in d:\n",
    "    d[key] = value\n",
    "\n",
    "# 활용 : d.setdefault(key, []).append(value) 의 의미\n",
    "if key not in d:\n",
    "    d[key] = [value]\n",
    "else:\n",
    "    d[key].append(value)"
   ]
  },
  {
   "cell_type": "code",
   "execution_count": 20,
   "metadata": {},
   "outputs": [
    {
     "data": {
      "text/plain": [
       "{'a': ['apple', 'atom'], 'b': ['bat', 'bar', 'book']}"
      ]
     },
     "execution_count": 20,
     "metadata": {},
     "output_type": "execute_result"
    }
   ],
   "source": [
    "words = ['apple', 'bat', 'bar', 'atom', 'book']\n",
    "by_letter = {}\n",
    "\n",
    "for word in words:\n",
    "    letter = word[0]\n",
    "    by_letter.setdefault(letter, []).append(word)\n",
    "by_letter"
   ]
  },
  {
   "cell_type": "markdown",
   "metadata": {},
   "source": [
    "##### collections import defaultdict 활용\n",
    "없는 key로 접근한 경우, 오류발생시키는게 아닌 지정한 defualt값으로 초기화해주는 dict\n",
    "https://dongdongfather.tistory.com/69"
   ]
  },
  {
   "cell_type": "code",
   "execution_count": 23,
   "metadata": {},
   "outputs": [
    {
     "data": {
      "text/plain": [
       "defaultdict(list, {'a': ['apple', 'atom'], 'b': ['bat', 'bar', 'book']})"
      ]
     },
     "execution_count": 23,
     "metadata": {},
     "output_type": "execute_result"
    }
   ],
   "source": [
    "from collections import defaultdict\n",
    "by_letter = defaultdict(list) # 없는 key로 접근하면 empty list 반환해라\n",
    "for word in words:\n",
    "    by_letter[word[0]].append(word)\n",
    "by_letter"
   ]
  },
  {
   "cell_type": "markdown",
   "metadata": {},
   "source": [
    "### 요소 삭제하기 : .pop(key), .popitem(), del d[key], .clear()"
   ]
  },
  {
   "cell_type": "code",
   "execution_count": 74,
   "metadata": {},
   "outputs": [
    {
     "name": "stdout",
     "output_type": "stream",
     "text": [
      "10 {'mana': 20, 'armor': 30}\n",
      "None\n",
      "('armor', 30) {'mana': 20}\n",
      "{}\n"
     ]
    },
    {
     "data": {
      "text/plain": [
       "{}"
      ]
     },
     "execution_count": 74,
     "metadata": {},
     "output_type": "execute_result"
    }
   ],
   "source": [
    "d1 = {'health': 10, 'mana': 20, 'armor':30}\n",
    "\n",
    "print( d1.pop('health'), d1) # 지정은 key로, 리턴값은 value. pop이지만 list와 다르게 꼭 인자 넣어줘야함\n",
    "print( d1.pop('health', None) ) #만약 값이 없으면 오류내지 말고 None을 리턴해라. list pop()에는 없는 기능\n",
    "print( d1.popitem(), d1)# 마지막 아이템의 키-값쌍을 튜플로 리턴. 인자 없음\n",
    "del d1['mana'] ; print(d1) #삭제하는 다른 방법\n",
    "\n",
    "d1 = {'health': 10, 'mana': 20, 'armor':30}\n",
    "d1.clear()  # 전체 삭제\n",
    "\n",
    "d1"
   ]
  },
  {
   "cell_type": "markdown",
   "metadata": {},
   "source": [
    "## set: MutableSet"
   ]
  },
  {
   "cell_type": "markdown",
   "metadata": {},
   "source": [
    "### set 특성: MutableSet(NonSequence)이다. "
   ]
  },
  {
   "cell_type": "code",
   "execution_count": 59,
   "metadata": {},
   "outputs": [
    {
     "data": {
      "text/plain": [
       "True"
      ]
     },
     "execution_count": 59,
     "metadata": {},
     "output_type": "execute_result"
    }
   ],
   "source": [
    "{1, 2, 3} == {3, 2, 1}"
   ]
  },
  {
   "cell_type": "markdown",
   "metadata": {},
   "source": [
    " set 자료형에 저장된 값을 인덱싱으로 접근하려면 다음과 같이 리스트나 튜플로 변환한후 해야 한다. 즉 set[] 방식으로 접근못함\n"
   ]
  },
  {
   "cell_type": "markdown",
   "metadata": {},
   "source": [
    "set은 immutable type(hashable)만 element로 가질 수 있음. "
   ]
  },
  {
   "cell_type": "code",
   "execution_count": null,
   "metadata": {},
   "outputs": [],
   "source": [
    "# 아래 다 오류남\n",
    "{[1, 2], 3, 4, 5}\n",
    "{{1, 2}, 3, 4, 5}\n",
    "\n",
    "#반면 tuple은 아래도 가능\n",
    "t = ('foo', [1, 2], True)"
   ]
  },
  {
   "cell_type": "markdown",
   "metadata": {},
   "source": [
    "변경불가능한 set 만들고 싶다면 frozenset 이용"
   ]
  },
  {
   "cell_type": "code",
   "execution_count": 77,
   "metadata": {},
   "outputs": [
    {
     "data": {
      "text/plain": [
       "frozenset({0, 1, 2, 3, 4, 5, 6, 7, 8, 9})"
      ]
     },
     "execution_count": 77,
     "metadata": {},
     "output_type": "execute_result"
    }
   ],
   "source": [
    "frozenset(range(10)) # 변경불가능한 set"
   ]
  },
  {
   "cell_type": "markdown",
   "metadata": {},
   "source": [
    "### 요소 추가, 삭제: `add()`, `discrd()`"
   ]
  },
  {
   "cell_type": "code",
   "execution_count": 90,
   "metadata": {},
   "outputs": [
    {
     "data": {
      "text/plain": [
       "{1, 2, 4}"
      ]
     },
     "execution_count": 90,
     "metadata": {},
     "output_type": "execute_result"
    }
   ],
   "source": [
    "s = {3, 2, 1}\n",
    "s.add(4)\n",
    "s.discard(3)\n",
    "s.discard(5)  # 해당 element가 없어도 오류 발생 안시키는게 remove와 다른 점\n",
    "s"
   ]
  },
  {
   "cell_type": "markdown",
   "metadata": {},
   "source": [
    "### 집합 연산"
   ]
  },
  {
   "cell_type": "code",
   "execution_count": 65,
   "metadata": {},
   "outputs": [],
   "source": [
    "a = {1, 2, 3,4}\n",
    "b = {2, 3, 4}"
   ]
  },
  {
   "cell_type": "code",
   "execution_count": 67,
   "metadata": {},
   "outputs": [
    {
     "name": "stdout",
     "output_type": "stream",
     "text": [
      "{1, 2, 3, 4} {1, 2, 3, 4}\n",
      "{2, 3, 4} {2, 3, 4}\n",
      "{1} {1}\n",
      "{1} {1}\n"
     ]
    },
    {
     "data": {
      "text/plain": [
       "{1, 2, 3, 4}"
      ]
     },
     "execution_count": 67,
     "metadata": {},
     "output_type": "execute_result"
    }
   ],
   "source": [
    "print( a.union(b), a | b )    # a or b는 결과가 다르게 나옴\n",
    "print( a.intersection(b), a & b ) # a and b는 결과가 다르게 나옴\n",
    "print( a.difference(b), a - b )\n",
    "print( a.symmetric_difference(b), a ^ b  ) # either a or b but not both\n",
    "\n",
    "a # 위와 같이 연산해도 a는 안바뀜... 하려면 아래처럼 대입해줘야함"
   ]
  },
  {
   "cell_type": "code",
   "execution_count": 79,
   "metadata": {},
   "outputs": [
    {
     "name": "stdout",
     "output_type": "stream",
     "text": [
      "{1, 2, 3, 4}\n",
      "{2, 3}\n"
     ]
    }
   ],
   "source": [
    "# 아래처럼 대입과 같이 하려면 줄여쓸 수 있음\n",
    "c = a.copy()\n",
    "c |= b ; print(c) # c= c|b\n",
    "d = a.copy()\n",
    "d &= b ; print(d)"
   ]
  },
  {
   "cell_type": "markdown",
   "metadata": {},
   "source": [
    "##### 포함관계 확인"
   ]
  },
  {
   "cell_type": "code",
   "execution_count": 58,
   "metadata": {},
   "outputs": [
    {
     "data": {
      "text/plain": [
       "True"
      ]
     },
     "execution_count": 58,
     "metadata": {},
     "output_type": "execute_result"
    },
    {
     "data": {
      "text/plain": [
       "True"
      ]
     },
     "execution_count": 58,
     "metadata": {},
     "output_type": "execute_result"
    },
    {
     "data": {
      "text/plain": [
       "False"
      ]
     },
     "execution_count": 58,
     "metadata": {},
     "output_type": "execute_result"
    }
   ],
   "source": [
    "a_set = {1, 2, 3, 4, 5}\n",
    "{1, 2, 3}.issubset(a_set)\n",
    "a_set.issuperset({1, 2, 3})\n",
    "a_set.isdisjoint({1, 2, 3}) # if a and b have no elements in common"
   ]
  },
  {
   "cell_type": "markdown",
   "metadata": {},
   "source": [
    "# 제어문(Control Statement) "
   ]
  },
  {
   "cell_type": "markdown",
   "metadata": {},
   "source": [
    "## for loops"
   ]
  },
  {
   "cell_type": "markdown",
   "metadata": {},
   "source": [
    "for loops are for iterating over a collection (list, tuple, dict, set?) or an iterater"
   ]
  },
  {
   "cell_type": "markdown",
   "metadata": {},
   "source": [
    "기본: for value in collection:, continue, break"
   ]
  },
  {
   "cell_type": "code",
   "execution_count": 19,
   "metadata": {},
   "outputs": [
    {
     "name": "stdout",
     "output_type": "stream",
     "text": [
      "(1, 0)\n",
      "(1, 1)\n",
      "(2, 0)\n",
      "(2, 1)\n",
      "(2, 2)\n"
     ]
    }
   ],
   "source": [
    "for i in [1,2, None]:\n",
    "    if i is None:\n",
    "        continue\n",
    "    for j in range(4):\n",
    "        if j > i:\n",
    "            break\n",
    "        print((i, j))"
   ]
  },
  {
   "cell_type": "code",
   "execution_count": 34,
   "metadata": {},
   "outputs": [
    {
     "data": {
      "text/plain": [
       "21"
      ]
     },
     "execution_count": 34,
     "metadata": {},
     "output_type": "execute_result"
    }
   ],
   "source": [
    "# 실제로 dict에서는 아래처럼 사용\n",
    "x = {'a': 10, 'b': 20, 'c': 30, 'd': 40}\n",
    " \n",
    "for key, value in x.items(): # 그냥 for i in dict :로 하면 key만 반환됨\n",
    "    if value == 20:    # 값이 20이면\n",
    "        x[key]+1     "
   ]
  },
  {
   "cell_type": "markdown",
   "metadata": {},
   "source": [
    "#### range 활용"
   ]
  },
  {
   "cell_type": "code",
   "execution_count": 23,
   "metadata": {},
   "outputs": [],
   "source": [
    "seq = [1, 2, 3, 4]\n",
    "for i in range(len(seq)):\n",
    "    val = seq[i]"
   ]
  },
  {
   "cell_type": "code",
   "execution_count": 28,
   "metadata": {},
   "outputs": [
    {
     "data": {
      "text/plain": [
       "47"
      ]
     },
     "execution_count": 28,
     "metadata": {},
     "output_type": "execute_result"
    }
   ],
   "source": [
    "count = 0\n",
    "for i in range(100):\n",
    "    if i % 3 == 0 or i % 5 == 0:\n",
    "        count += 1\n",
    "count"
   ]
  },
  {
   "cell_type": "markdown",
   "metadata": {},
   "source": [
    "#### unpacking 활용(sequences)\n",
    "- dict은 안됨.(물론 in dict.values()처럼 하면 되지만 이건 리스트를 반환하는거니)"
   ]
  },
  {
   "cell_type": "code",
   "execution_count": 20,
   "metadata": {},
   "outputs": [
    {
     "name": "stdout",
     "output_type": "stream",
     "text": [
      "a=1, b=2, c=3\n",
      "a=4, b=5, c=6\n",
      "a=7, b=8, c=9\n"
     ]
    }
   ],
   "source": [
    "#  iterating over sequences of tuples or lists\n",
    "seq = [(1, 2, 3), (4, 5, 6), (7, 8, 9)]\n",
    "for a, b, c in seq:\n",
    "    print(f'a={a}, b={b}, c={c}')"
   ]
  },
  {
   "cell_type": "markdown",
   "metadata": {},
   "source": [
    "#### enumerate 활용(sequence)"
   ]
  },
  {
   "cell_type": "markdown",
   "metadata": {},
   "source": [
    "- 다음과 같이 index of the current item을 하도 많이 쓰니까 enumerate 함수를 만들어둠. 아래 두개는 완전 동일\n",
    "- set이나 dict도 오류나진 않는데, index값 가져와도 의미가 없으니 사용x\n"
   ]
  },
  {
   "cell_type": "code",
   "execution_count": 53,
   "metadata": {},
   "outputs": [
    {
     "name": "stdout",
     "output_type": "stream",
     "text": [
      "0 a\n",
      "1 b\n",
      "2 c\n"
     ]
    }
   ],
   "source": [
    "i = 0\n",
    "l = ['a','b','c']\n",
    "for value in l:\n",
    "    print(i, value)\n",
    "    i += 1"
   ]
  },
  {
   "cell_type": "code",
   "execution_count": 149,
   "metadata": {},
   "outputs": [
    {
     "name": "stdout",
     "output_type": "stream",
     "text": [
      "0 a\n",
      "1 b\n",
      "2 c\n"
     ]
    }
   ],
   "source": [
    "l = ['a','b','c']\n",
    "for i, value in enumerate(l):\n",
    "    print(i, value)"
   ]
  },
  {
   "cell_type": "code",
   "execution_count": 150,
   "metadata": {},
   "outputs": [
    {
     "name": "stdout",
     "output_type": "stream",
     "text": [
      "1 a\n",
      "2 b\n",
      "3 c\n"
     ]
    }
   ],
   "source": [
    "for i, value in enumerate(l,1): #출력하는 index값 조정하고 싶을때, index1부터 사용하는게 아님!\n",
    "    print(i, value)"
   ]
  },
  {
   "cell_type": "markdown",
   "metadata": {},
   "source": [
    "zip과 결합해서 col->row로 바꿔서 하나씩 실행"
   ]
  },
  {
   "cell_type": "code",
   "execution_count": 85,
   "metadata": {},
   "outputs": [
    {
     "name": "stdout",
     "output_type": "stream",
     "text": [
      "0: a1, b1\n",
      "1: a2, b2\n",
      "2: a3, b3\n"
     ]
    }
   ],
   "source": [
    "seq1 = ['a1', 'a2', 'a3']\n",
    "seq2 = ['b1', 'b2', 'b3']\n",
    "for i, (a, b) in enumerate(zip(seq1, seq2)):\n",
    "    print('{0}: {1}, {2}'.format(i, a, b))"
   ]
  },
  {
   "cell_type": "markdown",
   "metadata": {},
   "source": [
    "## List, Set, and Dict Comprehensions"
   ]
  },
  {
   "cell_type": "markdown",
   "metadata": {},
   "source": [
    " for문, if문 등을 활용하여 리스트 등을 생성하는 방법을 의미함   \n",
    " map()과 유사한 결과를 리턴"
   ]
  },
  {
   "cell_type": "code",
   "execution_count": 92,
   "metadata": {},
   "outputs": [
    {
     "name": "stdout",
     "output_type": "stream",
     "text": [
      "['BAT', 'CAR', 'DOVE', 'PYTHON']\n",
      "{1, 2, 3, 4, 6}\n",
      "[2, 4, 6, 8, 10, 12, 14, 16, 18, 3, 6, 9, 12, 15, 18, 21, 24, 27]\n"
     ]
    },
    {
     "data": {
      "text/plain": [
       "{10: 'a', 20: 'b', 30: 'c', 40: 'd'}"
      ]
     },
     "execution_count": 92,
     "metadata": {},
     "output_type": "execute_result"
    },
    {
     "data": {
      "text/plain": [
       "{'a': 10, 'c': 30, 'd': 40}"
      ]
     },
     "execution_count": 92,
     "metadata": {},
     "output_type": "execute_result"
    }
   ],
   "source": [
    "strings = ['a', 'as', 'bat', 'car', 'dove', 'python']\n",
    "\n",
    "print( [x.upper() for x in strings if len(x) > 2]  )\n",
    "print( {len(x) for x in strings}  )\n",
    "print( [i * j for j in range(2, 4) #2단부터 3ㅠ단까지 구구단\n",
    "               for i in range(1, 10)]  )\n",
    "\n",
    "d={'a': 10, 'b': 20, 'c': 30, 'd': 40}\n",
    "{value: key for key, value in d.items()}  # 키-값 자리를 바꿈\n",
    "{key: value for key, value in d.items() if value != 20} #값이 20인것 삭제"
   ]
  },
  {
   "cell_type": "code",
   "execution_count": 94,
   "metadata": {},
   "outputs": [
    {
     "data": {
      "text/plain": [
       "{1, 2, 3, 4, 6}"
      ]
     },
     "execution_count": 94,
     "metadata": {},
     "output_type": "execute_result"
    }
   ],
   "source": [
    "unique_lengths = set(map(len, strings))\n",
    "unique_lengths"
   ]
  },
  {
   "cell_type": "code",
   "execution_count": 95,
   "metadata": {},
   "outputs": [
    {
     "data": {
      "text/plain": [
       "{'a': 0, 'as': 1, 'bat': 2, 'car': 3, 'dove': 4, 'python': 5}"
      ]
     },
     "execution_count": 95,
     "metadata": {},
     "output_type": "execute_result"
    }
   ],
   "source": [
    "loc_mapping = {val : index for index, val in enumerate(strings)}\n",
    "loc_mapping"
   ]
  },
  {
   "cell_type": "markdown",
   "metadata": {},
   "source": [
    "### Nested list comprehensions"
   ]
  },
  {
   "cell_type": "code",
   "execution_count": 98,
   "metadata": {},
   "outputs": [],
   "source": [
    "all_data = [['John', 'Emily', 'Michael', 'Mary', 'Steven'],\n",
    "            ['Maria', 'Juan', 'Javier', 'Natalia', 'Pilar']]"
   ]
  },
  {
   "cell_type": "code",
   "execution_count": 99,
   "metadata": {},
   "outputs": [
    {
     "data": {
      "text/plain": [
       "['Steven']"
      ]
     },
     "execution_count": 99,
     "metadata": {},
     "output_type": "execute_result"
    }
   ],
   "source": [
    "names_of_interest = []\n",
    "for names in all_data:\n",
    "    enough_es = [name for name in names if name.count('e') >= 2]\n",
    "    names_of_interest.extend(enough_es)\n",
    "names_of_interest"
   ]
  },
  {
   "cell_type": "code",
   "execution_count": 157,
   "metadata": {},
   "outputs": [
    {
     "data": {
      "text/plain": [
       "['Steven']"
      ]
     },
     "execution_count": 157,
     "metadata": {},
     "output_type": "execute_result"
    }
   ],
   "source": [
    "# all_Data > names > name -> for 2 in 3 for 1 in 2\n",
    "result = [name for names in all_data for name in names\n",
    "          if name.count('e') >= 2]\n",
    "result"
   ]
  },
  {
   "cell_type": "code",
   "execution_count": 100,
   "metadata": {},
   "outputs": [
    {
     "data": {
      "text/plain": [
       "[1, 2, 3, 4, 5, 6, 7, 8, 9]"
      ]
     },
     "execution_count": 100,
     "metadata": {},
     "output_type": "execute_result"
    }
   ],
   "source": [
    "some_tuples = [(1, 2, 3), (4, 5, 6), (7, 8, 9)]\n",
    "flattened = [x for tup in some_tuples for x in tup]\n",
    "flattened"
   ]
  },
  {
   "cell_type": "code",
   "execution_count": 101,
   "metadata": {},
   "outputs": [],
   "source": [
    "flattened = []\n",
    "\n",
    "for tup in some_tuples:\n",
    "    for x in tup:\n",
    "        flattened.append(x)"
   ]
  },
  {
   "cell_type": "code",
   "execution_count": 102,
   "metadata": {},
   "outputs": [
    {
     "data": {
      "text/plain": [
       "[[1, 2, 3], [4, 5, 6], [7, 8, 9]]"
      ]
     },
     "execution_count": 102,
     "metadata": {},
     "output_type": "execute_result"
    }
   ],
   "source": [
    "[[x for x in tup] for tup in some_tuples]"
   ]
  },
  {
   "cell_type": "markdown",
   "metadata": {},
   "source": [
    "## 예외처리: try / except"
   ]
  },
  {
   "cell_type": "markdown",
   "metadata": {},
   "source": [
    "### 에러 예시: IndexError, ValueError"
   ]
  },
  {
   "cell_type": "code",
   "execution_count": 2,
   "metadata": {},
   "outputs": [
    {
     "ename": "IndexError",
     "evalue": "list index out of range",
     "output_type": "error",
     "traceback": [
      "\u001b[0;31m---------------------------------------------------------------------------\u001b[0m",
      "\u001b[0;31mIndexError\u001b[0m                                Traceback (most recent call last)",
      "\u001b[0;32m<ipython-input-2-5781d1f06c6d>\u001b[0m in \u001b[0;36m<module>\u001b[0;34m\u001b[0m\n\u001b[1;32m      1\u001b[0m \u001b[0;31m# IndexError\u001b[0m\u001b[0;34m\u001b[0m\u001b[0;34m\u001b[0m\u001b[0;34m\u001b[0m\u001b[0m\n\u001b[1;32m      2\u001b[0m \u001b[0ml\u001b[0m \u001b[0;34m=\u001b[0m \u001b[0;34m[\u001b[0m\u001b[0;34m]\u001b[0m\u001b[0;34m\u001b[0m\u001b[0;34m\u001b[0m\u001b[0m\n\u001b[0;32m----> 3\u001b[0;31m \u001b[0ml\u001b[0m\u001b[0;34m[\u001b[0m\u001b[0;36m0\u001b[0m\u001b[0;34m]\u001b[0m\u001b[0;34m\u001b[0m\u001b[0;34m\u001b[0m\u001b[0m\n\u001b[0m",
      "\u001b[0;31mIndexError\u001b[0m: list index out of range"
     ]
    }
   ],
   "source": [
    "# IndexError\n",
    "l = []\n",
    "l[0]"
   ]
  },
  {
   "cell_type": "code",
   "execution_count": 3,
   "metadata": {},
   "outputs": [
    {
     "ename": "ValueError",
     "evalue": "invalid literal for int() with base 10: 'abc'",
     "output_type": "error",
     "traceback": [
      "\u001b[0;31m---------------------------------------------------------------------------\u001b[0m",
      "\u001b[0;31mValueError\u001b[0m                                Traceback (most recent call last)",
      "\u001b[0;32m<ipython-input-3-1a5dc553560e>\u001b[0m in \u001b[0;36m<module>\u001b[0;34m\u001b[0m\n\u001b[1;32m      1\u001b[0m \u001b[0;31m# ValueError\u001b[0m\u001b[0;34m\u001b[0m\u001b[0;34m\u001b[0m\u001b[0;34m\u001b[0m\u001b[0m\n\u001b[1;32m      2\u001b[0m \u001b[0mtext\u001b[0m \u001b[0;34m=\u001b[0m \u001b[0;34m'abc'\u001b[0m\u001b[0;34m\u001b[0m\u001b[0;34m\u001b[0m\u001b[0m\n\u001b[0;32m----> 3\u001b[0;31m \u001b[0mnumber\u001b[0m \u001b[0;34m=\u001b[0m \u001b[0mint\u001b[0m\u001b[0;34m(\u001b[0m\u001b[0mtext\u001b[0m\u001b[0;34m)\u001b[0m\u001b[0;34m\u001b[0m\u001b[0;34m\u001b[0m\u001b[0m\n\u001b[0m",
      "\u001b[0;31mValueError\u001b[0m: invalid literal for int() with base 10: 'abc'"
     ]
    }
   ],
   "source": [
    "# ValueError\n",
    "text = 'abc'\n",
    "number = int(text)"
   ]
  },
  {
   "cell_type": "code",
   "execution_count": 4,
   "metadata": {},
   "outputs": [
    {
     "ename": "ModuleNotFoundError",
     "evalue": "No module named 'your_module'",
     "output_type": "error",
     "traceback": [
      "\u001b[0;31m---------------------------------------------------------------------------\u001b[0m",
      "\u001b[0;31mModuleNotFoundError\u001b[0m                       Traceback (most recent call last)",
      "\u001b[0;32m<ipython-input-4-b6ca45736f9c>\u001b[0m in \u001b[0;36m<module>\u001b[0;34m\u001b[0m\n\u001b[1;32m      1\u001b[0m \u001b[0;31m# ImportError\u001b[0m\u001b[0;34m\u001b[0m\u001b[0;34m\u001b[0m\u001b[0;34m\u001b[0m\u001b[0m\n\u001b[0;32m----> 2\u001b[0;31m \u001b[0;32mimport\u001b[0m \u001b[0myour_module\u001b[0m\u001b[0;34m\u001b[0m\u001b[0;34m\u001b[0m\u001b[0m\n\u001b[0m",
      "\u001b[0;31mModuleNotFoundError\u001b[0m: No module named 'your_module'"
     ]
    }
   ],
   "source": [
    "# ModuleNotFoundError\n",
    "import your_module"
   ]
  },
  {
   "cell_type": "markdown",
   "metadata": {},
   "source": [
    "### try / except문 사용 예시"
   ]
  },
  {
   "cell_type": "markdown",
   "metadata": {},
   "source": [
    "에러가 발생할 것 같은 코드를 try안에 넣고 except 뒤에 발생할 수 있는 에러의 이름을 적어두면, 에러 발생시 프로그램이 멈추지 않고 별도 처리가 가능하다.  \n",
    "https://wayhome25.github.io/python/2017/02/26/py-12-exception/"
   ]
  },
  {
   "cell_type": "code",
   "execution_count": null,
   "metadata": {},
   "outputs": [],
   "source": [
    "text = '100%'\n",
    "\n",
    "try :\n",
    "    number = int(text) # 에러가 발생할 가능성이 있는 코드\n",
    "except ValueError :  # 에러 종류\n",
    "    print('{}는 숫자가 아닙니다.'.format(text))  #에러가 발생 했을 경우 처리할 코드"
   ]
  },
  {
   "cell_type": "markdown",
   "metadata": {},
   "source": [
    "보통은 if문을 사용하는 것이 좋으나 try 문으로만 해결이 가능한 문제도 있다."
   ]
  },
  {
   "cell_type": "code",
   "execution_count": 6,
   "metadata": {},
   "outputs": [
    {
     "name": "stdout",
     "output_type": "stream",
     "text": [
      "5 index의 값을 가져올 수 없습니다.\n",
      "모듈이 없습니다.\n"
     ]
    }
   ],
   "source": [
    "# if 문\n",
    "def safe_pop_print(list, index):\n",
    "    if index < len(list):\n",
    "        print(list.pop(index))\n",
    "    else:\n",
    "        print('{} index의 값을 가져올 수 없습니다.'.format(index))\n",
    "\n",
    "safe_pop_print([1,2,3], 5) # 5 index의 값을 가져올 수 없습니다.\n",
    "\n",
    "try:\n",
    "    import your_module\n",
    "except ImportError:\n",
    "    print('모듈이 없습니다.')"
   ]
  },
  {
   "cell_type": "markdown",
   "metadata": {},
   "source": [
    "이름을 모르면 이름을 적지않아도 되나, 가능하면 적어주는게 좋다."
   ]
  },
  {
   "cell_type": "code",
   "execution_count": null,
   "metadata": {},
   "outputs": [],
   "source": [
    "# 모든 에러 처리\n",
    "try:\n",
    "    list = []\n",
    "    print(list[0])  # 에러가 발생할 가능성이 있는 코드\n",
    "\n",
    "    text = 'abc'\n",
    "    number = int(text)\n",
    "except:\n",
    "    print('에러발생')\n",
    "\n",
    "# 에러 이름 확인\n",
    "try:\n",
    "    list = []\n",
    "    print(list[0])  # 에러가 발생할 가능성이 있는 코드\n",
    "\n",
    "except Exception as ex: # 에러 종류\n",
    "    print('에러가 발생 했습니다', ex) # ex는 발생한 에러의 이름을 받아오는 변수\n",
    "    # 에러가 발생 했습니다 list index out of range"
   ]
  },
  {
   "cell_type": "markdown",
   "metadata": {},
   "source": [
    "### 에러를 직접 일으키기 - raise"
   ]
  },
  {
   "cell_type": "code",
   "execution_count": null,
   "metadata": {},
   "outputs": [],
   "source": [
    "# 올바른 값을 넣지 않으면 에러를 발생시키고 적당한 문구를 표시한다.\n",
    "def rsp(mine, yours):\n",
    "    allowed = ['가위','바위', '보']\n",
    "    if mine not in allowed:\n",
    "        raise ValueError  # 이건 예약어?\n",
    "    if yours not in allowed:\n",
    "        raise ValueError\n",
    "\n",
    "try:\n",
    "    rsp('가위', '바')\n",
    "except ValueError:\n",
    "    print('잘못된 값을 넣었습니다!')"
   ]
  }
 ],
 "metadata": {
  "kernelspec": {
   "display_name": "Python 3",
   "language": "python",
   "name": "python3"
  },
  "language_info": {
   "codemirror_mode": {
    "name": "ipython",
    "version": 3
   },
   "file_extension": ".py",
   "mimetype": "text/x-python",
   "name": "python",
   "nbconvert_exporter": "python",
   "pygments_lexer": "ipython3",
   "version": "3.7.7"
  }
 },
 "nbformat": 4,
 "nbformat_minor": 4
}
