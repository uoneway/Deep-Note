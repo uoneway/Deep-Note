{
  "nbformat": 4,
  "nbformat_minor": 0,
  "metadata": {
    "kernelspec": {
      "display_name": "Python 3",
      "language": "python",
      "name": "python3"
    },
    "language_info": {
      "codemirror_mode": {
        "name": "ipython",
        "version": 3
      },
      "file_extension": ".py",
      "mimetype": "text/x-python",
      "name": "python",
      "nbconvert_exporter": "python",
      "pygments_lexer": "ipython3",
      "version": "3.7.7"
    },
    "toc": {
      "base_numbering": 1,
      "nav_menu": {},
      "number_sections": true,
      "sideBar": true,
      "skip_h1_title": false,
      "title_cell": "Table of Contents",
      "title_sidebar": "Contents",
      "toc_cell": false,
      "toc_position": {},
      "toc_section_display": true,
      "toc_window_display": true
    },
    "toc-autonumbering": true,
    "toc-showmarkdowntxt": false,
    "toc-showtags": false,
    "colab": {
      "name": "1_5_Python_Pythonic.ipynb",
      "provenance": [],
      "toc_visible": true,
      "include_colab_link": true
    }
  },
  "cells": [
    {
      "cell_type": "markdown",
      "metadata": {
        "id": "view-in-github",
        "colab_type": "text"
      },
      "source": [
        "<a href=\"https://colab.research.google.com/github/uoneway/python-note/blob/master/1_5_Python_Pythonic.ipynb\" target=\"_parent\"><img src=\"https://colab.research.google.com/assets/colab-badge.svg\" alt=\"Open In Colab\"/></a>"
      ]
    },
    {
      "cell_type": "markdown",
      "metadata": {
        "id": "Ig0qwHkEZ0O_",
        "colab_type": "text"
      },
      "source": [
        "Written by *uoneway(Kim Hangil)*   \n",
        "https://github.com/uoneway/python_note"
      ]
    },
    {
      "cell_type": "markdown",
      "metadata": {
        "id": "awqMvO6yWdW5",
        "colab_type": "text"
      },
      "source": [
        "본 문서 작성을 위해 다음의 자료들을 기본으로 참고하였고, 그 외 다른 자료를 참고했을 시 링크를 달아놓았습니다.\n",
        "- [Python for Data Analysis: Data Wrangling with Pandas, NumPy, and IPython 2nd Edition by Wes McKinney](https://github.com/wesm/pydata-book)\n",
        "- [The Python Language Reference](https://docs.python.org/3/reference/index.html)\n",
        "- [The Python Standard Library](https://docs.python.org/3/library/index.html#library-index)"
      ]
    },
    {
      "cell_type": "markdown",
      "metadata": {
        "id": "KLQlIetq6_He",
        "colab_type": "text"
      },
      "source": [
        "# Pythonic(파이썬을 좀 더 파이썬스럽게)"
      ]
    },
    {
      "cell_type": "markdown",
      "metadata": {
        "id": "rzA1JKX26_Hf",
        "colab_type": "text"
      },
      "source": [
        "## Python coding style"
      ]
    },
    {
      "cell_type": "markdown",
      "metadata": {
        "id": "QUndZhrV6_Hg",
        "colab_type": "text"
      },
      "source": [
        "- Python Enhancement Proposal 8 (PEP 8): https://www.python.org/dev/peps/pep-0008/\n",
        "- PEP8 한글 번역:\n",
        "https://kongdols-room.tistory.com/18"
      ]
    },
    {
      "cell_type": "markdown",
      "metadata": {
        "id": "Vz1MiSJ96_Hg",
        "colab_type": "text"
      },
      "source": [
        "### Code layout"
      ]
    },
    {
      "cell_type": "markdown",
      "metadata": {
        "id": "VZLs4RPt6_Hh",
        "colab_type": "text"
      },
      "source": [
        "#### Comments"
      ]
    },
    {
      "cell_type": "code",
      "metadata": {
        "id": "eM40788Y6_Hi",
        "colab_type": "code",
        "colab": {}
      },
      "source": [
        "# 이렇게 한 칸 띄고 시작하기.  앞 처럼 문장 끝에는 스페이스 두개 추가하기\n",
        "a = 1 + 1  #구문으로부터 최소 2개 space 띄우기"
      ],
      "execution_count": null,
      "outputs": []
    },
    {
      "cell_type": "code",
      "metadata": {
        "id": "pv2yaQHu6_Hm",
        "colab_type": "code",
        "colab": {},
        "outputId": "4ac3cf23-fe55-466a-f678-7fd5a4eb2ca9"
      },
      "source": [
        "\"\"\"\n",
        "원래 파이썬이네느 여러줄 주석이란 개념은 없지만 \"\"\" \"\"\" 를 사용할 수 있음\n",
        "(원래는 \" \" 사이에 문자열을 저장 하기 위해 사용되지만 앞에 별다른 변수가 없다면 무시가됩니다)\n",
        "\"\"\""
      ],
      "execution_count": null,
      "outputs": [
        {
          "output_type": "execute_result",
          "data": {
            "text/plain": [
              "'\\n원래 파이썬이네느 여러줄 주석이란 개념은 없지만  를 사용할 수 있음\\n(원래는 \" \" 사이에 문자열을 저장 하기 위해 사용되지만 앞에 별다른 변수가 없다면 무시가됩니다)\\n'"
            ]
          },
          "metadata": {
            "tags": []
          },
          "execution_count": 28
        }
      ]
    },
    {
      "cell_type": "markdown",
      "metadata": {
        "id": "67vgEcSH6_Hq",
        "colab_type": "text"
      },
      "source": [
        "#### Docstrings"
      ]
    },
    {
      "cell_type": "markdown",
      "metadata": {
        "id": "IyPNdT116_Hr",
        "colab_type": "text"
      },
      "source": [
        "#### Indentation, 줄바꿈\n",
        "- Tab 대신 4개의 공백(Space) 사용\n",
        "- 라인이 길어 줄바꿈해야 할 때는, 괄호위치에 맞춰주거나, 최소한 괄호 밖의 다른 요소와 구분될 수 있게 추가 indetation해줘야 함"
      ]
    },
    {
      "cell_type": "code",
      "metadata": {
        "id": "Qz9GsYt37Ozt",
        "colab_type": "code",
        "colab": {}
      },
      "source": [
        "# Add 4 spaces (an extra level of indentation) to distinguish arguments from the rest.\n",
        "def long_function_name(\n",
        "        var_one, var_two, var_three,\n",
        "        var_four):\n",
        "    print(var_one)\n",
        "    \n",
        "# Aligned with opening delimiter.\n",
        "foo = long_function_name(var_one, var_two,\n",
        "                         var_three, var_four)\n",
        "\n",
        "##if같이 4칸 안되는 경우?\n",
        "# No extra indentation.\n",
        "if (this_is_one_thing and\n",
        "    that_is_another_thing):\n",
        "    do_something()\n",
        "# Add some extra indentation on the conditional continuation line.\n",
        "if (this_is_one_thing\n",
        "        and that_is_another_thing):\n",
        "    do_something()"
      ],
      "execution_count": null,
      "outputs": []
    },
    {
      "cell_type": "code",
      "metadata": {
        "id": "jYbmSwml6_Hs",
        "colab_type": "code",
        "colab": {}
      },
      "source": [
        "# closing brace/bracket/parenthesis. 아래 둘다 괜찮\n",
        "my_list = [\n",
        "    1, 2, 3,\n",
        "    4, 5, 6,\n",
        "    ]\n",
        "result = some_function_that_takes_arguments(\n",
        "    'a', 'b', 'c',\n",
        "    'd', 'e', 'f',\n",
        ")\n",
        "\n",
        "# Line Break Before a Binary Operator\n",
        "income = (gross_wages\n",
        "          + taxable_interest\n",
        "          + (dividends - qualified_dividends)\n",
        "          - ira_deduction)"
      ],
      "execution_count": null,
      "outputs": []
    },
    {
      "cell_type": "markdown",
      "metadata": {
        "id": "F9NV85dT6_Ht",
        "colab_type": "text"
      },
      "source": [
        "#### Whitespace\n",
        "쓸데없는 공백 주지말기"
      ]
    },
    {
      "cell_type": "code",
      "metadata": {
        "id": "5v1cbeft6_Ht",
        "colab_type": "code",
        "colab": {}
      },
      "source": [
        "spam(ham[1], {eggs: 2})  # Yes\n",
        "spam( ham[ 1 ], { eggs: 2 } )  # No\n",
        "\n",
        "foo = (0,)  # Yes\n",
        "bar = (0, )  # No\n",
        "\n",
        "# Immediately before a comma, semicolon, or colon:\n",
        "if x == 4: print(x, y); x, y = y, x  # Yes\n",
        "if x == 4 : print(x , y) ; x , y = y , x  # No\n",
        "\n",
        "#단 콜론이 위와 같은 경우가 아닌 slicing일때는 양옆 공백 줄거면 동일하게\n",
        "ham[1:9], ham[1:9:3]\n",
        "ham[lower+offset : upper+offset]\n",
        "ham[: upper_fn(x) : step_fn(x)], ham[:: step_fn(x)]\n",
        "ham[lower + offset : upper + offset]"
      ],
      "execution_count": null,
      "outputs": []
    },
    {
      "cell_type": "markdown",
      "metadata": {
        "id": "pCiFDbsV6_Hu",
        "colab_type": "text"
      },
      "source": [
        "기본적으로는 연산자 주변에 공백을 두되, 우선순위에 따라 공백 제거해서 쓰는것도 고려"
      ]
    },
    {
      "cell_type": "code",
      "metadata": {
        "id": "L3HRxykK6_Hv",
        "colab_type": "code",
        "colab": {}
      },
      "source": [
        "var = 0; a = 0; b = 0; c = 0\n",
        "\n",
        "var = var + 1  #Yes\n",
        "var=var+1  #No\n",
        "\n",
        "var += 1  #Yes\n",
        "var +=1  #No\n",
        "\n",
        "var = var*2 - 1  #Yes\n",
        "var = var * 2 - 1  #No\n",
        "\n",
        "var = var*var + var*var  #Yes\n",
        "var = var * var + var * var  #No\n",
        "\n",
        "c = (a+b) * (a-b)  #Yes\n",
        "c = (a + b) * (a - b)  #No\n",
        "\n",
        "# 단 =가 대입연산자가 아닌 argument나 default value로 쓰일경우, 공백 넣지 않기\n",
        "def complex(real, imag=0.0):\n",
        "    return magic(r=real, i=imag)"
      ],
      "execution_count": null,
      "outputs": []
    },
    {
      "cell_type": "markdown",
      "metadata": {
        "id": "dqlULFTn6_Hy",
        "colab_type": "text"
      },
      "source": [
        "#### import문\n",
        "- 항상 파일의 최상단에 넣기\n",
        "- Standard library > 3rd Party 모듈 > 자신의 모듈 순으로\n",
        "- 한 라인에 하나의 모듈: import os, sys(x)"
      ]
    },
    {
      "cell_type": "code",
      "metadata": {
        "id": "8LVmuO716_Hz",
        "colab_type": "code",
        "colab": {}
      },
      "source": [
        "import os\n",
        "import sys\n",
        "from subprocess import Popen, PIPE # 이건 한 모듈 안에 여러개니 ok"
      ],
      "execution_count": null,
      "outputs": []
    },
    {
      "cell_type": "markdown",
      "metadata": {
        "id": "zr5xqHe_6_H2",
        "colab_type": "text"
      },
      "source": [
        "### naming"
      ]
    },
    {
      "cell_type": "markdown",
      "metadata": {
        "id": "KF471bzG6_H4",
        "colab_type": "text"
      },
      "source": [
        "- 클래스는 CoreClass\n",
        "- 패키지명은 totalnumbers(소문자를 사용하지만 밑줄은 사용하지 않음)\n",
        "- 모듈, 함수, 변수, Attribute 명은 total_numbers\n",
        "- 모듈 상수 MAX_COUNT\n",
        "- class의 attrubute/method\n",
        "    - public attribute: 밑줄없이 name\n",
        "    - protected instance attribute는 밑줄 하나로 시작 _initialized\n",
        "    - private instance attribute는 밑줄 2개로 시작 __private_var\n",
        "- method\n",
        "    - 인스턴스 메서드는 (객체 자신을 가리키기 위해) self 사용\t예: def copy(self, other):\n",
        "    - 클래스 메서드는 (클래스 자신을 가리키기 위해) cls 사용  \t예: def clone(cls, other):"
      ]
    },
    {
      "cell_type": "markdown",
      "metadata": {
        "id": "-AURDvDJ6_H4",
        "colab_type": "text"
      },
      "source": [
        "### 기타"
      ]
    },
    {
      "cell_type": "markdown",
      "metadata": {
        "id": "NXcIYNlg6_H5",
        "colab_type": "raw"
      },
      "source": [
        "- 각 라인은 79자 이하로.79는 이정도~~~~~~~~~~~~~~~~~~~~~~~~~~~~~~~~~~~~~~~~~~~~~~~~~~~~~~다\n",
        "- 함수나 클래스는 2개의 공백 라인을 추가하여 구분한다. 메서드는 한 개의 공백 라인으로 구분한다"
      ]
    },
    {
      "cell_type": "markdown",
      "metadata": {
        "id": "xwPUe7276_H6",
        "colab_type": "text"
      },
      "source": [
        "collection에서 값이 비어있는지 아닌지를 검사하기 위해 길이를 체크하는 방식을 사용하지 말 것. \n",
        "- 비어있는 collection은 False임을 이용하여, if mylist 와 같이 표현함"
      ]
    },
    {
      "cell_type": "code",
      "metadata": {
        "id": "i5GunjKd6_H6",
        "colab_type": "code",
        "colab": {}
      },
      "source": [
        "mylist = [1,2,3]\n",
        "\n",
        "#값이 비어있는지 확인할 때\n",
        "if len(mylist) == 0: pass #비권장\n",
        "if not mylist: pass  #권장\n",
        "\n",
        "if len(mylist) > 0: pass #비권장\n",
        "if mylist: pass  #권장"
      ],
      "execution_count": null,
      "outputs": []
    },
    {
      "cell_type": "markdown",
      "metadata": {
        "id": "TG-x4v546_H-",
        "colab_type": "text"
      },
      "source": [
        "슬래시\n",
        "- 경로는 맥에서 '/', 윈도우에서 '\\\\'\n",
        "- 특수문자는 앞에\\ 붙여줌: \\n: 줄바꿈, \\t: 탭 문자, \\\\\\: \\ 문자 자체를 출력\n",
        "- 여러줄 쓸 때 뒤에 '\\\\' (괄호로 묶어져있으면 안써도 됨)"
      ]
    },
    {
      "cell_type": "code",
      "metadata": {
        "id": "f72KtMUQ6_H-",
        "colab_type": "code",
        "colab": {}
      },
      "source": [
        "special_character = '\\n'\n",
        "path = 'data/titanic_train.csv'"
      ],
      "execution_count": null,
      "outputs": []
    },
    {
      "cell_type": "code",
      "metadata": {
        "id": "ycUjT9g16_IB",
        "colab_type": "code",
        "colab": {}
      },
      "source": [
        "if a == True and \\\n",
        "b == False :\n",
        "    pass"
      ],
      "execution_count": null,
      "outputs": []
    },
    {
      "cell_type": "markdown",
      "metadata": {
        "id": "xNW6I2xK6_IE",
        "colab_type": "text"
      },
      "source": [
        "변수 한번에 할당하기"
      ]
    },
    {
      "cell_type": "code",
      "metadata": {
        "id": "ofRjfHLU6_IF",
        "colab_type": "code",
        "colab": {}
      },
      "source": [
        "#이게 사실은 오른쪽 세 요소를 가진 tuple이 unpacking되어 왼쪽 각각에 들어간 것\n",
        "a, b, c = 10, 20, 30"
      ],
      "execution_count": null,
      "outputs": []
    },
    {
      "cell_type": "markdown",
      "metadata": {
        "id": "raPstDp96_IN",
        "colab_type": "text"
      },
      "source": [
        "문장 끝을 ;로 끝낼 필요는 없지만 한줄에 여러 명렬어를 구분하기 위해 쓰기도 함"
      ]
    },
    {
      "cell_type": "code",
      "metadata": {
        "id": "QOeux1_66_IO",
        "colab_type": "code",
        "colab": {}
      },
      "source": [
        "a=1 ; b=2 ; c=3"
      ],
      "execution_count": null,
      "outputs": []
    },
    {
      "cell_type": "code",
      "metadata": {
        "id": "7-I13ONQ6_IR",
        "colab_type": "code",
        "colab": {}
      },
      "source": [
        ""
      ],
      "execution_count": null,
      "outputs": []
    },
    {
      "cell_type": "code",
      "metadata": {
        "id": "4wKjHYFV6_IT",
        "colab_type": "code",
        "colab": {}
      },
      "source": [
        ""
      ],
      "execution_count": null,
      "outputs": []
    },
    {
      "cell_type": "markdown",
      "metadata": {
        "id": "rWufyWfv6_IX",
        "colab_type": "text"
      },
      "source": [
        "### asterisk(*) 사용 용도"
      ]
    },
    {
      "cell_type": "markdown",
      "metadata": {
        "id": "M2yE-sz96_IY",
        "colab_type": "text"
      },
      "source": [
        "파이썬에서 **Asterisk(*)**는 곱셈 및 거듭제곱 연산 이외에도 다음과 같은 상황에서 사용된다.\n",
        "\n",
        "- 리스트형 컨테이너 타입의 데이터를 반복 확장하고자 할 때 \n",
        "- 컨테이너 타입의 데이터를 Unpacking 할 때\n",
        "- 가변인자 (Variadic Arguments)를 사용하고자 할 때\n",
        "\n",
        "https://hwiyong.tistory.com/193"
      ]
    },
    {
      "cell_type": "markdown",
      "metadata": {
        "id": "t91DaVKd6_IY",
        "colab_type": "text"
      },
      "source": [
        "#### 리스트형 컨테이너 타입의 데이터를 반복 확장하고자 할 때 "
      ]
    },
    {
      "cell_type": "code",
      "metadata": {
        "id": "xYcPdpxC6_IZ",
        "colab_type": "code",
        "colab": {},
        "outputId": "00d7d0ed-22fd-41e4-96ec-bc30abe66add"
      },
      "source": [
        "# 길이 100의 제로값 리스트 초기화\n",
        "zeros_list = [0] * 100\n",
        "\n",
        "# list에 대해 연산하면, 해당 리스트 안에 현재 값들을 여러번 반복해서 넣어줌.\n",
        "vector_list2 = [1, 2, 3]\n",
        "print(vector_list2 * 3)\n",
        "\n",
        "# 그래서 다음과 같이 응용할 수 있음. [[]] 이렇게 써주는 것에 유의!!\n",
        "vector_list = [[1, 2, 3]] \n",
        "print(vector_list * 3)\n",
        "\n",
        "for i, vector in enumerate(vector_list * 3):\n",
        "    print(\"{0} scalar product of vector: {1}\".format((i + 1), [(i + 1) * e for e in vector]))"
      ],
      "execution_count": null,
      "outputs": [
        {
          "output_type": "stream",
          "text": [
            "[1, 2, 3, 1, 2, 3, 1, 2, 3]\n",
            "[[1, 2, 3], [1, 2, 3], [1, 2, 3]]\n",
            "1 scalar product of vector: [1, 2, 3]\n",
            "2 scalar product of vector: [2, 4, 6]\n",
            "3 scalar product of vector: [3, 6, 9]\n"
          ],
          "name": "stdout"
        }
      ]
    },
    {
      "cell_type": "markdown",
      "metadata": {
        "id": "HrbUzlma6_Ic",
        "colab_type": "text"
      },
      "source": [
        "### 매개변수(parameter)와 전달인자(argument)에 대한 이해"
      ]
    },
    {
      "cell_type": "markdown",
      "metadata": {
        "id": "g-rymPKL6_Ie",
        "colab_type": "text"
      },
      "source": [
        "#### 정의\n",
        "- x, y, z는 매개변수(parameter). 이름에서 볼 수 있듯이 variable임\n",
        "- 6, 4, 1은 전달인자(argument) 라고함. 값(value)임"
      ]
    },
    {
      "cell_type": "code",
      "metadata": {
        "id": "fzJZGAk76_Ie",
        "colab_type": "code",
        "colab": {}
      },
      "source": [
        "def my_function(x, y, z=1.5): \n",
        "    pass\n",
        "    \n",
        "my_function(6, 4, 1)"
      ],
      "execution_count": null,
      "outputs": []
    },
    {
      "cell_type": "markdown",
      "metadata": {
        "id": "a-bgUe-J6_Ii",
        "colab_type": "text"
      },
      "source": [
        "#### positional arguments와 keyword argument에 대한 이해\n",
        "이 둘은 함수를 call할 때, 인자를 전달하는 방식이다. \n",
        "- positional arguments: 일반적으로 인자를 넣어주는. 그럼 함수는 순서대로 각 인자를 변수에 대응시킨다.\n",
        "- keyword arguments: keyword=value 형태로 인자를 넣어주는 방식\n",
        "\n",
        "참고로 이를 함수를 선언할 때 인자 방식, 즉 defualt값을 지정하는 것(예를 들어 def func(a=None)과    \n",
        "혼동하는 경우가 있는데 이 두 개는 다르다.   \n",
        "`arguments`라는 이름에서도 알 수 있듯이(parameter가 아님) 함수를 call 할 때 value를 넣어주는 방식을 의미함\n",
        "\n",
        "예를 들어 def func(a,b)로 선언한 경우에도 func(b=1,a=1)와 같은 keyword arguments 방식으로 인자 전달이 가능하다)\n",
        "\n",
        "https://velog.io/@devmin/%ED%8C%8C%EC%9D%B4%EC%8D%AC-%ED%95%A8%EC%88%98%EC%9D%98-%ED%8C%8C%EB%9D%BC%EB%AF%B8%ED%84%B0%EB%A7%A4%EA%B0%9C%EB%B3%80%EC%88%98%EC%9D%98-%ED%8A%B9%EC%A7%95-%EC%95%8C%EC%95%84%EB%B3%B4%EA%B8%B0\n",
        "\n",
        "https://suwoni-codelab.com/python%20%EA%B8%B0%EB%B3%B8/2018/03/05/Python-Basic-argument/"
      ]
    },
    {
      "cell_type": "code",
      "metadata": {
        "id": "mLIKHpeC6_Ii",
        "colab_type": "code",
        "colab": {},
        "outputId": "a855f89d-ade9-422c-ae41-05907f83993d"
      },
      "source": [
        "def student_info(name, sex, age) :\n",
        "  print(f\"\"\"\n",
        "      이름 : {name}\n",
        "      성별 : {sex}\n",
        "      나이 : {age}\n",
        "      \"\"\")\n",
        "\n",
        "student_info(\"고길동\", \"남자\", 50)  # positional arguments: \n",
        "student_info(age = 50, name = \"고길동\", sex = \"남자\")  # keyword arguments:"
      ],
      "execution_count": null,
      "outputs": [
        {
          "output_type": "stream",
          "text": [
            "\n",
            "  이름 : 고길동\n",
            "  성별 : 남자\n",
            "  나이 : 50\n",
            "  \n",
            "\n",
            "  이름 : 고길동\n",
            "  성별 : 남자\n",
            "  나이 : 50\n",
            "  \n"
          ],
          "name": "stdout"
        }
      ]
    },
    {
      "cell_type": "markdown",
      "metadata": {
        "id": "UoBOvTuj6_Il",
        "colab_type": "text"
      },
      "source": [
        "두 방식의 특성상 아래와 같이 keyword arguments 선언은 무조건 positional arguments 뒤에 와야한다."
      ]
    },
    {
      "cell_type": "code",
      "metadata": {
        "id": "wnBmUrCW6_Im",
        "colab_type": "code",
        "colab": {},
        "outputId": "350f2062-8e26-4f82-a38c-cde169cf48ed"
      },
      "source": [
        "student_info(\"고길동\", \"남자\", age = 50) "
      ],
      "execution_count": null,
      "outputs": [
        {
          "output_type": "stream",
          "text": [
            "\n",
            "  이름 : 고길동\n",
            "  성별 : 남자\n",
            "  나이 : 50\n",
            "  \n"
          ],
          "name": "stdout"
        }
      ]
    },
    {
      "cell_type": "code",
      "metadata": {
        "id": "5hG0gzhB6_Ip",
        "colab_type": "code",
        "colab": {},
        "outputId": "b803b9c8-6927-4110-d9b0-0b4d51b3969d"
      },
      "source": [
        "student_info(name = \"고길동\", \"남자\", 50) "
      ],
      "execution_count": null,
      "outputs": [
        {
          "output_type": "error",
          "ename": "SyntaxError",
          "evalue": "positional argument follows keyword argument (<ipython-input-35-9c1c2f57d28b>, line 1)",
          "traceback": [
            "\u001b[1;36m  File \u001b[1;32m\"<ipython-input-35-9c1c2f57d28b>\"\u001b[1;36m, line \u001b[1;32m1\u001b[0m\n\u001b[1;33m    student_info(name = \"고길동\", \"남자\", 50)\u001b[0m\n\u001b[1;37m                                    ^\u001b[0m\n\u001b[1;31mSyntaxError\u001b[0m\u001b[1;31m:\u001b[0m positional argument follows keyword argument\n"
          ]
        }
      ]
    },
    {
      "cell_type": "markdown",
      "metadata": {
        "id": "F3KJ-i_r6_Is",
        "colab_type": "text"
      },
      "source": [
        "참고로 함수 선언 시, default 값을 넣어주는 인자들은 유사한 이유로 뒤에 위치해 있어야 한다.   \n",
        "즉 함수 선언 할 때 default 값 지정할 때나, 함수 call 할 때 keyword 지정해 주는건 모두 맨 뒤에 있어야 함"
      ]
    },
    {
      "cell_type": "code",
      "metadata": {
        "id": "H_59vuAA6_Is",
        "colab_type": "code",
        "colab": {}
      },
      "source": [
        "def student_info(name, sex, age=10) :\n",
        "  print(f\"\"\"\n",
        "      이름 : {name}\n",
        "      성별 : {sex}\n",
        "      나이 : {age}\n",
        "      \"\"\")"
      ],
      "execution_count": null,
      "outputs": []
    },
    {
      "cell_type": "code",
      "metadata": {
        "id": "Xoap940d6_Iv",
        "colab_type": "code",
        "colab": {},
        "outputId": "d912d698-2685-4bd1-ad03-1a6d9f464423"
      },
      "source": [
        "def student_info(name, sex='여자', age) :\n",
        "  print(f\"\"\"\n",
        "      이름 : {name}\n",
        "      성별 : {sex}\n",
        "      나이 : {age}\n",
        "      \"\"\")"
      ],
      "execution_count": null,
      "outputs": [
        {
          "output_type": "error",
          "ename": "SyntaxError",
          "evalue": "non-default argument follows default argument (<ipython-input-37-e5ad7a4f7f5c>, line 1)",
          "traceback": [
            "\u001b[1;36m  File \u001b[1;32m\"<ipython-input-37-e5ad7a4f7f5c>\"\u001b[1;36m, line \u001b[1;32m1\u001b[0m\n\u001b[1;33m    def student_info(name, sex='여자', age) :\u001b[0m\n\u001b[1;37m                    ^\u001b[0m\n\u001b[1;31mSyntaxError\u001b[0m\u001b[1;31m:\u001b[0m non-default argument follows default argument\n"
          ]
        }
      ]
    },
    {
      "cell_type": "markdown",
      "metadata": {
        "id": "6WwPp9pb6_Iy",
        "colab_type": "text"
      },
      "source": [
        "#### argument unpacking, parameter packing\n",
        "우리는 종종 들어오는 인자의 갯수를 모른다거나, 그 어떤 인자라도 모두 받아서 처리를 해야하는때가 있다.  대표적인 예가 print() 함수   \n",
        "이 때 생각해볼 수 있는 방법은 크게 두 가지다.\n",
        "- argument unpacking: 함수에 argument를 넣어줄 때 뭔가 표시를 해주거나\n",
        "- parameter packing: 함수 선언 시, parameter에 뭔가 표시를 해주거나(가변인자)"
      ]
    },
    {
      "cell_type": "markdown",
      "metadata": {
        "id": "vYLxlNVK6_Iy",
        "colab_type": "text"
      },
      "source": [
        "##### argument unpacking\n",
        "positional 컨테이너 타입의 데이터들을 unpacking해서 전달하기"
      ]
    },
    {
      "cell_type": "code",
      "metadata": {
        "id": "YXT2kQuT6_I0",
        "colab_type": "code",
        "colab": {},
        "outputId": "8805024c-5cc0-4f05-89b2-47d18d441f12"
      },
      "source": [
        "def func(a,b,c):\n",
        "    return a+b+c\n",
        "func(0,1,2)"
      ],
      "execution_count": null,
      "outputs": [
        {
          "output_type": "execute_result",
          "data": {
            "text/plain": [
              "3"
            ]
          },
          "metadata": {
            "tags": []
          },
          "execution_count": 1
        }
      ]
    },
    {
      "cell_type": "code",
      "metadata": {
        "id": "F0d0tIT06_I3",
        "colab_type": "code",
        "colab": {},
        "outputId": "20bc79b6-8682-4549-d023-e32bd876356f"
      },
      "source": [
        "my_list = [0,1,2]\n",
        "print( func(*my_list) ) # positional argument\n",
        "\n",
        "my_dict = {'a':0, 'b':1, 'c':2}\n",
        "print( func(**my_dict) )  # keyword argument"
      ],
      "execution_count": null,
      "outputs": [
        {
          "output_type": "stream",
          "text": [
            "3\n",
            "3\n"
          ],
          "name": "stdout"
        }
      ]
    },
    {
      "cell_type": "markdown",
      "metadata": {
        "id": "Uiu6H0rV6_I5",
        "colab_type": "text"
      },
      "source": [
        "##### parameter packing: 함수에서 가변인자(Variadic Parameters) 사용하기"
      ]
    },
    {
      "cell_type": "code",
      "metadata": {
        "id": "SZo40eSD6_I6",
        "colab_type": "code",
        "colab": {},
        "outputId": "ebc994aa-0da1-4d88-8523-30ce1d8f27a3"
      },
      "source": [
        "# Variadic positional arguments: tuple로 인자가 들어감\n",
        "def save_ranking(*args):\n",
        "    print(args)\n",
        "save_ranking('ming', 'alice', 'tom', 'wilson', 'roy')\n",
        "\n",
        "# Variadic keyword arguments: dict로 인자가 들어감\n",
        "def save_ranking(**kwargs):\n",
        "    print(kwargs)\n",
        "save_ranking(first='ming', second='alice', fourth='wilson', third='tom', fifth='roy')\n",
        "\n",
        "# positional arguments와 keyword arguments를 모두 받을 때\n",
        "def save_ranking(*args, **kwargs):\n",
        "    print(args)\n",
        "    print(kwargs)\n",
        "save_ranking('ming', 'alice', 'tom', fourth='wilson', fifth='roy')"
      ],
      "execution_count": null,
      "outputs": [
        {
          "output_type": "stream",
          "text": [
            "('ming', 'alice', 'tom', 'wilson', 'roy')\n",
            "{'first': 'ming', 'second': 'alice', 'fourth': 'wilson', 'third': 'tom', 'fifth': 'roy'}\n",
            "('ming', 'alice', 'tom')\n",
            "{'fourth': 'wilson', 'fifth': 'roy'}\n"
          ],
          "name": "stdout"
        }
      ]
    },
    {
      "cell_type": "markdown",
      "metadata": {
        "id": "Eb0kMW9R6_I9",
        "colab_type": "text"
      },
      "source": [
        "모아서 생각해보자!"
      ]
    },
    {
      "cell_type": "code",
      "metadata": {
        "id": "N0RkE6aN6_I9",
        "colab_type": "code",
        "colab": {}
      },
      "source": [
        "def last_fimc(name, email, addr=None, age=20, *args, **kwargs):\n",
        "    print(\"name: \", name )\n",
        "    print(\"email: \", email )\n",
        "    print(\"age: \", age )\n",
        "    \n",
        "    if addr is None:\n",
        "        addr = '서울시'\n",
        "    \n",
        "    for arg in args:\n",
        "        print(arg)\n",
        "        \n",
        "    for key in kwargs:\n",
        "        print(key, kwargs[key])"
      ],
      "execution_count": null,
      "outputs": []
    },
    {
      "cell_type": "code",
      "metadata": {
        "id": "RL7T6gsC6_JA",
        "colab_type": "code",
        "colab": {},
        "outputId": "3370cd29-944a-4ff4-d32d-cbc8e19581bc"
      },
      "source": [
        "last_fimc('김한길', 'uoneway@gmail.com', 'Seoul', 40, 1, 2, 3, is_Korean=True, birth='0305')\n",
        "# last_fimc('김한길', 'uoneway@gmail.com', 'Seoul', age=40, 1, 2, 3, is_Korean=True, birth='0305') \n",
        "# 위와같이 하면 오류남. 함수 콜 할때, keyword방식이 뒤에 1,2,3 앞에 와서"
      ],
      "execution_count": null,
      "outputs": [
        {
          "output_type": "stream",
          "text": [
            "name:  김한길\n",
            "email:  uoneway@gmail.com\n",
            "age:  40\n",
            "1\n",
            "2\n",
            "3\n",
            "is_Korean True\n",
            "birth 0305\n"
          ],
          "name": "stdout"
        }
      ]
    },
    {
      "cell_type": "markdown",
      "metadata": {
        "id": "1_CNDsva6_JD",
        "colab_type": "text"
      },
      "source": [
        "사실 아래 func1, func2는 거의 효과가 동일하다. 하지만 가독성을 위해서 첫번째 방식을...??"
      ]
    },
    {
      "cell_type": "code",
      "metadata": {
        "id": "xftjYqFk6_JD",
        "colab_type": "code",
        "colab": {}
      },
      "source": [
        "def func1(*args, **kwargs):\n",
        "    pass\n",
        "\n",
        "func1(1.2.3, 'name': '김한길', 'email': 'uoneway@gmail.com')\n",
        "\n",
        "def func2(param_list=[], param_dict={}, **kwargs):\n",
        "    pass\n",
        "\n",
        "func2([1.2.3], {'name': '김한길', 'email': 'uoneway@gmail.com'})"
      ],
      "execution_count": null,
      "outputs": []
    },
    {
      "cell_type": "code",
      "metadata": {
        "id": "3Rw4G36z6_JH",
        "colab_type": "code",
        "colab": {}
      },
      "source": [
        ""
      ],
      "execution_count": null,
      "outputs": []
    },
    {
      "cell_type": "markdown",
      "metadata": {
        "id": "AEpA4vfl6_JK",
        "colab_type": "text"
      },
      "source": [
        "## lambda 함수 활용\n",
        "파이썬에서 \"lambda\" 는 런타임에 생성해서 사용할 수 있는 익명 함수로, 코드의 해당 영역에서만 사용될 함수를 표현하는데 사용됩니다.     \n",
        "주로 filter(), map(), reduce() 등의 함수와 함께 사용됩니다."
      ]
    },
    {
      "cell_type": "markdown",
      "metadata": {
        "id": "JwOF-MNR6_JK",
        "colab_type": "text"
      },
      "source": [
        "#### 기본 형식 \n",
        "(lambda <인자> : <코드>) (전달인자)"
      ]
    },
    {
      "cell_type": "code",
      "metadata": {
        "id": "2PPonYr56_JL",
        "colab_type": "code",
        "colab": {},
        "outputId": "240eac03-28c1-494a-e86d-69d0ca257cd4"
      },
      "source": [
        "def hap(x, y):\n",
        "    return x + y\n",
        "print(hap(10, 20))\n",
        "\n",
        "(lambda x,y: x + y)(10, 20) # 위와 동일한 일을 함"
      ],
      "execution_count": null,
      "outputs": [
        {
          "output_type": "stream",
          "text": [
            "30\n"
          ],
          "name": "stdout"
        },
        {
          "output_type": "execute_result",
          "data": {
            "text/plain": [
              "30"
            ]
          },
          "metadata": {
            "tags": []
          },
          "execution_count": 6
        }
      ]
    },
    {
      "cell_type": "markdown",
      "metadata": {
        "id": "l2mlJLxi6_JN",
        "colab_type": "text"
      },
      "source": [
        "일반적으로는 map(), filter() 등의 함수와 함께 쓰인다"
      ]
    },
    {
      "cell_type": "code",
      "metadata": {
        "id": "9R6vsasO6_JO",
        "colab_type": "code",
        "colab": {},
        "outputId": "e3771bbd-cecc-48b1-a091-115a438c3317"
      },
      "source": [
        "a = [1,2,3,4]\n",
        "\n",
        "list(map(lambda x: x ** 2, a))"
      ],
      "execution_count": null,
      "outputs": [
        {
          "output_type": "execute_result",
          "data": {
            "text/plain": [
              "[1, 4, 9, 16]"
            ]
          },
          "metadata": {
            "tags": []
          },
          "execution_count": 12
        }
      ]
    },
    {
      "cell_type": "code",
      "metadata": {
        "id": "9nTM5igK6_JS",
        "colab_type": "code",
        "colab": {}
      },
      "source": [
        ""
      ],
      "execution_count": null,
      "outputs": []
    },
    {
      "cell_type": "markdown",
      "metadata": {
        "id": "GRtshfIa6_JV",
        "colab_type": "text"
      },
      "source": [
        "## CPython?"
      ]
    },
    {
      "cell_type": "markdown",
      "metadata": {
        "id": "xrDmChAA6_JW",
        "colab_type": "text"
      },
      "source": [
        "- Python is a language. \n",
        "- CPython은 C언어로 구현한 original Python implementation으로 기본적으로 python.org에서 다운받으면 이걸 사용하고 있는것.\n",
        "- 마찬가지로 python언어로 구현한 것은 PyPy, Java로 구현한 것은 Jython 등이 있음.\n",
        "\n",
        "즉 to distinguish the implementation of the language engine from the Python programming language itself."
      ]
    },
    {
      "cell_type": "markdown",
      "metadata": {
        "id": "MQFl0bL86_JW",
        "colab_type": "text"
      },
      "source": [
        "## Singleton"
      ]
    },
    {
      "cell_type": "markdown",
      "metadata": {
        "id": "Nc-IJig56_JX",
        "colab_type": "text"
      },
      "source": [
        "- Class의 Instance가 생성될 때 Instance가 단 하나만 생성되게 하는 방법입니다.\n",
        "- 때로는 클래스 내부 값이 여러 컨텍스트에서 값을 잃지 말고 지속적으로 유지해야할 때가 있기 때문에 Singleton은 필요한 기법입니다.\n",
        "- 데이터베이스를 사용하는 등의 동작을 예로 들 수 있습니다.\n",
        "- 출처: https://wonjayk.tistory.com/262 [배고파서 까먹고 만든 블로그]"
      ]
    },
    {
      "cell_type": "code",
      "metadata": {
        "id": "FHA5RS1k6_JY",
        "colab_type": "code",
        "colab": {}
      },
      "source": [
        ""
      ],
      "execution_count": null,
      "outputs": []
    }
  ]
}