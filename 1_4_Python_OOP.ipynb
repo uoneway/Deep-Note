{
  "nbformat": 4,
  "nbformat_minor": 0,
  "metadata": {
    "kernelspec": {
      "display_name": "Python 3",
      "language": "python",
      "name": "python3"
    },
    "language_info": {
      "codemirror_mode": {
        "name": "ipython",
        "version": 3
      },
      "file_extension": ".py",
      "mimetype": "text/x-python",
      "name": "python",
      "nbconvert_exporter": "python",
      "pygments_lexer": "ipython3",
      "version": "3.7.7"
    },
    "toc": {
      "base_numbering": 1,
      "nav_menu": {},
      "number_sections": true,
      "sideBar": true,
      "skip_h1_title": false,
      "title_cell": "Table of Contents",
      "title_sidebar": "Contents",
      "toc_cell": false,
      "toc_position": {},
      "toc_section_display": true,
      "toc_window_display": true
    },
    "colab": {
      "name": "1_4_Python_OOP.ipynb",
      "provenance": [],
      "toc_visible": true,
      "include_colab_link": true
    }
  },
  "cells": [
    {
      "cell_type": "markdown",
      "metadata": {
        "id": "view-in-github",
        "colab_type": "text"
      },
      "source": [
        "<a href=\"https://colab.research.google.com/github/uoneway/python-note/blob/master/1_4_Python_OOP.ipynb\" target=\"_parent\"><img src=\"https://colab.research.google.com/assets/colab-badge.svg\" alt=\"Open In Colab\"/></a>"
      ]
    },
    {
      "cell_type": "markdown",
      "metadata": {
        "id": "Ig0qwHkEZ0O_",
        "colab_type": "text"
      },
      "source": [
        "Written by *uoneway(Kim Hangil)*   \n",
        "https://github.com/uoneway/python_note"
      ]
    },
    {
      "cell_type": "markdown",
      "metadata": {
        "id": "nS3MjfFncwDu",
        "colab_type": "text"
      },
      "source": [
        "본 문서 작성을 위해 다음의 자료들을 기본으로 다양한 자료들을 참고하였습니다.\n",
        "- [Python for Data Analysis: Data Wrangling with Pandas, NumPy, and IPython 2nd Edition by Wes McKinney](https://github.com/wesm/pydata-book)\n",
        "- [The Python Language Reference](https://docs.python.org/3/reference/index.html)\n",
        "- [The Python Standard Library](https://docs.python.org/3/library/index.html#library-index)"
      ]
    },
    {
      "cell_type": "code",
      "metadata": {
        "id": "P_Wxol55cwDw",
        "colab_type": "code",
        "colab": {}
      },
      "source": [
        "from IPython.core.interactiveshell import InteractiveShell\n",
        "InteractiveShell.ast_node_interactivity = \"all\""
      ],
      "execution_count": null,
      "outputs": []
    },
    {
      "cell_type": "markdown",
      "metadata": {
        "id": "zqGeBcnHcwD5",
        "colab_type": "text"
      },
      "source": [
        "# Functions"
      ]
    },
    {
      "cell_type": "markdown",
      "metadata": {
        "id": "gGSpKBrNcwD7",
        "colab_type": "text"
      },
      "source": [
        "## Function input/output"
      ]
    },
    {
      "cell_type": "markdown",
      "metadata": {
        "id": "4NO32OoAcwD8",
        "colab_type": "text"
      },
      "source": [
        "### parameter /argument"
      ]
    },
    {
      "cell_type": "markdown",
      "metadata": {
        "id": "vwQZTJD_cwD9",
        "colab_type": "text"
      },
      "source": [
        "- x, y, z는 매개변수(parameter). 이름에서 볼 수 있듯이 variable임\n",
        "- 6, 4, 1은 전달인자(argument) 라고함. 값(value)임"
      ]
    },
    {
      "cell_type": "code",
      "metadata": {
        "id": "WyeEKd6VcwD-",
        "colab_type": "code",
        "colab": {}
      },
      "source": [
        "def my_function(x, y, z=1.5): \n",
        "    if z > 1:\n",
        "        return z * (x + y)\n",
        "    else:\n",
        "        return z / (x + y)"
      ],
      "execution_count": null,
      "outputs": []
    },
    {
      "cell_type": "code",
      "metadata": {
        "id": "a9afr57WcwEI",
        "colab_type": "code",
        "colab": {},
        "outputId": "742e3f10-76e2-4f4a-d826-517fc29f4426"
      },
      "source": [
        "my_function(6, 4, 1)  \n",
        "my_function(1, 3)\n",
        "my_function(y=4, x=6, z=1) # 순서 바꿔서 하려면 모두 지정해줘야함 (4, 6, z=1) 같이는 안됨"
      ],
      "execution_count": null,
      "outputs": [
        {
          "output_type": "execute_result",
          "data": {
            "text/plain": [
              "0.1"
            ]
          },
          "metadata": {
            "tags": []
          },
          "execution_count": 12
        },
        {
          "output_type": "execute_result",
          "data": {
            "text/plain": [
              "6.0"
            ]
          },
          "metadata": {
            "tags": []
          },
          "execution_count": 12
        },
        {
          "output_type": "execute_result",
          "data": {
            "text/plain": [
              "0.1"
            ]
          },
          "metadata": {
            "tags": []
          },
          "execution_count": 12
        }
      ]
    },
    {
      "cell_type": "markdown",
      "metadata": {
        "id": "F8kdavT5cwEP",
        "colab_type": "text"
      },
      "source": [
        "#### parameter가 몇 개가 될지 모를 때: 가변 parameter 입력받기: `*args`"
      ]
    },
    {
      "cell_type": "code",
      "metadata": {
        "id": "8MR0m35rcwER",
        "colab_type": "code",
        "colab": {},
        "outputId": "d192f57d-03f9-4fed-d574-dc278c456d9f"
      },
      "source": [
        "def add_mul(choice, *args): \n",
        "    if choice == \"add\": \n",
        "        result = 0 \n",
        "        for i in args: \n",
        "            result = result + i \n",
        "    elif choice == \"mul\": \n",
        "        result = 1 \n",
        "        for i in args: \n",
        "            result = result * i \n",
        "    return result \n",
        "\n",
        "add_mul('mul',1,2,3,4)"
      ],
      "execution_count": null,
      "outputs": [
        {
          "output_type": "execute_result",
          "data": {
            "text/plain": [
              "24"
            ]
          },
          "metadata": {
            "tags": []
          },
          "execution_count": 14
        }
      ]
    },
    {
      "cell_type": "markdown",
      "metadata": {
        "id": "ALXyLTAfcwEe",
        "colab_type": "text"
      },
      "source": [
        "#### key=value값 인자로 받기. keyword arguments: `**kwargs` \n",
        "`**kwargs`처럼 매개변수 이름 앞에 `**`을 붙이면 매개변수 kwargs는 딕셔너리가 되고 모든 key=value 형태의 결괏값이 그 딕셔너리에 저장된다."
      ]
    },
    {
      "cell_type": "code",
      "metadata": {
        "id": "cMD7XWnhcwEg",
        "colab_type": "code",
        "colab": {},
        "outputId": "573c1732-d93d-440b-8192-c38e671aa61a"
      },
      "source": [
        "def print_kwargs(**kwargs):\n",
        "    print(kwargs)\n",
        "    \n",
        "print_kwargs(name='foo', age=3)"
      ],
      "execution_count": null,
      "outputs": [
        {
          "output_type": "stream",
          "text": [
            "{'name': 'foo', 'age': 3}\n"
          ],
          "name": "stdout"
        }
      ]
    },
    {
      "cell_type": "markdown",
      "metadata": {
        "id": "hxFvlqhAcwEn",
        "colab_type": "text"
      },
      "source": [
        "### Returning Multiple Values\n",
        "tuple 이용"
      ]
    },
    {
      "cell_type": "code",
      "metadata": {
        "id": "R6EqylX_cwEp",
        "colab_type": "code",
        "colab": {},
        "outputId": "69c85766-c8b5-4c27-9b9f-08b4d985f783"
      },
      "source": [
        "def f():\n",
        "    a = 5\n",
        "    b = 6\n",
        "    c = 7\n",
        "    return a, b, c\n",
        "\n",
        "a, b, c = f()\n",
        "print(a, b, c)"
      ],
      "execution_count": null,
      "outputs": [
        {
          "output_type": "stream",
          "text": [
            "5 6 7\n"
          ],
          "name": "stdout"
        }
      ]
    },
    {
      "cell_type": "code",
      "metadata": {
        "id": "jOIgYdLMcwEx",
        "colab_type": "code",
        "colab": {},
        "outputId": "05d1ac60-12e7-4b0c-a9c0-5458d80faf7b"
      },
      "source": [
        "return_value = f()\n",
        "return_value"
      ],
      "execution_count": null,
      "outputs": [
        {
          "output_type": "execute_result",
          "data": {
            "text/plain": [
              "(5, 6, 7)"
            ]
          },
          "metadata": {
            "tags": []
          },
          "execution_count": 29
        }
      ]
    },
    {
      "cell_type": "markdown",
      "metadata": {
        "id": "jCkmGGzLuEvl",
        "colab_type": "text"
      },
      "source": [
        "dict 이용"
      ]
    },
    {
      "cell_type": "code",
      "metadata": {
        "id": "02RLVHafcwE3",
        "colab_type": "code",
        "colab": {},
        "outputId": "40a11140-f26e-4da7-fca8-76bb672e817c"
      },
      "source": [
        "def d():\n",
        "    a = 5\n",
        "    b = 6\n",
        "    c = 7\n",
        "    return {'a' : 1, 'b' : 2, 'c' : 3}\n",
        "\n",
        "return_value = d()\n",
        "return_value"
      ],
      "execution_count": null,
      "outputs": [
        {
          "output_type": "execute_result",
          "data": {
            "text/plain": [
              "{'a': 1, 'b': 2, 'c': 3}"
            ]
          },
          "metadata": {
            "tags": []
          },
          "execution_count": 33
        }
      ]
    },
    {
      "cell_type": "markdown",
      "metadata": {
        "id": "HWrBXPTHcwFy",
        "colab_type": "text"
      },
      "source": [
        "### Functions Are Objects"
      ]
    },
    {
      "cell_type": "code",
      "metadata": {
        "id": "LqO_6-1vcwFz",
        "colab_type": "code",
        "colab": {}
      },
      "source": [
        "states = ['   Alabama ', 'Georgia!', 'Georgia', 'georgia', 'FlOrIda',\n",
        "          'south   carolina##', 'West virginia?']"
      ],
      "execution_count": null,
      "outputs": []
    },
    {
      "cell_type": "code",
      "metadata": {
        "id": "cjh8C3E5cwF5",
        "colab_type": "code",
        "colab": {}
      },
      "source": [
        "import re\n",
        "\n",
        "def remove_punctuation(value):\n",
        "    return re.sub('[!#?]', '', value)\n",
        "\n",
        "clean_ops = [str.strip, remove_punctuation, str.title]\n",
        "\n",
        "def clean_strings(strings, ops):\n",
        "    result = []\n",
        "    for value in strings:\n",
        "        for function in ops:\n",
        "            value = function(value)\n",
        "        result.append(value)\n",
        "    return result"
      ],
      "execution_count": null,
      "outputs": []
    },
    {
      "cell_type": "code",
      "metadata": {
        "id": "wh2GS-eQcwF_",
        "colab_type": "code",
        "colab": {},
        "outputId": "f25bcde7-4175-42b4-c997-b07b2fdb6c1d"
      },
      "source": [
        "clean_strings(states, clean_ops)"
      ],
      "execution_count": null,
      "outputs": [
        {
          "output_type": "execute_result",
          "data": {
            "text/plain": [
              "['Alabama',\n",
              " 'Georgia',\n",
              " 'Georgia',\n",
              " 'Georgia',\n",
              " 'Florida',\n",
              " 'South   Carolina',\n",
              " 'West Virginia']"
            ]
          },
          "metadata": {
            "tags": []
          },
          "execution_count": 38
        }
      ]
    },
    {
      "cell_type": "code",
      "metadata": {
        "id": "lyP66NSacwGR",
        "colab_type": "code",
        "colab": {},
        "outputId": "888bcb14-181e-4c59-dcaa-8502a366d7ab"
      },
      "source": [
        "for x in map(remove_punctuation, states):\n",
        "    print(x)"
      ],
      "execution_count": null,
      "outputs": [
        {
          "output_type": "stream",
          "text": [
            "   Alabama \n",
            "Georgia\n",
            "Georgia\n",
            "georgia\n",
            "FlOrIda\n",
            "south   carolina\n",
            "West virginia\n"
          ],
          "name": "stdout"
        }
      ]
    },
    {
      "cell_type": "markdown",
      "metadata": {
        "id": "_q8V0VIMcwFA",
        "colab_type": "text"
      },
      "source": [
        "### Namespaces, Scope, and Local Functions"
      ]
    },
    {
      "cell_type": "markdown",
      "metadata": {
        "id": "R3zLJhejcwFC",
        "colab_type": "text"
      },
      "source": [
        "파이썬에서 변수 scope은 함수를 경계로 결정된다.\n",
        "- 다른 언어와 다르게 for문 등의 블록 단위로는 제한되지 않음"
      ]
    },
    {
      "cell_type": "code",
      "metadata": {
        "id": "58UEXsJvcwFF",
        "colab_type": "code",
        "colab": {},
        "outputId": "d3378bff-fe0f-43fb-bf34-c995267b1b08"
      },
      "source": [
        "a = 1\n",
        "def vartest(a):\n",
        "    a = a +1\n",
        "\n",
        "vartest(a)\n",
        "print(a)"
      ],
      "execution_count": null,
      "outputs": [
        {
          "output_type": "stream",
          "text": [
            "1\n"
          ],
          "name": "stdout"
        }
      ]
    },
    {
      "cell_type": "code",
      "metadata": {
        "id": "3xekFqnlvQ5K",
        "colab_type": "code",
        "colab": {
          "base_uri": "https://localhost:8080/",
          "height": 35
        },
        "outputId": "774ba28d-5653-4740-e3e9-18e8e0946e64"
      },
      "source": [
        "for i in range(2):\n",
        "    mylist= []\n",
        "mylist"
      ],
      "execution_count": null,
      "outputs": [
        {
          "output_type": "execute_result",
          "data": {
            "text/plain": [
              "[]"
            ]
          },
          "metadata": {
            "tags": []
          },
          "execution_count": 2
        }
      ]
    },
    {
      "cell_type": "markdown",
      "metadata": {
        "id": "Dr-r2UKQvOY6",
        "colab_type": "text"
      },
      "source": [
        "함수 안에서 함수 밖의 변수를 변경하고자 할 때는 return 이용"
      ]
    },
    {
      "cell_type": "code",
      "metadata": {
        "id": "w0JgEB8gcwFM",
        "colab_type": "code",
        "colab": {},
        "outputId": "8279099d-c0ce-483a-ffd2-bad44a792314"
      },
      "source": [
        "a = 1 \n",
        "def vartest(a): \n",
        "    a = a +1 \n",
        "    return a\n",
        "\n",
        "a = vartest(a) \n",
        "print(a)"
      ],
      "execution_count": null,
      "outputs": [
        {
          "output_type": "stream",
          "text": [
            "2\n"
          ],
          "name": "stdout"
        }
      ]
    },
    {
      "cell_type": "markdown",
      "metadata": {
        "id": "wCglBDcwcwFf",
        "colab_type": "text"
      },
      "source": [
        "좋지 않은 예시들"
      ]
    },
    {
      "cell_type": "code",
      "metadata": {
        "id": "J5p49LC9cwFh",
        "colab_type": "code",
        "colab": {},
        "outputId": "1032d9d1-eade-4a5b-9fb1-8ca0efee11fa"
      },
      "source": [
        "a = []\n",
        "def func():\n",
        "    for i in range(5):\n",
        "        a.append(i)\n",
        "func()\n",
        "a"
      ],
      "execution_count": null,
      "outputs": [
        {
          "output_type": "execute_result",
          "data": {
            "text/plain": [
              "[0, 1, 2, 3, 4]"
            ]
          },
          "metadata": {
            "tags": []
          },
          "execution_count": 16
        }
      ]
    },
    {
      "cell_type": "code",
      "metadata": {
        "id": "2vcdQYxhcwFo",
        "colab_type": "code",
        "colab": {}
      },
      "source": [
        "# global도 가능하면 안쓰는게 좋음\n",
        "a = None\n",
        "def bind_a_variable():\n",
        "    global a\n",
        "    a = []\n",
        "bind_a_variable()\n",
        "print(a)"
      ],
      "execution_count": null,
      "outputs": []
    },
    {
      "cell_type": "markdown",
      "metadata": {
        "id": "BMLFW3e6cwGZ",
        "colab_type": "text"
      },
      "source": [
        "### Anonymous (Lambda) Functions"
      ]
    },
    {
      "cell_type": "code",
      "metadata": {
        "id": "pVpR2PGxcwGa",
        "colab_type": "code",
        "colab": {}
      },
      "source": [
        "def short_function(x):\n",
        "    return x * 2\n",
        "\n",
        "equiv_anon = lambda x: x * 2"
      ],
      "execution_count": null,
      "outputs": []
    },
    {
      "cell_type": "code",
      "metadata": {
        "id": "l-6lggUIcwGk",
        "colab_type": "code",
        "colab": {}
      },
      "source": [
        "def apply_to_list(some_list, f):\n",
        "    return [f(x) for x in some_list]\n",
        "\n",
        "ints = [4, 0, 1, 5, 6]\n",
        "apply_to_list(ints, lambda x: x * 2)"
      ],
      "execution_count": null,
      "outputs": []
    },
    {
      "cell_type": "code",
      "metadata": {
        "id": "-UlEHE_ZcwGq",
        "colab_type": "code",
        "colab": {}
      },
      "source": [
        "strings = ['foo', 'card', 'bar', 'aaaa', 'abab']"
      ],
      "execution_count": null,
      "outputs": []
    },
    {
      "cell_type": "code",
      "metadata": {
        "id": "XicyHtricwGw",
        "colab_type": "code",
        "colab": {}
      },
      "source": [
        "strings.sort(key=lambda x: len(set(list(x))))\n",
        "strings"
      ],
      "execution_count": null,
      "outputs": []
    },
    {
      "cell_type": "markdown",
      "metadata": {
        "id": "liAyZoQicwHL",
        "colab_type": "text"
      },
      "source": [
        "### Currying: Partial Argument Application"
      ]
    },
    {
      "cell_type": "code",
      "metadata": {
        "id": "1emny0-ucwHM",
        "colab_type": "code",
        "colab": {}
      },
      "source": [
        "def add_numbers(x, y):\n",
        "    return x + y"
      ],
      "execution_count": null,
      "outputs": []
    },
    {
      "cell_type": "code",
      "metadata": {
        "id": "b94SAy2ycwHR",
        "colab_type": "code",
        "colab": {}
      },
      "source": [
        "add_five = lambda y: add_numbers(5, y)"
      ],
      "execution_count": null,
      "outputs": []
    },
    {
      "cell_type": "code",
      "metadata": {
        "id": "fGnRYPprcwHX",
        "colab_type": "code",
        "colab": {}
      },
      "source": [
        "from functools import partial\n",
        "add_five = partial(add_numbers, 5)"
      ],
      "execution_count": null,
      "outputs": []
    },
    {
      "cell_type": "markdown",
      "metadata": {
        "id": "0p2xGf36cwJn",
        "colab_type": "text"
      },
      "source": [
        "# Class"
      ]
    },
    {
      "cell_type": "markdown",
      "metadata": {
        "id": "GUHff3LycwJn",
        "colab_type": "text"
      },
      "source": [
        "http://pythonstudy.xyz/python/article/19-%ED%81%B4%EB%9E%98%EC%8A%A4"
      ]
    },
    {
      "cell_type": "markdown",
      "metadata": {
        "id": "XylBGXWrcwJo",
        "colab_type": "text"
      },
      "source": [
        "## attribute and method\n",
        "파이썬에서 클래스는 전통적으로 크게 속성(attribute)과 메서드(method)를 갖는 논리적 단위이다.   \n",
        "하지만 속성뿐만 아니라 메서도 또한 attribute의 일종인 Callable attribute로 볼 수도 있기 때문에 클래스를 attribute를 갖는 단위라고도 생각할 수도 있다. "
      ]
    },
    {
      "cell_type": "markdown",
      "metadata": {
        "id": "onpcfcV7cwJq",
        "colab_type": "text"
      },
      "source": [
        "메서드\n",
        "- 인스턴스 메서드(instance method): 인스턴스를 핸들링 하기 위한 메서드.\n",
        "    - 따라서 인스턴스 속성에 엑세스할 수 있음\n",
        "    - 이를 위해 메서드의 첫번째 파라미터에 항상 클래스가 아닌 자신의 객체를 의미하는 \"self\"파라미터를 갖는다.\n",
        "\n",
        "또한 다음 두 가지가 있음\n",
        "공통점은 둘 다 인스턴스를 만들지 않아도 class의 메서드를 바로 실행할 수 있다는 것이다.    \n",
        "둘다 @ decorator를 이용해서 표시해줘야 함\n",
        "- 클래스 메서드(class method): class를 핸들링 하기 위한 메서드. \n",
        "    - 클래스 전체에서 관리해야할 기능이 있을 떄 주로 이용\n",
        "    - 이를 위해 메서드 첫번쨰 파라미터로 cls를 가짐. 이를 통해 클래스 변수 등을 엑세스할 수 있다.\n",
        "- 정적 메서드(static method)\n",
        "    - 클래스와 관련이 있어서 클래스 안에 선언하기는 하지만, 클래스나 인스턴스와는 무관하게 독립적으로 동작하는 함수를 만들고 싶을 때 이용. 당연히 self나 cls를 인자로 가지지 않음\n",
        "    - 용도: 주로 날짜 및 시간, 환율 정보와 같은... 일반적 정보제공에 이용\n",
        "    - [정적메소드에 대해 더 알아보기](https://wikidocs.net/21054)"
      ]
    },
    {
      "cell_type": "markdown",
      "metadata": {
        "id": "9tEH4Cx5cwJr",
        "colab_type": "text"
      },
      "source": [
        "변수\n",
        "- 인스턴스 변수(instance variable): 인스턴스에 depend된 변수\n",
        "- 클래스 변수(class variable): 클래스에 depend된 변수. 인스턴스 전체적 정보(생성된 인스턴스 수) 등을 담을때?"
      ]
    },
    {
      "cell_type": "markdown",
      "metadata": {
        "id": "lqct57wOcwJs",
        "colab_type": "text"
      },
      "source": [
        "public, protected, private 등의 접근 제한자 (Access Modifier) + ( setter/getter?)??   \n",
        "variable과 method 모두에 적용됨\n",
        "- public : name\n",
        "- protected : _name : 실제로는 public과 동일하게 작동하나 관례상\n",
        "- private : __name : 외부에서 접근 못함"
      ]
    },
    {
      "cell_type": "code",
      "metadata": {
        "id": "wQXNogxRcwJt",
        "colab_type": "code",
        "colab": {}
      },
      "source": [
        "class Rectangle:\n",
        "    # 클래스 변수\n",
        "    count = 0 \n",
        "    rectangle_list = []\n",
        "\n",
        "    def __init__(self, width, height):\n",
        "        # 인스턴스 변수\n",
        "        self.width = width\n",
        "        self.height = height\n",
        "        Rectangle.count += 1\n",
        "        Rectangle.rectangle_list.append(self)\n",
        "        \n",
        "        # 인스턴스 private 변수 __area\n",
        "        self.__area = width * height\n",
        " \n",
        "    # 인스턴스 메서드\n",
        "    def calcArea(self, a):\n",
        "        area = self.width * self.height+a\n",
        "        return area\n",
        "    \n",
        "    def get_area(self): # private 변수를 외부에서 접근해야 한다면 이러한 getter, setter 메소드를 만들어줌\n",
        "        return self.__area\n",
        "    def set_area(self, input):\n",
        "        self.__area = input\n",
        "    \n",
        "    \n",
        "    # private 인스턴스 메서드\n",
        "    def __internalRun(self):\n",
        "        pass\n",
        "    \n",
        "    def\n",
        " \n",
        "    # 정적 메서드\n",
        "    @staticmethod\n",
        "    def isSquare(rectWidth, rectHeight):\n",
        "        return rectWidth == rectHeight   \n",
        " \n",
        "    # 클래스 메서드\n",
        "    @classmethod\n",
        "    def printCount(cls):\n",
        "        print(cls.count)   \n",
        " \n",
        " \n",
        "# 테스트\n",
        "square = Rectangle.isSquare(5, 5)        \n",
        "print(square)   # True        \n",
        " \n",
        "rect1 = Rectangle(5, 5)\n",
        "rect2 = Rectangle(2, 5)\n",
        "rect1.printCount()  # 2 "
      ],
      "execution_count": null,
      "outputs": []
    },
    {
      "cell_type": "markdown",
      "metadata": {
        "id": "CTt3-5UycwJx",
        "colab_type": "text"
      },
      "source": [
        "## 상속(Inheritance), Overriding"
      ]
    },
    {
      "cell_type": "code",
      "metadata": {
        "id": "nw_7dYFucwJy",
        "colab_type": "code",
        "colab": {}
      },
      "source": [
        "# 부모클래스\n",
        "class Animal:\n",
        "    def __init__(self):\n",
        "        self.hungry = 0\n",
        "    def eat(self):\n",
        "        self.hungry -= 10\n",
        "        print(“밥먹음 ”, self.hungry)\n",
        "    def walk(self):\n",
        "        self.hungry += 10\n",
        "        print(“산책 ”, self.hungry)\n",
        "\n",
        "# 자식클래스\n",
        "class Dog(Animal):  # 상속을 따로 명시해주지 않는 클래스들은 생략됐지만 모두 object를 상속받은 것\n",
        "    def __init__(self):\n",
        "        super().__init__()  # 상속\n",
        "        \n",
        "    def sound(self):\n",
        "        print(“멍멍”)\n",
        "        \n",
        "    def eat(self):  # 오버라이딩\n",
        "        super().eat()\n",
        "        print(“왈왈”)"
      ],
      "execution_count": null,
      "outputs": []
    },
    {
      "cell_type": "markdown",
      "metadata": {
        "id": "TufukpKMcwJ6",
        "colab_type": "text"
      },
      "source": [
        "### Abstract class(추상클래스)\n",
        "animal이란 동물은 없으니까. 이건 instance로 구현되면 안되고 이를 상속받아서만 써야한다."
      ]
    },
    {
      "cell_type": "code",
      "metadata": {
        "id": "k2PJY9BmcwJ7",
        "colab_type": "code",
        "colab": {}
      },
      "source": [
        "# 방법1. method 단에서 강제: 추상클래스 생성까지 막지는 못함.(물론 직접 추상클래스의 sound() call 하면 오류 발생)\n",
        "class Animal():  # 추상클래스\n",
        "    def __init__(self):\n",
        "        pass\n",
        "    def sound(self):\n",
        "        raise NotImplementedError  \n",
        "\n",
        "class Dog(Animal):\n",
        "    def __init__(self):\n",
        "        super().__init__()\n",
        "    def sound(self):  # 무조건 구현되어야 한다. 구현되지 않으면 오류 발생\n",
        "        print('멍멍')"
      ],
      "execution_count": null,
      "outputs": []
    },
    {
      "cell_type": "code",
      "metadata": {
        "id": "Br6sDc6bcwKA",
        "colab_type": "code",
        "colab": {}
      },
      "source": [
        "a = Animal()  # 가능은 함\n",
        "a.sound()  # 오류 발생\n",
        "\n",
        "d = Dog()  # 정상작동. 만약 Dog 클래스에서 sound() 함수를 구현하지 않았다면 오류 발생\n",
        "d.sound() "
      ],
      "execution_count": null,
      "outputs": []
    },
    {
      "cell_type": "code",
      "metadata": {
        "id": "4aLfh_EycwKM",
        "colab_type": "code",
        "colab": {}
      },
      "source": [
        "# 방법2. 요즘버전. abc package 이용. 추상클래스 생성도 불가\n",
        "from abc import *\n",
        "\n",
        "class Animal(metaclass=ABCMeta):\n",
        "    def __init__(self):\n",
        "        pass\n",
        "        \n",
        "    @abstractmethod\n",
        "    def sound(self):\n",
        "          pass    \n",
        "        \n",
        "class Dog(Animal):\n",
        "    def __init__(self):\n",
        "        super().__init__()\n",
        "    def sound(self):  # 무조건 구현되어야 한다. 구현되지 않으면 오류 발생\n",
        "        print('멍멍')"
      ],
      "execution_count": null,
      "outputs": []
    },
    {
      "cell_type": "code",
      "metadata": {
        "id": "-qJC2MJlcwKX",
        "colab_type": "code",
        "colab": {}
      },
      "source": [
        "a = Animal()  # 오류 발생\n",
        "\n",
        "d = Dog()  # 정상작동. 만약 Dog 클래스에서 sound() 함수를 구현하지 않았다면 오류 발생\n",
        "d.sound() "
      ],
      "execution_count": null,
      "outputs": []
    },
    {
      "cell_type": "code",
      "metadata": {
        "id": "nU0y7pkLcwKa",
        "colab_type": "code",
        "colab": {}
      },
      "source": [
        ""
      ],
      "execution_count": null,
      "outputs": []
    }
  ]
}